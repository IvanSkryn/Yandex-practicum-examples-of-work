{
 "cells": [
  {
   "cell_type": "markdown",
   "id": "8950cd9e",
   "metadata": {},
   "source": [
    "<div style=\"border:solid green 3px; padding: 20px\">\n",
    "\t\t\t\t\t\t\t\t\t\t\t\t\t\t\t\t\t\t\t\t\t\n",
    "<b>Привет!</b>\n",
    "\t\t\t\t\t\t\t\t\t\t\t\t\t\t\t\t\t\t\t\t\t\n",
    "Меня зовут Сороколетов Илья и я буду проверять твой проект. \n",
    "\t\t\t\t\t\t\t\t\t\t\t\t\t\t\t\t\t\t\t\t\t\n",
    "Предлагаю общаться на «**ты**», но если тебе будет комфортнее общаться на «**вы**», то сообщи об этом в комментариях)\n",
    "\t\t\t\t\t\t\t\t\t\t\t\t\t\t\t\t\t\t\t\t\t\n",
    "\t\t\t\t\t\t\t\t\t\t\t\t\t\t\t\t\t\t\t\t\t\n",
    "Для твоего удобства, я буду выделять свои комментарии следующим образом:\n",
    "\t\t\t\t\t\t\t\t\t\t\t\t\t\t\t\t\t\t\t\t\t\n",
    "<div class=\"alert alert-danger\">\n",
    "<b>❌ Комментарий ревьюера v1:</b> Самые важные замечания. Они указывают на ключевые моменты, которые влияют на конечный результат проекта. </div>\n",
    "\t\t\t\t\t\t\t\t\t\t\t\t\t\t\t\t\t\t\t\t\t\n",
    "<div class=\"alert alert-warning\">\n",
    "<b>⚠️ Комментарий ревьюера v1:</b> Советы или замечания, которые помогут сделать твою работу лучше, но необязательны к выполнению.\n",
    "\t\t\t\t\t\t\t\t\t\t\t\t\t\t\t\t\t\t\t\t\t\n",
    "</div>\n",
    "\t\t\t\t\t\t\t\t\t\t\t\t\t\t\t\t\t\t\t\t\t\n",
    "<div class=\"alert alert-success\">\n",
    "<b>✔️ Комментарий ревьюера v1:</b> Так я выделяю все остальные комментарии.</div>\n",
    "\t\t\t\t\t\t\t\t\t\t\t\t\t\t\t\t\t\t\t\t\t\n",
    "\t\t\t\t\t\t\t\t\t\t\t\t\t\t\t\t\t\t\t\t\t\n",
    "Пометками <b>v1-v2-v3-...</b> я буду отмечать версию проверки. Так ты сможешь быстро найти мои новые комментарии.\n",
    "\t\t\t\t\t\t\t\t\t\t\t\t\t\t\t\t\t\t\t\t\t\n",
    "Давай работать над проектом в диалоге: если ты что-то меняешь в проекте по моим рекомендациям — пиши об этом. Выбери для своих комментариев какой-то заметный цвет, так мне будет легче отследить изменения, например вот так:\n",
    "\t\t\t\t\t\t\t\t\t\t\t\t\t\t\t\t\t\t\t\t\t    \n",
    "<div class=\"alert alert-info\">\n",
    "<b>Комментарий студента:</b>\n",
    "<br>\n",
    "</div>\n",
    "\t\t\t\t\t\t\t\t\t\t\t\t\t\t\t\t\t\t\t\t\t\n",
    "<b>Пожалуйста, не перемещай, не изменяй и не удаляй мои комментарии.</b> Если ты оставляешь свои комментарии, то делай это под моими, чтобы сообщения были расположены в хронологическом порядке. Всё это поможет выполнить повторную проверку твоего проекта быстрее. \n",
    "\t\t\t\t\t\t\t\t\t\t\t\t\t\t\t\t\t\t\t\t\t\n",
    "Перед отправкой работы я рекомендую нажимать Kernel -> Restart & Run All. Это перезапустит ядро и по очереди выполнит все ячейки. Так ты сможешь проверить, что всё работает корректно. Кнопка Kernel находится в панели сверху\n",
    "\t\t\t\t\t\t\t\t\t\t\t\t\t\t\t\t\t\t\t\t\t\n",
    "Обязательно задавай вопросы если они возникнут, а я перехожу к проверке)\n",
    "\t\t\t\t\t\t\t\t\t\t\t\t\t\t\t\t\t\t\t\t\t\n",
    "P.S. На всякий случай, я оставлю пустой шаблон для твоих комментариев ниже. Кликни два раза на мой комментарий, скопируй последние четыре строчки кода и вставляй их в пустую ячейку там, где ты хочешь оставить комментарий. Не забудь только перед этим сменить тип ячейки на Markdown. Быстро это можно сделать так: кликнуть на ячейку - нажать ESC - нажать M. \n",
    "\t\t\t\t\t\t\t\t\t\t\t\t\t\t\t\t\t\t\t\t\t    \n",
    "\t\t\t\t\t\t\t\t\t\t\t\t\t\t\t\t\t\t\t\t\t    \n",
    "<div class=\"alert alert-info\">\n",
    "<b>Комментарий студента:</b>\n",
    "<br>Удали этот текст и вместо него напиши свой комментарий 🙂\n",
    "</div>"
   ]
  },
  {
   "cell_type": "markdown",
   "id": "9271b5f8",
   "metadata": {},
   "source": [
    "<div class=\"alert alert-danger\">\n",
    "<b>❌ Комментарий ревьюера v1:</b> \n",
    "<br>Важно оставлять перед проектом краткое описание задачи. Это поможет тебе быстро вспомнить о чем проект, если спустя время ты решишь к нему вернуться)\n",
    "</div>"
   ]
  },
  {
   "cell_type": "markdown",
   "id": "66507dd2",
   "metadata": {},
   "source": [
    "<div class=\"alert alert-info\">\n",
    "<b>Комментарий студента:</b>\n",
    "<br>Добавил краткое описание задачи\n",
    "</div>"
   ]
  },
  {
   "cell_type": "markdown",
   "id": "45c1c262",
   "metadata": {},
   "source": [
    "# Краткое описание:\n",
    "\n",
    "Проверка нескольких гипотез на основе полученных данных из сервиса по аренде самокатов.\\\n",
    "Какие пользователи более \"выгодны\" компании?\\\n",
    "Как влияет подписка на ползование сервисом?"
   ]
  },
  {
   "cell_type": "markdown",
   "id": "77caeba4",
   "metadata": {},
   "source": [
    "<div class=\"alert alert-success\">\n",
    "<b>✔️ Комментарий ревьюера v2:</b>\n",
    "<br>Правка выполнена 👍\n",
    "</div>"
   ]
  },
  {
   "cell_type": "code",
   "execution_count": 1,
   "id": "72576667",
   "metadata": {},
   "outputs": [],
   "source": [
    "import pandas as pd\n",
    "import matplotlib.pyplot as plt\n",
    "import numpy as np\n",
    "import seaborn as sns\n",
    "from scipy import stats as st\n",
    "from scipy.stats import binom"
   ]
  },
  {
   "cell_type": "markdown",
   "id": "5ad1053a",
   "metadata": {},
   "source": [
    "<div class=\"alert alert-success\">\n",
    "<b>✔️ Комментарий ревьюера v1:</b> \n",
    "<br>Молодец, что импортируешь все библиотеки отдельно в первой ячейке. Это правило хорошего тона, которое позволит твоим коллегам сразу увидеть все необходимые библиотеки для работы с твоим файлом.\n",
    "</div>"
   ]
  },
  {
   "cell_type": "markdown",
   "id": "c42cbe00",
   "metadata": {},
   "source": [
    "## Шаг 1. Загрузка данных"
   ]
  },
  {
   "cell_type": "code",
   "execution_count": 2,
   "id": "eff9f206",
   "metadata": {},
   "outputs": [
    {
     "name": "stdout",
     "output_type": "stream",
     "text": [
      "   user_id        name  age            city subscription_type\n",
      "0        1        Кира   22          Тюмень             ultra\n",
      "1        2   Станислав   31            Омск             ultra\n",
      "2        3     Алексей   20          Москва             ultra\n",
      "3        4  Константин   26  Ростов-на-Дону             ultra\n",
      "4        5       Адель   28            Омск             ultra\n",
      "5        6      Регина   25       Краснодар             ultra\n",
      "6        7       Игорь   23            Омск             ultra\n",
      "7        8        Юрий   23       Краснодар             ultra\n",
      "8        9          Ян   21       Пятигорск             ultra\n",
      "9       10     Валерий   18    Екатеринбург             ultra\n",
      "   user_id     distance   duration       date\n",
      "0        1  4409.919140  25.599769 2021-01-01\n",
      "1        1  2617.592153  15.816871 2021-01-18\n",
      "2        1   754.159807   6.232113 2021-04-20\n",
      "3        1  2694.783254  18.511000 2021-08-11\n",
      "4        1  4028.687306  26.265803 2021-08-28\n",
      "5        1  2770.890808  16.650138 2021-10-09\n",
      "6        1  3039.020292  14.927879 2021-10-19\n",
      "7        1  2842.118050  23.117468 2021-11-06\n",
      "8        1  3412.690668  15.238072 2021-11-14\n",
      "9        1   748.690645  15.041884 2021-11-22\n",
      "  subscription_type  minute_price  start_ride_price  subscription_fee\n",
      "0              free             8                50                 0\n",
      "1             ultra             6                 0               199\n"
     ]
    }
   ],
   "source": [
    "users_go = pd.read_csv('/datasets/users_go.csv')\n",
    "rides_go = pd.read_csv('/datasets/rides_go.csv', parse_dates=['date'])\n",
    "subscriptions_go = pd.read_csv('/datasets/subscriptions_go.csv')\n",
    "print(users_go.head(10))\n",
    "\n",
    "print(rides_go.head(10))\n",
    "\n",
    "print(subscriptions_go.head(10))"
   ]
  },
  {
   "cell_type": "markdown",
   "id": "7142c8c1",
   "metadata": {},
   "source": [
    "\n",
    "<div class=\"alert alert-danger\">\n",
    "<b>❌ Комментарий ревьюера v1:</b> \n",
    "<br>Стоит написать короткий вывод после первичного анализа данных, который будет планом для дальнейшей предоработки. \n",
    "</div>"
   ]
  },
  {
   "cell_type": "markdown",
   "id": "15c793fd",
   "metadata": {},
   "source": [
    "<div class=\"alert alert-info\">\n",
    "<b>Комментарий студента:</b>\n",
    "<br>Добавил вывод под коментарием."
   ]
  },
  {
   "cell_type": "markdown",
   "id": "05ed63c0",
   "metadata": {},
   "source": [
    "# Вывод:\n",
    "1. У нас есть три таблицы с различнимы данными о пользователях.\\\n",
    "2. Есть два типа подписки у пользователей free и ultra.\\\n",
    "3. В будующем можно объеденить 2 таблицы по индексу пользователей, а затем объеденить все в один датафрейм по виду подписки.\\\n",
    "4. Можно округлить значения в колонке duration.\n",
    "5. Цена за минуту поездки разная для разных типов подписки(8 для free и 6 для ultra), так же старт поездки бесплатен для пользователей с подпиской, а пользователи без подписки платят 50р за каждый старт."
   ]
  },
  {
   "cell_type": "markdown",
   "id": "287999a5",
   "metadata": {},
   "source": [
    "<div class=\"alert alert-success\">\n",
    "<b>✔️ Комментарий ревьюера v2:</b>\n",
    "<br>Правка выполнена 👍\n",
    "</div>"
   ]
  },
  {
   "cell_type": "markdown",
   "id": "e95ebca7",
   "metadata": {},
   "source": [
    "## Шаг 2. Предобработка данных"
   ]
  },
  {
   "cell_type": "code",
   "execution_count": 3,
   "id": "af6d202c",
   "metadata": {},
   "outputs": [],
   "source": [
    "#rides_go['date'] = pd.to_datetime(rides_go['date'], format='%Y.%m.%d')"
   ]
  },
  {
   "cell_type": "markdown",
   "id": "85058ebc",
   "metadata": {},
   "source": [
    "<div class=\"alert alert-success\">\n",
    "<b>✔️ Комментарий ревьюера v1:</b> \n",
    "<br>Тип данных изменён верно! \n",
    "</div>\n",
    "\t\t\t\t\n",
    "<div class=\"alert alert-warning\">\n",
    "<b>⚠️ Комментарий ревьюера v1:</b> \n",
    "<br>Если при загрузке данных добавить параметр parse_dates: parse_dates=['date'] то список столбцов автоматически переведется в даты. Подробнее про это можно прочитать по ссылке ниже\n",
    "\t\t\t\t\n",
    "\thttps://newtechaudit.ru/gruzi-daty-krasivo/\n",
    "</div>"
   ]
  },
  {
   "cell_type": "markdown",
   "id": "dafa852c",
   "metadata": {},
   "source": [
    "<div class=\"alert alert-info\">\n",
    "<b>Комментарий студента:</b>\n",
    "<br>Сделал так как посоветовал, получается удобнее, если заранее знать как называется столбец с датами), а там где я менял формат я закомментировал строку."
   ]
  },
  {
   "cell_type": "code",
   "execution_count": 4,
   "id": "a9405107",
   "metadata": {},
   "outputs": [],
   "source": [
    "rides_go['month'] = rides_go['date'].dt.month"
   ]
  },
  {
   "cell_type": "markdown",
   "id": "2a330a61",
   "metadata": {},
   "source": [
    "<div class=\"alert alert-success\">\n",
    "<b>✔️ Комментарий ревьюера v1:</b> \n",
    "<br>Новый столбец создан верно!\n",
    "</div>"
   ]
  },
  {
   "cell_type": "code",
   "execution_count": 5,
   "id": "73fb8aa2",
   "metadata": {
    "scrolled": true
   },
   "outputs": [
    {
     "name": "stdout",
     "output_type": "stream",
     "text": [
      "<class 'pandas.core.frame.DataFrame'>\n",
      "RangeIndex: 1565 entries, 0 to 1564\n",
      "Data columns (total 5 columns):\n",
      " #   Column             Non-Null Count  Dtype \n",
      "---  ------             --------------  ----- \n",
      " 0   user_id            1565 non-null   int64 \n",
      " 1   name               1565 non-null   object\n",
      " 2   age                1565 non-null   int64 \n",
      " 3   city               1565 non-null   object\n",
      " 4   subscription_type  1565 non-null   object\n",
      "dtypes: int64(2), object(3)\n",
      "memory usage: 61.3+ KB\n"
     ]
    }
   ],
   "source": [
    "users_go.info()"
   ]
  },
  {
   "cell_type": "code",
   "execution_count": 6,
   "id": "52d5443a",
   "metadata": {},
   "outputs": [
    {
     "name": "stdout",
     "output_type": "stream",
     "text": [
      "<class 'pandas.core.frame.DataFrame'>\n",
      "RangeIndex: 18068 entries, 0 to 18067\n",
      "Data columns (total 5 columns):\n",
      " #   Column    Non-Null Count  Dtype         \n",
      "---  ------    --------------  -----         \n",
      " 0   user_id   18068 non-null  int64         \n",
      " 1   distance  18068 non-null  float64       \n",
      " 2   duration  18068 non-null  float64       \n",
      " 3   date      18068 non-null  datetime64[ns]\n",
      " 4   month     18068 non-null  int64         \n",
      "dtypes: datetime64[ns](1), float64(2), int64(2)\n",
      "memory usage: 705.9 KB\n"
     ]
    }
   ],
   "source": [
    "rides_go.info()"
   ]
  },
  {
   "cell_type": "code",
   "execution_count": 7,
   "id": "1af639d2",
   "metadata": {},
   "outputs": [
    {
     "name": "stdout",
     "output_type": "stream",
     "text": [
      "<class 'pandas.core.frame.DataFrame'>\n",
      "RangeIndex: 2 entries, 0 to 1\n",
      "Data columns (total 4 columns):\n",
      " #   Column             Non-Null Count  Dtype \n",
      "---  ------             --------------  ----- \n",
      " 0   subscription_type  2 non-null      object\n",
      " 1   minute_price       2 non-null      int64 \n",
      " 2   start_ride_price   2 non-null      int64 \n",
      " 3   subscription_fee   2 non-null      int64 \n",
      "dtypes: int64(3), object(1)\n",
      "memory usage: 192.0+ bytes\n"
     ]
    }
   ],
   "source": [
    "subscriptions_go.info()"
   ]
  },
  {
   "cell_type": "code",
   "execution_count": 8,
   "id": "82ba8345",
   "metadata": {
    "scrolled": true
   },
   "outputs": [
    {
     "name": "stdout",
     "output_type": "stream",
     "text": [
      "31\n",
      "0\n",
      "0\n"
     ]
    }
   ],
   "source": [
    "print(users_go.duplicated().sum())\n",
    "print(rides_go.duplicated().sum())\n",
    "print(subscriptions_go.duplicated().sum())"
   ]
  },
  {
   "cell_type": "code",
   "execution_count": 9,
   "id": "5abd73d6",
   "metadata": {},
   "outputs": [],
   "source": [
    "users_go = users_go.drop_duplicates()"
   ]
  },
  {
   "cell_type": "markdown",
   "id": "06da3bcd",
   "metadata": {},
   "source": [
    "<div class=\"alert alert-success\">\n",
    "<b>✔️ Комментарий ревьюера v1:</b>\n",
    "<br>Проверка на дубликаты выполнена!\n",
    "</div>"
   ]
  },
  {
   "cell_type": "code",
   "execution_count": 10,
   "id": "f442a39d",
   "metadata": {
    "scrolled": true
   },
   "outputs": [
    {
     "data": {
      "text/plain": [
       "array(['Тюмень', 'Омск', 'Москва', 'Ростов-на-Дону', 'Краснодар',\n",
       "       'Пятигорск', 'Екатеринбург', 'Сочи'], dtype=object)"
      ]
     },
     "execution_count": 10,
     "metadata": {},
     "output_type": "execute_result"
    }
   ],
   "source": [
    "users_go['city'].unique()"
   ]
  },
  {
   "cell_type": "code",
   "execution_count": 11,
   "id": "c48fc3a6",
   "metadata": {},
   "outputs": [],
   "source": [
    "users_go['city'] = users_go['city'].replace('Ростов-на-Дону','Ростов_на_Дону',regex=True)"
   ]
  },
  {
   "cell_type": "code",
   "execution_count": 12,
   "id": "93563a8d",
   "metadata": {},
   "outputs": [
    {
     "name": "stdout",
     "output_type": "stream",
     "text": [
      "user_id              0\n",
      "name                 0\n",
      "age                  0\n",
      "city                 0\n",
      "subscription_type    0\n",
      "dtype: int64\n",
      "user_id     0\n",
      "distance    0\n",
      "duration    0\n",
      "date        0\n",
      "month       0\n",
      "dtype: int64\n",
      "subscription_type    0\n",
      "minute_price         0\n",
      "start_ride_price     0\n",
      "subscription_fee     0\n",
      "dtype: int64\n"
     ]
    }
   ],
   "source": [
    "print(users_go.isna().sum())\n",
    "\n",
    "print(rides_go.isna().sum())\n",
    "\n",
    "print(subscriptions_go.isna().sum())"
   ]
  },
  {
   "cell_type": "markdown",
   "id": "06381f70",
   "metadata": {},
   "source": [
    "# Вывод по разделу:\n",
    "1. Изменил формат даты, на datetime64.\n",
    "2. Добавил столбец с номером месяца.\n",
    "3. Убрал дупликаты из дата фрейма users_go\n",
    "4. Переминовал город Ростов на Дону к змеиному регистру.\n",
    "5. Пустых значений не обнаруженно.\n",
    " "
   ]
  },
  {
   "cell_type": "markdown",
   "id": "5df55045",
   "metadata": {},
   "source": [
    "<div class=\"alert alert-success\">\n",
    "<b>✔️ Комментарий ревьюера v1:</b> \n",
    "<br>С предобработкой закончили. Переходим к исследовательскому анализу!\n",
    "</div>"
   ]
  },
  {
   "cell_type": "markdown",
   "id": "212593c7",
   "metadata": {},
   "source": [
    "## Шаг 3. Исследовательский анализ данных"
   ]
  },
  {
   "cell_type": "code",
   "execution_count": 13,
   "id": "4e1ea26d",
   "metadata": {},
   "outputs": [
    {
     "data": {
      "text/html": [
       "<div>\n",
       "<style scoped>\n",
       "    .dataframe tbody tr th:only-of-type {\n",
       "        vertical-align: middle;\n",
       "    }\n",
       "\n",
       "    .dataframe tbody tr th {\n",
       "        vertical-align: top;\n",
       "    }\n",
       "\n",
       "    .dataframe thead th {\n",
       "        text-align: right;\n",
       "    }\n",
       "</style>\n",
       "<table border=\"1\" class=\"dataframe\">\n",
       "  <thead>\n",
       "    <tr style=\"text-align: right;\">\n",
       "      <th></th>\n",
       "      <th>user_id</th>\n",
       "      <th>name</th>\n",
       "      <th>age</th>\n",
       "      <th>city</th>\n",
       "      <th>subscription_type</th>\n",
       "    </tr>\n",
       "  </thead>\n",
       "  <tbody>\n",
       "    <tr>\n",
       "      <th>766</th>\n",
       "      <td>767</td>\n",
       "      <td>Ксения</td>\n",
       "      <td>28</td>\n",
       "      <td>Екатеринбург</td>\n",
       "      <td>free</td>\n",
       "    </tr>\n",
       "    <tr>\n",
       "      <th>896</th>\n",
       "      <td>897</td>\n",
       "      <td>Алиса</td>\n",
       "      <td>27</td>\n",
       "      <td>Екатеринбург</td>\n",
       "      <td>free</td>\n",
       "    </tr>\n",
       "    <tr>\n",
       "      <th>195</th>\n",
       "      <td>196</td>\n",
       "      <td>Татьяна</td>\n",
       "      <td>35</td>\n",
       "      <td>Екатеринбург</td>\n",
       "      <td>ultra</td>\n",
       "    </tr>\n",
       "    <tr>\n",
       "      <th>890</th>\n",
       "      <td>891</td>\n",
       "      <td>Захар</td>\n",
       "      <td>19</td>\n",
       "      <td>Екатеринбург</td>\n",
       "      <td>free</td>\n",
       "    </tr>\n",
       "    <tr>\n",
       "      <th>887</th>\n",
       "      <td>888</td>\n",
       "      <td>Эмиль</td>\n",
       "      <td>34</td>\n",
       "      <td>Екатеринбург</td>\n",
       "      <td>free</td>\n",
       "    </tr>\n",
       "    <tr>\n",
       "      <th>...</th>\n",
       "      <td>...</td>\n",
       "      <td>...</td>\n",
       "      <td>...</td>\n",
       "      <td>...</td>\n",
       "      <td>...</td>\n",
       "    </tr>\n",
       "    <tr>\n",
       "      <th>505</th>\n",
       "      <td>506</td>\n",
       "      <td>Вероника</td>\n",
       "      <td>26</td>\n",
       "      <td>Тюмень</td>\n",
       "      <td>ultra</td>\n",
       "    </tr>\n",
       "    <tr>\n",
       "      <th>1181</th>\n",
       "      <td>1182</td>\n",
       "      <td>Одиссей</td>\n",
       "      <td>26</td>\n",
       "      <td>Тюмень</td>\n",
       "      <td>free</td>\n",
       "    </tr>\n",
       "    <tr>\n",
       "      <th>507</th>\n",
       "      <td>508</td>\n",
       "      <td>Станислав</td>\n",
       "      <td>15</td>\n",
       "      <td>Тюмень</td>\n",
       "      <td>ultra</td>\n",
       "    </tr>\n",
       "    <tr>\n",
       "      <th>1098</th>\n",
       "      <td>1099</td>\n",
       "      <td>Назар</td>\n",
       "      <td>23</td>\n",
       "      <td>Тюмень</td>\n",
       "      <td>free</td>\n",
       "    </tr>\n",
       "    <tr>\n",
       "      <th>0</th>\n",
       "      <td>1</td>\n",
       "      <td>Кира</td>\n",
       "      <td>22</td>\n",
       "      <td>Тюмень</td>\n",
       "      <td>ultra</td>\n",
       "    </tr>\n",
       "  </tbody>\n",
       "</table>\n",
       "<p>1534 rows × 5 columns</p>\n",
       "</div>"
      ],
      "text/plain": [
       "      user_id       name  age          city subscription_type\n",
       "766       767     Ксения   28  Екатеринбург              free\n",
       "896       897      Алиса   27  Екатеринбург              free\n",
       "195       196    Татьяна   35  Екатеринбург             ultra\n",
       "890       891      Захар   19  Екатеринбург              free\n",
       "887       888      Эмиль   34  Екатеринбург              free\n",
       "...       ...        ...  ...           ...               ...\n",
       "505       506   Вероника   26        Тюмень             ultra\n",
       "1181     1182    Одиссей   26        Тюмень              free\n",
       "507       508  Станислав   15        Тюмень             ultra\n",
       "1098     1099      Назар   23        Тюмень              free\n",
       "0           1       Кира   22        Тюмень             ultra\n",
       "\n",
       "[1534 rows x 5 columns]"
      ]
     },
     "execution_count": 13,
     "metadata": {},
     "output_type": "execute_result"
    }
   ],
   "source": [
    "users_go.sort_values('city')"
   ]
  },
  {
   "cell_type": "code",
   "execution_count": 14,
   "id": "e3a4274c",
   "metadata": {
    "scrolled": true
   },
   "outputs": [],
   "source": [
    "users_sort_by_city = (users_go\n",
    "                      .pivot_table(index='city', values='user_id', aggfunc='count')\n",
    "                      .sort_values('user_id', ascending=False).reset_index()\n",
    "                     )"
   ]
  },
  {
   "cell_type": "code",
   "execution_count": 15,
   "id": "9654ecd2",
   "metadata": {
    "scrolled": true
   },
   "outputs": [
    {
     "data": {
      "image/png": "[encoded data removed]",
      "text/plain": [
       "<Figure size 864x576 with 1 Axes>"
      ]
     },
     "metadata": {
      "needs_background": "light"
     },
     "output_type": "display_data"
    }
   ],
   "source": [
    "fig, ax = plt.subplots(figsize=(12, 8))\n",
    "sns.barplot(x=users_sort_by_city['city'], y=users_sort_by_city['user_id'], data=users_sort_by_city);\n",
    "plt.title('Количество пользователей по городам')\n",
    "plt.ylabel('Кол-во пользователей')\n",
    "plt.xlabel('Города')\n",
    "plt.show()"
   ]
  },
  {
   "cell_type": "markdown",
   "id": "60ecb345",
   "metadata": {},
   "source": [
    "<div class=\"alert alert-success\">\n",
    "<b>✔️ Комментарий ревьюера v1:</b>\n",
    "<br>Молодец, что подписываешь график и его оси, а так же не забываешь про сортировку!\n",
    "</div>"
   ]
  },
  {
   "cell_type": "markdown",
   "id": "f69c294d",
   "metadata": {},
   "source": [
    "Самое большое кол-во пользователей в Пятигорске, самое малое в Москве"
   ]
  },
  {
   "cell_type": "code",
   "execution_count": 16,
   "id": "91657a7d",
   "metadata": {},
   "outputs": [],
   "source": [
    "users_sort_by_subs = (users_go\n",
    "                      .pivot_table(index='subscription_type',values='user_id',aggfunc='count')\n",
    "                      .sort_values('user_id', ascending=False)\n",
    "                      .reset_index()\n",
    "                     )"
   ]
  },
  {
   "cell_type": "code",
   "execution_count": 17,
   "id": "ddd5d933",
   "metadata": {
    "scrolled": true
   },
   "outputs": [
    {
     "name": "stdout",
     "output_type": "stream",
     "text": [
      "  subscription_type  user_id\n",
      "0              free      835\n",
      "1             ultra      699\n"
     ]
    }
   ],
   "source": [
    "print(users_sort_by_subs)"
   ]
  },
  {
   "cell_type": "code",
   "execution_count": 18,
   "id": "bec63dbb",
   "metadata": {
    "scrolled": true
   },
   "outputs": [
    {
     "data": {
      "image/png": "[encoded data removed]",
      "text/plain": [
       "<Figure size 1440x360 with 1 Axes>"
      ]
     },
     "metadata": {},
     "output_type": "display_data"
    }
   ],
   "source": [
    "plt.rcParams[\"figure.figsize\"] = (20,5)\n",
    "plt.pie(users_sort_by_subs['user_id'],labels=users_sort_by_subs['subscription_type'],labeldistance=1.15, autopct='%1.1f%%' );"
   ]
  },
  {
   "cell_type": "markdown",
   "id": "2213620c",
   "metadata": {},
   "source": [
    "По графику видно, что большинство пользователей(54,4%) пользуются сервисом без подписки."
   ]
  },
  {
   "cell_type": "markdown",
   "id": "899b8467",
   "metadata": {},
   "source": [
    "<div class=\"alert alert-success\">\n",
    "<b>✔️ Комментарий ревьюера v1:</b>\n",
    "<br>Верно! В этом задании нужно смотреть именно на долю пользователей и тут круговая диаграмма отлично подходит!\n",
    "</div>\n"
   ]
  },
  {
   "cell_type": "code",
   "execution_count": 19,
   "id": "d4e81d89",
   "metadata": {},
   "outputs": [],
   "source": [
    "users_sort_by_age = (users_go\n",
    "                     .pivot_table(index='age',values='user_id',aggfunc='count')\n",
    "                     .sort_values('user_id', ascending=False)\n",
    "                     .reset_index()\n",
    "                     )"
   ]
  },
  {
   "cell_type": "code",
   "execution_count": 20,
   "id": "3d5c2861",
   "metadata": {
    "scrolled": true
   },
   "outputs": [
    {
     "data": {
      "image/png": "[encoded data removed]",
      "text/plain": [
       "<Figure size 1080x576 with 1 Axes>"
      ]
     },
     "metadata": {
      "needs_background": "light"
     },
     "output_type": "display_data"
    }
   ],
   "source": [
    "fig, ax = plt.subplots(figsize=(15, 8))\n",
    "sns.barplot(x=users_sort_by_age['age'], y=users_sort_by_age['user_id'], data=users_sort_by_age);\n",
    "plt.title('Количество пользователей по возрасту')\n",
    "plt.ylabel('Кол-во пользователей')\n",
    "plt.xlabel('Возраст')\n",
    "plt.show()"
   ]
  },
  {
   "cell_type": "code",
   "execution_count": 21,
   "id": "01894482",
   "metadata": {
    "scrolled": false
   },
   "outputs": [
    {
     "data": {
      "text/plain": [
       "count    1534.000000\n",
       "mean       24.903520\n",
       "std         4.572367\n",
       "min        12.000000\n",
       "25%        22.000000\n",
       "50%        25.000000\n",
       "75%        28.000000\n",
       "max        43.000000\n",
       "Name: age, dtype: float64"
      ]
     },
     "execution_count": 21,
     "metadata": {},
     "output_type": "execute_result"
    }
   ],
   "source": [
    "users_go['age'].describe()"
   ]
  },
  {
   "cell_type": "markdown",
   "id": "34074a4a",
   "metadata": {},
   "source": [
    "<div class=\"alert alert-success\">\n",
    "<b>✔️ Комментарий ревьюера v1:</b>\n",
    "<br>Молодец, что кроме графика ещё используешь метод describe()\n",
    "</div>"
   ]
  },
  {
   "cell_type": "markdown",
   "id": "eb3959cd",
   "metadata": {},
   "source": [
    "По анализу видно:\n",
    "1. Большинство пользователей в возрасте от 15 до 35 лет.\n",
    "2. Средний возраст 25 лет"
   ]
  },
  {
   "cell_type": "code",
   "execution_count": 22,
   "id": "8fff6106",
   "metadata": {
    "scrolled": true
   },
   "outputs": [
    {
     "data": {
      "text/plain": [
       "count    18068.000000\n",
       "mean      3070.659976\n",
       "std       1116.831209\n",
       "min          0.855683\n",
       "25%       2543.226360\n",
       "50%       3133.609994\n",
       "75%       3776.222735\n",
       "max       7211.007745\n",
       "Name: distance, dtype: float64"
      ]
     },
     "execution_count": 22,
     "metadata": {},
     "output_type": "execute_result"
    }
   ],
   "source": [
    "rides_go['distance'].describe()"
   ]
  },
  {
   "cell_type": "code",
   "execution_count": 23,
   "id": "f7bb4d6a",
   "metadata": {},
   "outputs": [
    {
     "data": {
      "image/png": "[encoded data removed]",
      "text/plain": [
       "<Figure size 1440x360 with 1 Axes>"
      ]
     },
     "metadata": {
      "needs_background": "light"
     },
     "output_type": "display_data"
    }
   ],
   "source": [
    "plt.hist(rides_go['distance'], bins=500, range=(1,6000))\n",
    "plt.title('Количество поездок в зависимости от расстояния поездки')\n",
    "plt.xlabel('Расстояние в метрах')\n",
    "plt.ylabel('Количество поездок')\n",
    "plt.show()"
   ]
  },
  {
   "cell_type": "markdown",
   "id": "11badbf0",
   "metadata": {},
   "source": [
    "По анализу видно: \n",
    "1. Cредняя поездка 3400 м.\n",
    "2. Есть более малый пик в районе 700-800 м, что означает достаточно частые поездки на расстояния до километра.                    "
   ]
  },
  {
   "cell_type": "code",
   "execution_count": 24,
   "id": "ebdc53af",
   "metadata": {},
   "outputs": [
    {
     "data": {
      "text/plain": [
       "count    18068.000000\n",
       "mean        17.805011\n",
       "std          6.091051\n",
       "min          0.500000\n",
       "25%         13.597563\n",
       "50%         17.678395\n",
       "75%         21.724800\n",
       "max         40.823963\n",
       "Name: duration, dtype: float64"
      ]
     },
     "execution_count": 24,
     "metadata": {},
     "output_type": "execute_result"
    }
   ],
   "source": [
    "rides_go['duration'].describe()"
   ]
  },
  {
   "cell_type": "code",
   "execution_count": 25,
   "id": "49ae6760",
   "metadata": {},
   "outputs": [
    {
     "data": {
      "image/png": "[encoded data removed]",
      "text/plain": [
       "<Figure size 1440x360 with 1 Axes>"
      ]
     },
     "metadata": {
      "needs_background": "light"
     },
     "output_type": "display_data"
    }
   ],
   "source": [
    "plt.hist(rides_go['duration'], bins=500, range=(0,35))\n",
    "plt.title('Количество поездок в зависимости от длительности')\n",
    "plt.xlabel('Длитильность поездки в минутах')\n",
    "plt.ylabel('Количество поездок')\n",
    "plt.show()"
   ]
  },
  {
   "cell_type": "markdown",
   "id": "8003bd1e",
   "metadata": {},
   "source": [
    "По анализу видно:\n",
    "1. Среднее время в пути 17 минут.\n",
    "2. Так же видим большой пик в районе 1 минуты, причем кол-во таких поездок достаточно большое, возмможно люди не могут начать аренду, либо, они отменяют поездку и пользуются другими сервисами."
   ]
  },
  {
   "cell_type": "markdown",
   "id": "07781278",
   "metadata": {},
   "source": [
    "<div class=\"alert alert-success\">\n",
    "<b>✔️ Комментарий ревьюера v1:</b>\n",
    "<br>Графики и выводы корректные\n",
    "</div>"
   ]
  },
  {
   "cell_type": "markdown",
   "id": "126df932",
   "metadata": {},
   "source": [
    "# Вывод по разделу:\n",
    "1. Самое большое кол-во пользователей в Пятигорске, самое малое в Москве\n",
    "2. Большинство пользователей в возрасте от 15 до 35 лет, cредний возраст 25 лет \n",
    "3. Cредняя поездка 3400 м, так же есть пик около 750 м, который означает популярность коротких поездок\n",
    "4. Большинство пользователей(54,4%) пользуются сервисом без подписки.\n",
    "5. Среднее время в пути 17 минут."
   ]
  },
  {
   "cell_type": "markdown",
   "id": "4ef51331",
   "metadata": {},
   "source": [
    "## Шаг 4. Объединение данных"
   ]
  },
  {
   "cell_type": "code",
   "execution_count": 26,
   "id": "6bf288b5",
   "metadata": {},
   "outputs": [],
   "source": [
    "df_group = pd.merge(users_go, subscriptions_go, on='subscription_type', how='left')\n",
    "df_group = pd.merge(df_group, rides_go, on='user_id',how='left' )"
   ]
  },
  {
   "cell_type": "markdown",
   "id": "e9b53e00",
   "metadata": {},
   "source": [
    "<div class=\"alert alert-success\">\n",
    "<b>✔️ Комментарий ревьюера v1:</b>\n",
    "<br>Таблицы объединены верно\n",
    "</div>"
   ]
  },
  {
   "cell_type": "code",
   "execution_count": 27,
   "id": "a27be8ff",
   "metadata": {},
   "outputs": [],
   "source": [
    "df_group_free = df_group[df_group['subscription_type'] == 'free']\n",
    "df_group_ultra = df_group[df_group['subscription_type'] == 'ultra']"
   ]
  },
  {
   "cell_type": "markdown",
   "id": "a0b41196",
   "metadata": {},
   "source": [
    "<div class=\"alert alert-success\">\n",
    "<b>✔️ Комментарий ревьюера v1:</b>\n",
    "<br>Новые таблицы созданы верно\n",
    "</div>"
   ]
  },
  {
   "cell_type": "code",
   "execution_count": 28,
   "id": "03a4fd67",
   "metadata": {
    "scrolled": true
   },
   "outputs": [
    {
     "name": "stdout",
     "output_type": "stream",
     "text": [
      "      user_id   name  age  city subscription_type  minute_price  \\\n",
      "6500      700  Айдар   22  Омск              free             8   \n",
      "6501      700  Айдар   22  Омск              free             8   \n",
      "6502      700  Айдар   22  Омск              free             8   \n",
      "6503      700  Айдар   22  Омск              free             8   \n",
      "6504      700  Айдар   22  Омск              free             8   \n",
      "6505      700  Айдар   22  Омск              free             8   \n",
      "6506      700  Айдар   22  Омск              free             8   \n",
      "6507      700  Айдар   22  Омск              free             8   \n",
      "6508      700  Айдар   22  Омск              free             8   \n",
      "6509      700  Айдар   22  Омск              free             8   \n",
      "\n",
      "      start_ride_price  subscription_fee     distance   duration       date  \\\n",
      "6500                50                 0  2515.690719  14.944286 2021-01-02   \n",
      "6501                50                 0   846.932642  16.234663 2021-02-01   \n",
      "6502                50                 0  4004.434142  20.016628 2021-02-04   \n",
      "6503                50                 0  1205.911290   9.782872 2021-02-10   \n",
      "6504                50                 0  3047.379435  17.427673 2021-02-14   \n",
      "6505                50                 0  4342.002254  22.368009 2021-02-23   \n",
      "6506                50                 0  3798.334905  18.243756 2021-03-03   \n",
      "6507                50                 0  2984.551206  15.424899 2021-04-09   \n",
      "6508                50                 0  3360.107141  16.765497 2021-06-12   \n",
      "6509                50                 0  2567.543847  11.312160 2021-06-23   \n",
      "\n",
      "      month  \n",
      "6500      1  \n",
      "6501      2  \n",
      "6502      2  \n",
      "6503      2  \n",
      "6504      2  \n",
      "6505      2  \n",
      "6506      3  \n",
      "6507      4  \n",
      "6508      6  \n",
      "6509      6  \n",
      "   user_id  name  age    city subscription_type  minute_price  \\\n",
      "0        1  Кира   22  Тюмень             ultra             6   \n",
      "1        1  Кира   22  Тюмень             ultra             6   \n",
      "2        1  Кира   22  Тюмень             ultra             6   \n",
      "3        1  Кира   22  Тюмень             ultra             6   \n",
      "4        1  Кира   22  Тюмень             ultra             6   \n",
      "5        1  Кира   22  Тюмень             ultra             6   \n",
      "6        1  Кира   22  Тюмень             ultra             6   \n",
      "7        1  Кира   22  Тюмень             ultra             6   \n",
      "8        1  Кира   22  Тюмень             ultra             6   \n",
      "9        1  Кира   22  Тюмень             ultra             6   \n",
      "\n",
      "   start_ride_price  subscription_fee     distance   duration       date  \\\n",
      "0                 0               199  4409.919140  25.599769 2021-01-01   \n",
      "1                 0               199  2617.592153  15.816871 2021-01-18   \n",
      "2                 0               199   754.159807   6.232113 2021-04-20   \n",
      "3                 0               199  2694.783254  18.511000 2021-08-11   \n",
      "4                 0               199  4028.687306  26.265803 2021-08-28   \n",
      "5                 0               199  2770.890808  16.650138 2021-10-09   \n",
      "6                 0               199  3039.020292  14.927879 2021-10-19   \n",
      "7                 0               199  2842.118050  23.117468 2021-11-06   \n",
      "8                 0               199  3412.690668  15.238072 2021-11-14   \n",
      "9                 0               199   748.690645  15.041884 2021-11-22   \n",
      "\n",
      "   month  \n",
      "0      1  \n",
      "1      1  \n",
      "2      4  \n",
      "3      8  \n",
      "4      8  \n",
      "5     10  \n",
      "6     10  \n",
      "7     11  \n",
      "8     11  \n",
      "9     11  \n"
     ]
    }
   ],
   "source": [
    "print(df_group_free.head(10))\n",
    "print(df_group_ultra.head(10))"
   ]
  },
  {
   "cell_type": "code",
   "execution_count": 29,
   "id": "7b1f9df2",
   "metadata": {},
   "outputs": [
    {
     "name": "stdout",
     "output_type": "stream",
     "text": [
      "count    11568.000000\n",
      "mean      3045.495282\n",
      "std       1246.173806\n",
      "min          0.855683\n",
      "25%       2366.562689\n",
      "50%       3114.648465\n",
      "75%       3905.697894\n",
      "max       7211.007745\n",
      "Name: distance, dtype: float64\n",
      "count    11568.000000\n",
      "mean        17.390909\n",
      "std          6.326803\n",
      "min          0.500000\n",
      "25%         12.958437\n",
      "50%         17.326890\n",
      "75%         21.594071\n",
      "max         34.948498\n",
      "Name: duration, dtype: float64\n"
     ]
    }
   ],
   "source": [
    "print(df_group_free['distance'].describe())\n",
    "print(df_group_free['duration'].describe())"
   ]
  },
  {
   "cell_type": "code",
   "execution_count": 30,
   "id": "b4b1cf8f",
   "metadata": {},
   "outputs": [
    {
     "name": "stdout",
     "output_type": "stream",
     "text": [
      "count    6500.000000\n",
      "mean     3115.445388\n",
      "std       836.895330\n",
      "min       244.210438\n",
      "25%      2785.444017\n",
      "50%      3148.637229\n",
      "75%      3560.574425\n",
      "max      5699.769662\n",
      "Name: distance, dtype: float64\n",
      "count    6500.000000\n",
      "mean       18.541985\n",
      "std         5.572048\n",
      "min         3.760353\n",
      "25%        14.524654\n",
      "50%        18.178153\n",
      "75%        21.884129\n",
      "max        40.823963\n",
      "Name: duration, dtype: float64\n"
     ]
    }
   ],
   "source": [
    "print(df_group_ultra['distance'].describe())\n",
    "print(df_group_ultra['duration'].describe())"
   ]
  },
  {
   "cell_type": "code",
   "execution_count": 31,
   "id": "7de09259",
   "metadata": {},
   "outputs": [
    {
     "data": {
      "image/png": "[encoded data removed]",
      "text/plain": [
       "<Figure size 1440x360 with 1 Axes>"
      ]
     },
     "metadata": {
      "needs_background": "light"
     },
     "output_type": "display_data"
    }
   ],
   "source": [
    "sns.histplot(data=df_group_free, x='distance', color=\"skyblue\", label='Расстояние без подписки', kde=True)\n",
    "sns.histplot(data=df_group_ultra, x='distance', color=\"red\", label='Расстояние с подпиской', kde=True)\n",
    "plt.ylabel('Количество поездок')\n",
    "plt.xlabel('Расстояние в метрах')\n",
    "plt.legend() \n",
    "plt.show()"
   ]
  },
  {
   "cell_type": "code",
   "execution_count": 32,
   "id": "e59777c5",
   "metadata": {
    "scrolled": true
   },
   "outputs": [
    {
     "data": {
      "image/png": "[encoded data removed]",
      "text/plain": [
       "<Figure size 1440x360 with 1 Axes>"
      ]
     },
     "metadata": {
      "needs_background": "light"
     },
     "output_type": "display_data"
    }
   ],
   "source": [
    "sns.histplot(data=df_group_free, x='duration', color=\"skyblue\", label='Длительность без подписки', kde=True)\n",
    "sns.histplot(data=df_group_ultra, x='duration', color=\"red\", label='Длительность с подпиской', kde=True)\n",
    "plt.ylabel('Количество поездок')\n",
    "plt.xlabel('Длительность по времени')\n",
    "plt.legend() \n",
    "plt.show()"
   ]
  },
  {
   "cell_type": "markdown",
   "id": "51d27588",
   "metadata": {},
   "source": [
    "<div class=\"alert alert-success\">\n",
    "<b>✔️ Комментарий ревьюера v1:</b>\n",
    "<br>Ты правильно делаешь, что совмещаешь оба графика, так их проще сравнить друг с другом\n",
    "</div>"
   ]
  },
  {
   "cell_type": "markdown",
   "id": "e6756f1a",
   "metadata": {},
   "source": [
    "По графикам видно, что ползователей без подписки в сервисе больше, так же они чаще пользуются сервисом для поездок меньше минуты.\\\n",
    "На второй гистограмме видно, что пользователи с подпиской не берут аренду меньше чем на 4 минуты.\\\n",
    "Среднее расстояние которое проезжают пользователи без подписки ниже (3045.495282), чем среднее расстояние которое проезжают пользователи с подпиской (3115.445388).\\\n",
    "Среднее время аренды, у людей с подпиской больше (18.541985), чем среднее время у людей без подписки (17.390909)."
   ]
  },
  {
   "cell_type": "markdown",
   "id": "85799a22",
   "metadata": {},
   "source": [
    "# Вывод по разделу: \n",
    "1. Объеденил дата фреймы с данными о пользователях, поездках и подписках в один датафрейм.\n",
    "2. Создал два дата фрема с пользователями с подпиской, и с пользователями без.\n",
    "3. построил гистограммы показывающие различия в поведении пользователей при аренде.\n"
   ]
  },
  {
   "cell_type": "markdown",
   "id": "98d34b1b",
   "metadata": {},
   "source": [
    "## Шаг 5. Подсчёт выручки"
   ]
  },
  {
   "cell_type": "code",
   "execution_count": 33,
   "id": "b89eb470",
   "metadata": {
    "scrolled": true
   },
   "outputs": [],
   "source": [
    "df_group['duration'] = np.ceil(df_group['duration'])"
   ]
  },
  {
   "cell_type": "markdown",
   "id": "2679fab3",
   "metadata": {},
   "source": [
    "<div class=\"alert alert-success\">\n",
    "<b>✔️ Комментарий ревьюера v1:</b>\n",
    "<br>Верно! Округлить длительности каждой поездки нужно до того, как ты перейдешь к расчетам revenue\n",
    "</div>"
   ]
  },
  {
   "cell_type": "code",
   "execution_count": 34,
   "id": "b3464575",
   "metadata": {},
   "outputs": [],
   "source": [
    "df_group_ag = df_group.pivot_table(index=('user_id','month'),\n",
    "                                    values=('distance','duration','minute_price','start_ride_price','subscription_fee'),\n",
    "                                    aggfunc=({'distance': {'count','sum'},\n",
    "                                             'duration': 'sum',\n",
    "                                             'minute_price' : min,\n",
    "                                             'start_ride_price': min,\n",
    "                                             'subscription_fee': min})\n",
    ")"
   ]
  },
  {
   "cell_type": "code",
   "execution_count": 35,
   "id": "f1f26c16",
   "metadata": {},
   "outputs": [],
   "source": [
    "df_group_ag.columns = ['count','distance_sum', 'duration_sum','minute_price','start_ride_price','subscription_fee']"
   ]
  },
  {
   "cell_type": "code",
   "execution_count": 36,
   "id": "5f4e6f57",
   "metadata": {},
   "outputs": [],
   "source": [
    "df_group_ag['income'] =(df_group_ag['start_ride_price']*df_group_ag['count']+\n",
    "                        df_group_ag['duration_sum']*df_group_ag['minute_price']+\n",
    "                        df_group_ag['subscription_fee']\n",
    "                       )"
   ]
  },
  {
   "cell_type": "code",
   "execution_count": 37,
   "id": "07ea414d",
   "metadata": {},
   "outputs": [
    {
     "data": {
      "text/html": [
       "<div>\n",
       "<style scoped>\n",
       "    .dataframe tbody tr th:only-of-type {\n",
       "        vertical-align: middle;\n",
       "    }\n",
       "\n",
       "    .dataframe tbody tr th {\n",
       "        vertical-align: top;\n",
       "    }\n",
       "\n",
       "    .dataframe thead th {\n",
       "        text-align: right;\n",
       "    }\n",
       "</style>\n",
       "<table border=\"1\" class=\"dataframe\">\n",
       "  <thead>\n",
       "    <tr style=\"text-align: right;\">\n",
       "      <th></th>\n",
       "      <th></th>\n",
       "      <th>count</th>\n",
       "      <th>distance_sum</th>\n",
       "      <th>duration_sum</th>\n",
       "      <th>minute_price</th>\n",
       "      <th>start_ride_price</th>\n",
       "      <th>subscription_fee</th>\n",
       "      <th>income</th>\n",
       "    </tr>\n",
       "    <tr>\n",
       "      <th>user_id</th>\n",
       "      <th>month</th>\n",
       "      <th></th>\n",
       "      <th></th>\n",
       "      <th></th>\n",
       "      <th></th>\n",
       "      <th></th>\n",
       "      <th></th>\n",
       "      <th></th>\n",
       "    </tr>\n",
       "  </thead>\n",
       "  <tbody>\n",
       "    <tr>\n",
       "      <th rowspan=\"6\" valign=\"top\">1</th>\n",
       "      <th>1</th>\n",
       "      <td>2</td>\n",
       "      <td>7027.511294</td>\n",
       "      <td>42.0</td>\n",
       "      <td>6</td>\n",
       "      <td>0</td>\n",
       "      <td>199</td>\n",
       "      <td>451.0</td>\n",
       "    </tr>\n",
       "    <tr>\n",
       "      <th>4</th>\n",
       "      <td>1</td>\n",
       "      <td>754.159807</td>\n",
       "      <td>7.0</td>\n",
       "      <td>6</td>\n",
       "      <td>0</td>\n",
       "      <td>199</td>\n",
       "      <td>241.0</td>\n",
       "    </tr>\n",
       "    <tr>\n",
       "      <th>8</th>\n",
       "      <td>2</td>\n",
       "      <td>6723.470560</td>\n",
       "      <td>46.0</td>\n",
       "      <td>6</td>\n",
       "      <td>0</td>\n",
       "      <td>199</td>\n",
       "      <td>475.0</td>\n",
       "    </tr>\n",
       "    <tr>\n",
       "      <th>10</th>\n",
       "      <td>2</td>\n",
       "      <td>5809.911100</td>\n",
       "      <td>32.0</td>\n",
       "      <td>6</td>\n",
       "      <td>0</td>\n",
       "      <td>199</td>\n",
       "      <td>391.0</td>\n",
       "    </tr>\n",
       "    <tr>\n",
       "      <th>11</th>\n",
       "      <td>3</td>\n",
       "      <td>7003.499363</td>\n",
       "      <td>56.0</td>\n",
       "      <td>6</td>\n",
       "      <td>0</td>\n",
       "      <td>199</td>\n",
       "      <td>535.0</td>\n",
       "    </tr>\n",
       "    <tr>\n",
       "      <th>12</th>\n",
       "      <td>2</td>\n",
       "      <td>6751.629942</td>\n",
       "      <td>28.0</td>\n",
       "      <td>6</td>\n",
       "      <td>0</td>\n",
       "      <td>199</td>\n",
       "      <td>367.0</td>\n",
       "    </tr>\n",
       "    <tr>\n",
       "      <th rowspan=\"4\" valign=\"top\">2</th>\n",
       "      <th>3</th>\n",
       "      <td>3</td>\n",
       "      <td>10187.723006</td>\n",
       "      <td>63.0</td>\n",
       "      <td>6</td>\n",
       "      <td>0</td>\n",
       "      <td>199</td>\n",
       "      <td>577.0</td>\n",
       "    </tr>\n",
       "    <tr>\n",
       "      <th>4</th>\n",
       "      <td>2</td>\n",
       "      <td>6164.381824</td>\n",
       "      <td>40.0</td>\n",
       "      <td>6</td>\n",
       "      <td>0</td>\n",
       "      <td>199</td>\n",
       "      <td>439.0</td>\n",
       "    </tr>\n",
       "    <tr>\n",
       "      <th>6</th>\n",
       "      <td>1</td>\n",
       "      <td>3255.338202</td>\n",
       "      <td>14.0</td>\n",
       "      <td>6</td>\n",
       "      <td>0</td>\n",
       "      <td>199</td>\n",
       "      <td>283.0</td>\n",
       "    </tr>\n",
       "    <tr>\n",
       "      <th>7</th>\n",
       "      <td>2</td>\n",
       "      <td>6780.722964</td>\n",
       "      <td>48.0</td>\n",
       "      <td>6</td>\n",
       "      <td>0</td>\n",
       "      <td>199</td>\n",
       "      <td>487.0</td>\n",
       "    </tr>\n",
       "  </tbody>\n",
       "</table>\n",
       "</div>"
      ],
      "text/plain": [
       "               count  distance_sum  duration_sum  minute_price  \\\n",
       "user_id month                                                    \n",
       "1       1          2   7027.511294          42.0             6   \n",
       "        4          1    754.159807           7.0             6   \n",
       "        8          2   6723.470560          46.0             6   \n",
       "        10         2   5809.911100          32.0             6   \n",
       "        11         3   7003.499363          56.0             6   \n",
       "        12         2   6751.629942          28.0             6   \n",
       "2       3          3  10187.723006          63.0             6   \n",
       "        4          2   6164.381824          40.0             6   \n",
       "        6          1   3255.338202          14.0             6   \n",
       "        7          2   6780.722964          48.0             6   \n",
       "\n",
       "               start_ride_price  subscription_fee  income  \n",
       "user_id month                                              \n",
       "1       1                     0               199   451.0  \n",
       "        4                     0               199   241.0  \n",
       "        8                     0               199   475.0  \n",
       "        10                    0               199   391.0  \n",
       "        11                    0               199   535.0  \n",
       "        12                    0               199   367.0  \n",
       "2       3                     0               199   577.0  \n",
       "        4                     0               199   439.0  \n",
       "        6                     0               199   283.0  \n",
       "        7                     0               199   487.0  "
      ]
     },
     "execution_count": 37,
     "metadata": {},
     "output_type": "execute_result"
    }
   ],
   "source": [
    "df_group_ag.head(10)"
   ]
  },
  {
   "cell_type": "markdown",
   "id": "23610f86",
   "metadata": {},
   "source": [
    "<div class=\"alert alert-success\">\n",
    "<b>✔️ Комментарий ревьюера v1:</b>\n",
    "<br>Выручка расчитана верно!\n",
    "</div>"
   ]
  },
  {
   "cell_type": "markdown",
   "id": "41545ac0",
   "metadata": {},
   "source": [
    "## Шаг 6. Проверка гипотез"
   ]
  },
  {
   "cell_type": "markdown",
   "id": "ecbdcb8d",
   "metadata": {},
   "source": [
    "### Проверим гипотезу, что пользователи с подпиской тратят больше времени на поездки, чем пользователи без подписки."
   ]
  },
  {
   "cell_type": "markdown",
   "id": "f820bc49",
   "metadata": {},
   "source": [
    "H0 - пользователи с подпиской тратят столько же времени как и пользователи без подписки.\\\n",
    "H1 - Пользователи с подпиской тратят больше времени на поездки чем пользователи без подписки."
   ]
  },
  {
   "cell_type": "markdown",
   "id": "31a2fe81",
   "metadata": {},
   "source": [
    "<div class=\"alert alert-success\">\n",
    "<b>✔️ Комментарий ревьюера v1:</b>\n",
    "<br>Гипотезы сформулированы верно\n",
    "</div>"
   ]
  },
  {
   "cell_type": "code",
   "execution_count": 38,
   "id": "ea431e80",
   "metadata": {},
   "outputs": [
    {
     "name": "stdout",
     "output_type": "stream",
     "text": [
      "1.2804098316645618e-34\n",
      "Отвергаем \n"
     ]
    }
   ],
   "source": [
    "result = st.ttest_ind(df_group_ultra['duration'], df_group_free['duration'], alternative='greater')\n",
    "\n",
    "alpha = 0.05\n",
    "\n",
    "print(result.pvalue)\n",
    "\n",
    "if result.pvalue < alpha:\n",
    "    print('Отвергаем ')\n",
    "else:\n",
    "    print('Не получилось отвергнуть нулевую гипотезу')\n",
    "\n",
    "\n"
   ]
  },
  {
   "cell_type": "markdown",
   "id": "bfeaf9d6",
   "metadata": {},
   "source": [
    "По результатам t-теста, можно сказать, что пользователи с подпиской тратят больше времени, на поездки, нежели пользователи без подписки."
   ]
  },
  {
   "cell_type": "markdown",
   "id": "63c53b79",
   "metadata": {},
   "source": [
    "<div class=\"alert alert-success\">\n",
    "<b>✔️ Комментарий ревьюера v1:</b>\n",
    "<br>Вывод верный\n",
    "</div>"
   ]
  },
  {
   "cell_type": "markdown",
   "id": "6ce4cb9d",
   "metadata": {},
   "source": [
    "### Проверим гипотезу, что среднее расстояние которое проезжают пользователи с подпиской не превышает 3130 метров"
   ]
  },
  {
   "cell_type": "markdown",
   "id": "92b8333e",
   "metadata": {},
   "source": [
    "H0 - пользователи с подпиской проезжают 3130 метро.\\\n",
    "H1 - Пользователи с подпиской проезжают больше 3130 метро."
   ]
  },
  {
   "cell_type": "markdown",
   "id": "b3ed842d",
   "metadata": {},
   "source": [
    "<div class=\"alert alert-success\">\n",
    "<b>✔️ Комментарий ревьюера v1:</b>\n",
    "<br>Гипотезы сформулированы верно\n",
    "</div>"
   ]
  },
  {
   "cell_type": "code",
   "execution_count": 39,
   "id": "c4f40474",
   "metadata": {
    "scrolled": true
   },
   "outputs": [
    {
     "name": "stdout",
     "output_type": "stream",
     "text": [
      "Среднее значение выборки 3115.4453880370247\n",
      "0.9195368847849785\n",
      "Не получилось отвергнуть нулевую гипотезу\n"
     ]
    }
   ],
   "source": [
    "\n",
    "distanse = 3130\n",
    "\n",
    "result = st.ttest_1samp(df_group_ultra['distance'], distanse, alternative='greater')\n",
    "\n",
    "alpha = 0.05\n",
    "\n",
    "print('Среднее значение выборки', df_group_ultra['distance'].mean())\n",
    "print(result.pvalue)\n",
    "\n",
    "if result.pvalue < alpha:\n",
    "    print('Отвергаем H0')\n",
    "else:\n",
    "    print('Не получилось отвергнуть нулевую гипотезу')\n"
   ]
  },
  {
   "cell_type": "markdown",
   "id": "1e7f8cc3",
   "metadata": {},
   "source": [
    "По результатам t-теста, можно сказать, что среднее расстояние которое проезжают пользователи с подпиской не превышает 3130 метров, нулевую гипотезу отвергнуть не получилось."
   ]
  },
  {
   "cell_type": "markdown",
   "id": "996efeac",
   "metadata": {},
   "source": [
    "<div class=\"alert alert-success\">\n",
    "<b>✔️ Комментарий ревьюера v1:</b>\n",
    "<br>Вывод верный\n",
    "</div>"
   ]
  },
  {
   "cell_type": "markdown",
   "id": "d06ae2fb",
   "metadata": {},
   "source": [
    "### Проверим гипотезу, что помесячная выручка от пользователей с подпиской, выше чем у пользователей без подписки."
   ]
  },
  {
   "cell_type": "markdown",
   "id": "f95cfa8c",
   "metadata": {},
   "source": [
    "H0 - пользователи с подпиской приносят такую же прибыль.\n",
    "H1 - Пользователи с подпиской приносят большую прибыль."
   ]
  },
  {
   "cell_type": "markdown",
   "id": "06bd7cde",
   "metadata": {},
   "source": [
    "<div class=\"alert alert-success\">\n",
    "<b>✔️ Комментарий ревьюера v1:</b>\n",
    "<br>Гипотезы сформулированы верно\n",
    "</div>"
   ]
  },
  {
   "cell_type": "code",
   "execution_count": 40,
   "id": "8ebf4095",
   "metadata": {},
   "outputs": [
    {
     "name": "stdout",
     "output_type": "stream",
     "text": [
      "1.8850394384715216e-31\n",
      "Отвергаем H0\n"
     ]
    }
   ],
   "source": [
    "x1 = df_group_ag.loc[df_group_ag['subscription_fee'] != 0, 'income'] # пользователи с подпиской\n",
    "х2 = df_group_ag.loc[df_group_ag['subscription_fee'] == 0, 'income'] # пользователи без подписки\n",
    "\n",
    "result = st.ttest_ind(x1,х2, alternative='greater')\n",
    "\n",
    "alpha = 0.05\n",
    "\n",
    "print(result.pvalue)\n",
    "\n",
    "if result.pvalue < alpha:\n",
    "    print('Отвергаем H0')\n",
    "else:\n",
    "    print('Не получилось отвергнуть нулевую гипотезу')"
   ]
  },
  {
   "cell_type": "markdown",
   "id": "68d551f0",
   "metadata": {},
   "source": [
    "По результатам t-теста, можно сказать, что пользователи с подпиской приносят больше прибыли, чем пользователи без подписки."
   ]
  },
  {
   "cell_type": "markdown",
   "id": "5050d470",
   "metadata": {},
   "source": [
    "<div class=\"alert alert-success\">\n",
    "<b>✔️ Комментарий ревьюера v1:</b>\n",
    "<br>Вывод верный\n",
    "</div>"
   ]
  },
  {
   "cell_type": "markdown",
   "id": "bb1a4302",
   "metadata": {},
   "source": [
    "### Для проведения потребуется двухвыборочный t-тест для зависимых выборок\n",
    "scipu.stats.ttest_rel(...)"
   ]
  },
  {
   "cell_type": "markdown",
   "id": "8a584a65",
   "metadata": {},
   "source": [
    "<div class=\"alert alert-success\">\n",
    "<b>✔️ Комментарий ревьюера v1:</b>\n",
    "<br>Метод выбран верно!\n",
    "</div>"
   ]
  },
  {
   "cell_type": "markdown",
   "id": "1c03b02b",
   "metadata": {},
   "source": [
    "# Вывод по разделу:"
   ]
  },
  {
   "cell_type": "markdown",
   "id": "e8dfff09",
   "metadata": {},
   "source": [
    "Результатам исследования можно сделать следующие выводы:\\\n",
    "1.Пользователи с подпиской тратят больше времени на поездки, и приносят больше прибыли компании.\\\n",
    "2.Средняя поездка пользователей, не превышает 3130 метров, что оптимально с точки зрения износа самоката.\\"
   ]
  },
  {
   "cell_type": "markdown",
   "id": "61213c5e",
   "metadata": {},
   "source": [
    "## Шаг 7. Распределения"
   ]
  },
  {
   "cell_type": "markdown",
   "id": "3ecdd409",
   "metadata": {},
   "source": [
    "### "
   ]
  },
  {
   "cell_type": "code",
   "execution_count": 41,
   "id": "6c35a9c6",
   "metadata": {
    "scrolled": true
   },
   "outputs": [
    {
     "name": "stdout",
     "output_type": "stream",
     "text": [
      "При n = 1172 , вероятность не выполнить план менее 4.95 %\n"
     ]
    }
   ],
   "source": [
    "n = 0 # Не известная величина, сколько промокодов раздать.\n",
    "p = 0.1 # Вероятность с которой продлевают подписку.\n",
    "k = 100 # Кол-во требуемых успехов\n",
    "binom1 = 0.05 # Вероятность не выполнить план.\n",
    "\n",
    "while binom.cdf(k,n,p) > binom1:\n",
    "        n = n+1\n",
    "\n",
    "print('При n =',n,', вероятность не выполнить план менее', ((binom.cdf(k,n,p)*100).round(2)), '%')"
   ]
  },
  {
   "cell_type": "code",
   "execution_count": 42,
   "id": "4f552c70",
   "metadata": {},
   "outputs": [
    {
     "data": {
      "image/png": "[encoded data removed]",
      "text/plain": [
       "<Figure size 1440x360 with 1 Axes>"
      ]
     },
     "metadata": {
      "needs_background": "light"
     },
     "output_type": "display_data"
    }
   ],
   "source": [
    "mu = n * p\n",
    "sigma = (n * p * (1 - p))**0.5\n",
    "\n",
    "distr = st.norm(mu, sigma)\n",
    "\n",
    "arange = np.arange((mu - 4 * sigma),(mu + 4 * sigma),1)\n",
    "\n",
    "plt.plot(arange, st.norm.pdf(arange, mu, sigma), 'b-')\n",
    "plt.xticks(rotation=90)\n",
    "plt.axvline(x=k, color='red')\n",
    "plt.axvline(x=mu, color='green')\n",
    "plt.show()"
   ]
  },
  {
   "cell_type": "markdown",
   "id": "4932639e",
   "metadata": {},
   "source": [
    "# Вывод.\n",
    "Если разослать 1172 промокода, вероятность не выполнить план будет меньше 5%."
   ]
  },
  {
   "cell_type": "code",
   "execution_count": 43,
   "id": "03688d65",
   "metadata": {},
   "outputs": [
    {
     "data": {
      "text/plain": [
       "0.1539584359564276"
      ]
     },
     "execution_count": 43,
     "metadata": {},
     "output_type": "execute_result"
    }
   ],
   "source": [
    "n=1000000 # Кол-во писем\n",
    "p=0.4 # Вероятность открытия\n",
    "k=399500 #\n",
    "\n",
    "binom.cdf(k,n,p)"
   ]
  },
  {
   "cell_type": "code",
   "execution_count": 44,
   "id": "46db258c",
   "metadata": {},
   "outputs": [
    {
     "name": "stdout",
     "output_type": "stream",
     "text": [
      "Вероятность открытия сообщений: 0.15371708296369768\n"
     ]
    },
    {
     "data": {
      "image/png": "[encoded data removed]",
      "text/plain": [
       "<Figure size 1440x360 with 1 Axes>"
      ]
     },
     "metadata": {
      "needs_background": "light"
     },
     "output_type": "display_data"
    }
   ],
   "source": [
    "n = 1000000\n",
    "p = 0.4\n",
    "k = 399500\n",
    "\n",
    "mu = n * p\n",
    "sigma = (n * p * (1 - p))**0.5\n",
    "\n",
    "distr = st.norm(mu, sigma) \n",
    "\n",
    "result = distr.cdf(k)\n",
    "print('Вероятность открытия сообщений:', result)\n",
    "\n",
    "arange = np.arange((mu - 4 * sigma),(mu + 4 * sigma),1)\n",
    "plt.plot(arange, st.norm.pdf(arange, mu, sigma), 'b-')\n",
    "plt.xticks(rotation=90)\n",
    "plt.axvline(x=k, color='red')\n",
    "plt.axvline(x=mu, color='green')\n",
    "plt.show()"
   ]
  },
  {
   "cell_type": "markdown",
   "id": "a0ec9d44",
   "metadata": {},
   "source": [
    "# Вывод.\n",
    "Если разослать 1 млн. писем, вероятность того, что откроют не более 399500 составляет 15.3%."
   ]
  },
  {
   "cell_type": "markdown",
   "id": "c5db2c3e",
   "metadata": {},
   "source": [
    "<div class=\"alert alert-success\">\n",
    "<b>✔️ Комментарий ревьюера v1:</b>\n",
    "<br>Дополнительное задание выполнено верно!\n",
    "</div>"
   ]
  },
  {
   "cell_type": "markdown",
   "id": "c2f0a369",
   "metadata": {},
   "source": [
    "<div class=\"alert alert-danger\">\n",
    "<b>❌ Комментарий ревьюера v1:</b> \n",
    "<br>Обязательно нужно написать общий вывод после проделанной работы. Хорошей практикой является написание в общем выводе всех твоих действий (кратко) по проекту. А после этого нужно написать общий вывод использую информацию из промежуточных выводов после каждого раздела. В нашем исследовании основной вопрос это \"Являются ли подписчики более выгодными для компании?\"  Не забудь ответить на него\n",
    "</div>"
   ]
  },
  {
   "cell_type": "markdown",
   "id": "25f04d6e",
   "metadata": {},
   "source": [
    "<div class=\"alert alert-danger\">\n",
    "<b>❌ Итоговый комментарий ревьюера v1:</b> \n",
    "<br>Необходимо поправить:\n",
    "<br>- добавить описание задачи в начале проекта\n",
    "<br>- проверить наличие вывода после каждого раздела\n",
    "<br>- написать общий вывод\n",
    "\n",
    "<br>После всех внесённых правок не забудь поправить выводы там, где это необходимо\n",
    "</div>"
   ]
  },
  {
   "cell_type": "markdown",
   "id": "bce7bcbf",
   "metadata": {},
   "source": [
    "<div class=\"alert alert-info\">\n",
    "<b>Комментарий студента:</b>\n",
    "<br>общий вывод ниже.\n",
    "    \n",
    "                \n",
    "</div>"
   ]
  },
  {
   "cell_type": "markdown",
   "id": "7ffeaa01",
   "metadata": {},
   "source": [
    "# Общий вывод по работе.\n",
    "1.Пустых данных в таблицах не обнаруженно.\\\n",
    "2. Дупликаты были убраны из первой таблицы.\n",
    "\n",
    "Результаты исследовательского анализа:\n",
    "1. Самое большое кол-во пользователей в Пятигорске, самое малое в Москве\n",
    "2. Большинство пользователей(54,4%) пользуются сервисом без подписки.\n",
    "3. Средний возраст пользователей 25 лет.\n",
    "4. Cредняя поездка 3400 м, а среднее время в пути 17 минут.\n",
    "5. Объеденил данный в один дата фрейм, а затем разделил его на 2 для пользователей с подпиской и без.\n",
    "5. Среднее расстояние которое проезжают пользователи без подписки ниже (3045.495282), чем среднее расстояние которое проезжают пользователи с подпиской (3115.445388).\n",
    "6. Среднее время аренды, у людей с подпиской больше (18.541985), чем среднее время у людей без подписки (17.390909)\n",
    "\n",
    "Результат проверки гипотез:\n",
    "1. Пользователи с подпиской тратят больше времени на поездки, и приносят больше прибыли компании.\n",
    "2. Средняя поездка пользователей, не превышает 3130 метров, что оптимально с точки зрения износа самоката.\n",
    "\n",
    "Сделал доп. задание:\n",
    "1. Если разослать 1172 промокода, вероятность не выполнить план будет меньше 5%.\n",
    "2. Если разослать 1 млн. писем, вероятность того, что откроют не более 399500 составляет 15.3%."
   ]
  },
  {
   "cell_type": "markdown",
   "id": "e822c349",
   "metadata": {},
   "source": [
    "<div class=\"alert alert-success\">\n",
    "<b>✔️ Комментарий ревьюера v2:</b>\n",
    "<br>Правка выполнена 👍 Не забывай писать выводы в конце каждого проекта\n",
    "</div>"
   ]
  },
  {
   "cell_type": "markdown",
   "id": "05b12eff",
   "metadata": {},
   "source": [
    "<div class=\"alert alert-success\">\n",
    "<b>✔️ Итоговый комментарий ревьюера v2:</b>\n",
    "<br>Все правки выполнены. Молодец!\n",
    "<br>Я рад был поработать над проверкой твоей работы) В качестве дополнительного материала для изучения могу порекомендовать следующие материалы:\n",
    "\n",
    "    Курс \"Вероятность и статистика\" | Глеб Михайлов (free): https://www.youtube.com/playlist?list=PLQJ7ptkRY-xbHLLI66KdscKp_FJt0FsIi\n",
    "\n",
    "    Методы обнаружения выбросов: https://youtu.be/TOK7Kq7x0yc\n",
    "\n",
    "<br>Поздравляю со сдачей проекта и желаю удачи в дальнейшем обучении! 😉    \n",
    "</div>"
   ]
  }
 ],
 "metadata": {
  "ExecuteTimeLog": [
   {
    "duration": 53,
    "start_time": "2025-02-17T13:25:01.824Z"
   },
   {
    "duration": 397,
    "start_time": "2025-02-17T13:25:08.053Z"
   },
   {
    "duration": 70,
    "start_time": "2025-02-17T13:25:10.422Z"
   },
   {
    "duration": 61,
    "start_time": "2025-02-17T13:26:11.918Z"
   },
   {
    "duration": 62,
    "start_time": "2025-02-17T13:28:37.329Z"
   },
   {
    "duration": 7,
    "start_time": "2025-02-17T13:29:15.890Z"
   },
   {
    "duration": 4,
    "start_time": "2025-02-17T13:29:32.523Z"
   },
   {
    "duration": 34,
    "start_time": "2025-02-17T13:34:57.153Z"
   },
   {
    "duration": 6,
    "start_time": "2025-02-17T13:36:20.187Z"
   },
   {
    "duration": 5,
    "start_time": "2025-02-17T13:36:38.827Z"
   },
   {
    "duration": 409,
    "start_time": "2025-02-17T13:36:57.831Z"
   },
   {
    "duration": 66,
    "start_time": "2025-02-17T13:36:58.242Z"
   },
   {
    "duration": 7,
    "start_time": "2025-02-17T13:36:58.310Z"
   },
   {
    "duration": 14,
    "start_time": "2025-02-17T13:36:58.318Z"
   },
   {
    "duration": 1278,
    "start_time": "2025-02-17T13:37:44.998Z"
   },
   {
    "duration": 78,
    "start_time": "2025-02-17T13:37:46.278Z"
   },
   {
    "duration": 8,
    "start_time": "2025-02-17T13:37:46.358Z"
   },
   {
    "duration": 38,
    "start_time": "2025-02-17T13:37:46.367Z"
   },
   {
    "duration": 97,
    "start_time": "2025-02-17T13:38:03.827Z"
   },
   {
    "duration": 8,
    "start_time": "2025-02-17T13:38:11.364Z"
   },
   {
    "duration": 48,
    "start_time": "2025-02-17T13:38:46.917Z"
   },
   {
    "duration": 6,
    "start_time": "2025-02-17T13:39:31.885Z"
   },
   {
    "duration": 22,
    "start_time": "2025-02-17T13:39:32.302Z"
   },
   {
    "duration": 8,
    "start_time": "2025-02-17T13:41:57.313Z"
   },
   {
    "duration": 7,
    "start_time": "2025-02-17T13:42:11.080Z"
   },
   {
    "duration": 6,
    "start_time": "2025-02-17T13:42:17.713Z"
   },
   {
    "duration": 11,
    "start_time": "2025-02-17T13:43:21.466Z"
   },
   {
    "duration": 1195,
    "start_time": "2025-02-17T13:43:41.208Z"
   },
   {
    "duration": 70,
    "start_time": "2025-02-17T13:43:42.405Z"
   },
   {
    "duration": 77,
    "start_time": "2025-02-17T13:43:42.476Z"
   },
   {
    "duration": 14,
    "start_time": "2025-02-17T13:43:42.554Z"
   },
   {
    "duration": 14,
    "start_time": "2025-02-17T13:43:42.570Z"
   },
   {
    "duration": 12,
    "start_time": "2025-02-17T13:43:42.586Z"
   },
   {
    "duration": 5,
    "start_time": "2025-02-17T13:43:42.599Z"
   },
   {
    "duration": 11,
    "start_time": "2025-02-17T13:43:42.606Z"
   },
   {
    "duration": 1190,
    "start_time": "2025-02-17T13:44:25.000Z"
   },
   {
    "duration": 79,
    "start_time": "2025-02-17T13:44:26.192Z"
   },
   {
    "duration": 9,
    "start_time": "2025-02-17T13:44:26.273Z"
   },
   {
    "duration": 7,
    "start_time": "2025-02-17T13:44:26.285Z"
   },
   {
    "duration": 11,
    "start_time": "2025-02-17T13:44:26.295Z"
   },
   {
    "duration": 10,
    "start_time": "2025-02-17T13:44:26.308Z"
   },
   {
    "duration": 10,
    "start_time": "2025-02-17T13:44:26.319Z"
   },
   {
    "duration": 24,
    "start_time": "2025-02-17T13:44:26.331Z"
   },
   {
    "duration": 5,
    "start_time": "2025-02-17T13:44:26.357Z"
   },
   {
    "duration": 72,
    "start_time": "2025-02-17T13:44:26.363Z"
   },
   {
    "duration": 6,
    "start_time": "2025-02-17T13:47:10.030Z"
   },
   {
    "duration": 4,
    "start_time": "2025-02-17T13:48:10.520Z"
   },
   {
    "duration": 92,
    "start_time": "2025-02-17T13:51:07.764Z"
   },
   {
    "duration": 6,
    "start_time": "2025-02-17T13:54:57.959Z"
   },
   {
    "duration": 5,
    "start_time": "2025-02-17T13:55:04.296Z"
   },
   {
    "duration": 9,
    "start_time": "2025-02-17T14:03:32.737Z"
   },
   {
    "duration": 67,
    "start_time": "2025-02-17T14:03:46.897Z"
   },
   {
    "duration": 10,
    "start_time": "2025-02-17T14:03:53.345Z"
   },
   {
    "duration": 8,
    "start_time": "2025-02-17T14:05:47.268Z"
   },
   {
    "duration": 14,
    "start_time": "2025-02-17T14:05:53.939Z"
   },
   {
    "duration": 14,
    "start_time": "2025-02-17T14:06:11.604Z"
   },
   {
    "duration": 13,
    "start_time": "2025-02-17T14:08:13.374Z"
   },
   {
    "duration": 1175,
    "start_time": "2025-02-17T14:08:33.562Z"
   },
   {
    "duration": 68,
    "start_time": "2025-02-17T14:08:34.738Z"
   },
   {
    "duration": 11,
    "start_time": "2025-02-17T14:08:34.809Z"
   },
   {
    "duration": 23,
    "start_time": "2025-02-17T14:08:34.823Z"
   },
   {
    "duration": 12,
    "start_time": "2025-02-17T14:08:34.850Z"
   },
   {
    "duration": 12,
    "start_time": "2025-02-17T14:08:34.864Z"
   },
   {
    "duration": 26,
    "start_time": "2025-02-17T14:08:34.877Z"
   },
   {
    "duration": 45,
    "start_time": "2025-02-17T14:08:34.905Z"
   },
   {
    "duration": 14,
    "start_time": "2025-02-17T14:08:34.952Z"
   },
   {
    "duration": 13,
    "start_time": "2025-02-17T14:08:34.968Z"
   },
   {
    "duration": 7,
    "start_time": "2025-02-17T14:08:34.983Z"
   },
   {
    "duration": 20,
    "start_time": "2025-02-17T14:08:34.991Z"
   },
   {
    "duration": 44,
    "start_time": "2025-02-17T14:08:35.013Z"
   },
   {
    "duration": 328,
    "start_time": "2025-02-17T14:08:35.060Z"
   },
   {
    "duration": 321,
    "start_time": "2025-02-17T14:08:58.423Z"
   },
   {
    "duration": 696,
    "start_time": "2025-02-17T14:10:38.424Z"
   },
   {
    "duration": 321,
    "start_time": "2025-02-17T14:11:07.257Z"
   },
   {
    "duration": 236,
    "start_time": "2025-02-17T14:11:42.834Z"
   },
   {
    "duration": 327,
    "start_time": "2025-02-17T14:11:48.467Z"
   },
   {
    "duration": 9,
    "start_time": "2025-02-17T14:13:37.716Z"
   },
   {
    "duration": 14,
    "start_time": "2025-02-17T14:13:42.460Z"
   },
   {
    "duration": 14,
    "start_time": "2025-02-17T14:13:49.236Z"
   },
   {
    "duration": 9,
    "start_time": "2025-02-17T14:14:04.717Z"
   },
   {
    "duration": 15,
    "start_time": "2025-02-17T14:14:11.140Z"
   },
   {
    "duration": 13,
    "start_time": "2025-02-17T14:15:01.910Z"
   },
   {
    "duration": 352,
    "start_time": "2025-02-17T14:15:08.567Z"
   },
   {
    "duration": 201,
    "start_time": "2025-02-17T14:15:36.102Z"
   },
   {
    "duration": 12,
    "start_time": "2025-02-17T14:17:05.672Z"
   },
   {
    "duration": 396,
    "start_time": "2025-02-17T14:17:09.440Z"
   },
   {
    "duration": 332,
    "start_time": "2025-02-17T14:18:15.738Z"
   },
   {
    "duration": 1165,
    "start_time": "2025-02-17T14:18:35.564Z"
   },
   {
    "duration": 67,
    "start_time": "2025-02-17T14:18:36.730Z"
   },
   {
    "duration": 7,
    "start_time": "2025-02-17T14:18:36.798Z"
   },
   {
    "duration": 23,
    "start_time": "2025-02-17T14:18:36.807Z"
   },
   {
    "duration": 11,
    "start_time": "2025-02-17T14:18:36.832Z"
   },
   {
    "duration": 20,
    "start_time": "2025-02-17T14:18:36.844Z"
   },
   {
    "duration": 9,
    "start_time": "2025-02-17T14:18:36.866Z"
   },
   {
    "duration": 19,
    "start_time": "2025-02-17T14:18:36.877Z"
   },
   {
    "duration": 5,
    "start_time": "2025-02-17T14:18:36.898Z"
   },
   {
    "duration": 24,
    "start_time": "2025-02-17T14:18:36.904Z"
   },
   {
    "duration": 7,
    "start_time": "2025-02-17T14:18:36.929Z"
   },
   {
    "duration": 18,
    "start_time": "2025-02-17T14:18:36.937Z"
   },
   {
    "duration": 14,
    "start_time": "2025-02-17T14:18:36.957Z"
   },
   {
    "duration": 21,
    "start_time": "2025-02-17T14:18:36.974Z"
   },
   {
    "duration": 339,
    "start_time": "2025-02-17T14:18:36.997Z"
   },
   {
    "duration": 13,
    "start_time": "2025-02-17T14:19:07.022Z"
   },
   {
    "duration": 12,
    "start_time": "2025-02-17T14:19:19.726Z"
   },
   {
    "duration": 243,
    "start_time": "2025-02-17T14:19:47.446Z"
   },
   {
    "duration": 10,
    "start_time": "2025-02-17T14:19:50.662Z"
   },
   {
    "duration": 319,
    "start_time": "2025-02-17T14:19:51.102Z"
   },
   {
    "duration": 11,
    "start_time": "2025-02-17T14:20:19.942Z"
   },
   {
    "duration": 324,
    "start_time": "2025-02-17T14:20:35.431Z"
   },
   {
    "duration": 1146,
    "start_time": "2025-02-17T14:20:59.208Z"
   },
   {
    "duration": 129,
    "start_time": "2025-02-17T14:21:14.912Z"
   },
   {
    "duration": 11,
    "start_time": "2025-02-17T14:22:03.241Z"
   },
   {
    "duration": 137,
    "start_time": "2025-02-17T14:22:06.809Z"
   },
   {
    "duration": 177,
    "start_time": "2025-02-17T14:22:27.921Z"
   },
   {
    "duration": 239,
    "start_time": "2025-02-17T14:22:39.689Z"
   },
   {
    "duration": 158,
    "start_time": "2025-02-17T14:22:46.689Z"
   },
   {
    "duration": 9,
    "start_time": "2025-02-17T14:23:03.778Z"
   },
   {
    "duration": 85,
    "start_time": "2025-02-17T14:26:21.350Z"
   },
   {
    "duration": 10,
    "start_time": "2025-02-17T14:26:33.774Z"
   },
   {
    "duration": 150,
    "start_time": "2025-02-17T14:26:36.358Z"
   },
   {
    "duration": 9,
    "start_time": "2025-02-17T14:26:47.230Z"
   },
   {
    "duration": 10,
    "start_time": "2025-02-17T14:26:50.462Z"
   },
   {
    "duration": 8,
    "start_time": "2025-02-17T14:28:03.577Z"
   },
   {
    "duration": 112,
    "start_time": "2025-02-17T14:29:59.114Z"
   },
   {
    "duration": 5,
    "start_time": "2025-02-17T14:30:27.785Z"
   },
   {
    "duration": 8,
    "start_time": "2025-02-17T14:31:18.515Z"
   },
   {
    "duration": 9,
    "start_time": "2025-02-17T14:32:16.619Z"
   },
   {
    "duration": 9,
    "start_time": "2025-02-17T14:32:19.940Z"
   },
   {
    "duration": 5,
    "start_time": "2025-02-17T14:32:20.299Z"
   },
   {
    "duration": 8,
    "start_time": "2025-02-17T14:32:20.796Z"
   },
   {
    "duration": 1194,
    "start_time": "2025-02-17T14:32:29.380Z"
   },
   {
    "duration": 74,
    "start_time": "2025-02-17T14:32:30.575Z"
   },
   {
    "duration": 7,
    "start_time": "2025-02-17T14:32:30.651Z"
   },
   {
    "duration": 145,
    "start_time": "2025-02-17T14:32:30.659Z"
   },
   {
    "duration": 23,
    "start_time": "2025-02-17T14:32:30.806Z"
   },
   {
    "duration": 11,
    "start_time": "2025-02-17T14:32:30.830Z"
   },
   {
    "duration": 8,
    "start_time": "2025-02-17T14:32:30.843Z"
   },
   {
    "duration": 14,
    "start_time": "2025-02-17T14:32:30.853Z"
   },
   {
    "duration": 19,
    "start_time": "2025-02-17T14:32:30.868Z"
   },
   {
    "duration": 5,
    "start_time": "2025-02-17T14:32:30.889Z"
   },
   {
    "duration": 29,
    "start_time": "2025-02-17T14:32:30.896Z"
   },
   {
    "duration": 8,
    "start_time": "2025-02-17T14:32:30.927Z"
   },
   {
    "duration": 14,
    "start_time": "2025-02-17T14:32:30.936Z"
   },
   {
    "duration": 10,
    "start_time": "2025-02-17T14:32:30.952Z"
   },
   {
    "duration": 179,
    "start_time": "2025-02-17T14:32:30.963Z"
   },
   {
    "duration": 9,
    "start_time": "2025-02-17T14:32:31.143Z"
   },
   {
    "duration": 10,
    "start_time": "2025-02-17T14:32:31.153Z"
   },
   {
    "duration": 111,
    "start_time": "2025-02-17T14:32:31.165Z"
   },
   {
    "duration": 54,
    "start_time": "2025-02-17T14:32:45.762Z"
   },
   {
    "duration": 53,
    "start_time": "2025-02-17T14:32:50.307Z"
   },
   {
    "duration": 8,
    "start_time": "2025-02-17T14:33:31.828Z"
   },
   {
    "duration": 9,
    "start_time": "2025-02-17T14:33:58.452Z"
   },
   {
    "duration": 9,
    "start_time": "2025-02-17T14:34:12.012Z"
   },
   {
    "duration": 4,
    "start_time": "2025-02-17T14:34:13.988Z"
   },
   {
    "duration": 9,
    "start_time": "2025-02-17T14:34:15.484Z"
   },
   {
    "duration": 9,
    "start_time": "2025-02-17T14:34:27.884Z"
   },
   {
    "duration": 10,
    "start_time": "2025-02-17T14:34:41.652Z"
   },
   {
    "duration": 57,
    "start_time": "2025-02-17T14:34:48.293Z"
   },
   {
    "duration": 53,
    "start_time": "2025-02-17T14:35:18.142Z"
   },
   {
    "duration": 59,
    "start_time": "2025-02-17T14:35:24.901Z"
   },
   {
    "duration": 58,
    "start_time": "2025-02-17T14:35:31.966Z"
   },
   {
    "duration": 69,
    "start_time": "2025-02-17T14:35:54.142Z"
   },
   {
    "duration": 9,
    "start_time": "2025-02-17T14:36:01.542Z"
   },
   {
    "duration": 54,
    "start_time": "2025-02-17T14:36:40.199Z"
   },
   {
    "duration": 126,
    "start_time": "2025-02-17T14:36:50.087Z"
   },
   {
    "duration": 67,
    "start_time": "2025-02-17T14:38:30.697Z"
   },
   {
    "duration": 9,
    "start_time": "2025-02-17T14:39:17.090Z"
   },
   {
    "duration": 5,
    "start_time": "2025-02-17T14:39:17.426Z"
   },
   {
    "duration": 64,
    "start_time": "2025-02-17T14:39:17.946Z"
   },
   {
    "duration": 120,
    "start_time": "2025-02-17T14:40:52.716Z"
   },
   {
    "duration": 71,
    "start_time": "2025-02-17T14:41:00.939Z"
   },
   {
    "duration": 769,
    "start_time": "2025-02-17T14:44:01.727Z"
   },
   {
    "duration": 128,
    "start_time": "2025-02-17T14:45:11.696Z"
   },
   {
    "duration": 9,
    "start_time": "2025-02-17T14:45:13.864Z"
   },
   {
    "duration": 303,
    "start_time": "2025-02-17T14:45:14.800Z"
   },
   {
    "duration": 304,
    "start_time": "2025-02-17T14:45:31.032Z"
   },
   {
    "duration": 4,
    "start_time": "2025-02-17T14:48:00.675Z"
   },
   {
    "duration": 5,
    "start_time": "2025-02-17T14:48:17.763Z"
   },
   {
    "duration": 8,
    "start_time": "2025-02-17T14:48:37.644Z"
   },
   {
    "duration": 4,
    "start_time": "2025-02-17T14:48:55.372Z"
   },
   {
    "duration": 8,
    "start_time": "2025-02-17T14:49:11.460Z"
   },
   {
    "duration": 56,
    "start_time": "2025-02-17T14:55:12.683Z"
   },
   {
    "duration": 225,
    "start_time": "2025-02-17T14:55:31.766Z"
   },
   {
    "duration": 143,
    "start_time": "2025-02-17T14:55:46.204Z"
   },
   {
    "duration": 144,
    "start_time": "2025-02-17T14:56:21.796Z"
   },
   {
    "duration": 134,
    "start_time": "2025-02-17T14:56:37.021Z"
   },
   {
    "duration": 1085,
    "start_time": "2025-02-17T14:56:47.349Z"
   },
   {
    "duration": 66,
    "start_time": "2025-02-17T14:56:48.436Z"
   },
   {
    "duration": 7,
    "start_time": "2025-02-17T14:56:48.503Z"
   },
   {
    "duration": 12,
    "start_time": "2025-02-17T14:56:48.512Z"
   },
   {
    "duration": 24,
    "start_time": "2025-02-17T14:56:48.526Z"
   },
   {
    "duration": 11,
    "start_time": "2025-02-17T14:56:48.552Z"
   },
   {
    "duration": 10,
    "start_time": "2025-02-17T14:56:48.564Z"
   },
   {
    "duration": 14,
    "start_time": "2025-02-17T14:56:48.575Z"
   },
   {
    "duration": 4,
    "start_time": "2025-02-17T14:56:48.591Z"
   },
   {
    "duration": 16,
    "start_time": "2025-02-17T14:56:48.596Z"
   },
   {
    "duration": 5,
    "start_time": "2025-02-17T14:56:48.614Z"
   },
   {
    "duration": 27,
    "start_time": "2025-02-17T14:56:48.621Z"
   },
   {
    "duration": 14,
    "start_time": "2025-02-17T14:56:48.649Z"
   },
   {
    "duration": 9,
    "start_time": "2025-02-17T14:56:48.666Z"
   },
   {
    "duration": 219,
    "start_time": "2025-02-17T14:56:48.677Z"
   },
   {
    "duration": 13,
    "start_time": "2025-02-17T14:56:48.898Z"
   },
   {
    "duration": 19,
    "start_time": "2025-02-17T14:56:48.913Z"
   },
   {
    "duration": 83,
    "start_time": "2025-02-17T14:56:48.934Z"
   },
   {
    "duration": 10,
    "start_time": "2025-02-17T14:56:49.019Z"
   },
   {
    "duration": 325,
    "start_time": "2025-02-17T14:56:49.031Z"
   },
   {
    "duration": 9,
    "start_time": "2025-02-17T14:56:49.357Z"
   },
   {
    "duration": 14,
    "start_time": "2025-02-17T14:59:21.917Z"
   },
   {
    "duration": 1093,
    "start_time": "2025-02-17T15:03:09.934Z"
   },
   {
    "duration": 76,
    "start_time": "2025-02-17T15:03:11.028Z"
   },
   {
    "duration": 7,
    "start_time": "2025-02-17T15:03:11.105Z"
   },
   {
    "duration": 35,
    "start_time": "2025-02-17T15:03:11.113Z"
   },
   {
    "duration": 12,
    "start_time": "2025-02-17T15:03:11.150Z"
   },
   {
    "duration": 13,
    "start_time": "2025-02-17T15:03:11.163Z"
   },
   {
    "duration": 10,
    "start_time": "2025-02-17T15:03:11.177Z"
   },
   {
    "duration": 10,
    "start_time": "2025-02-17T15:03:11.189Z"
   },
   {
    "duration": 5,
    "start_time": "2025-02-17T15:03:11.200Z"
   },
   {
    "duration": 6,
    "start_time": "2025-02-17T15:03:11.206Z"
   },
   {
    "duration": 6,
    "start_time": "2025-02-17T15:03:11.214Z"
   },
   {
    "duration": 20,
    "start_time": "2025-02-17T15:03:11.221Z"
   },
   {
    "duration": 22,
    "start_time": "2025-02-17T15:03:11.243Z"
   },
   {
    "duration": 10,
    "start_time": "2025-02-17T15:03:11.267Z"
   },
   {
    "duration": 197,
    "start_time": "2025-02-17T15:03:11.278Z"
   },
   {
    "duration": 10,
    "start_time": "2025-02-17T15:03:11.476Z"
   },
   {
    "duration": 17,
    "start_time": "2025-02-17T15:03:11.487Z"
   },
   {
    "duration": 78,
    "start_time": "2025-02-17T15:03:11.509Z"
   },
   {
    "duration": 9,
    "start_time": "2025-02-17T15:03:11.588Z"
   },
   {
    "duration": 348,
    "start_time": "2025-02-17T15:03:11.599Z"
   },
   {
    "duration": 7,
    "start_time": "2025-02-17T15:03:11.949Z"
   },
   {
    "duration": 14,
    "start_time": "2025-02-17T15:03:11.958Z"
   },
   {
    "duration": 171,
    "start_time": "2025-02-17T15:03:11.973Z"
   },
   {
    "duration": 370,
    "start_time": "2025-02-17T15:04:01.695Z"
   },
   {
    "duration": 438,
    "start_time": "2025-02-17T15:04:18.887Z"
   },
   {
    "duration": 487,
    "start_time": "2025-02-17T15:04:26.655Z"
   },
   {
    "duration": 373,
    "start_time": "2025-02-17T15:04:31.831Z"
   },
   {
    "duration": 905,
    "start_time": "2025-02-17T15:04:47.744Z"
   },
   {
    "duration": 9,
    "start_time": "2025-02-17T15:05:27.960Z"
   },
   {
    "duration": 893,
    "start_time": "2025-02-17T15:05:42.825Z"
   },
   {
    "duration": 517,
    "start_time": "2025-02-17T15:05:49.160Z"
   },
   {
    "duration": 244,
    "start_time": "2025-02-17T15:06:15.609Z"
   },
   {
    "duration": 800,
    "start_time": "2025-02-17T15:06:46.402Z"
   },
   {
    "duration": 1393,
    "start_time": "2025-02-17T15:07:08.394Z"
   },
   {
    "duration": 1372,
    "start_time": "2025-02-17T15:07:50.683Z"
   },
   {
    "duration": 1541,
    "start_time": "2025-02-17T15:08:01.299Z"
   },
   {
    "duration": 1501,
    "start_time": "2025-02-17T15:08:12.883Z"
   },
   {
    "duration": 1473,
    "start_time": "2025-02-17T15:08:21.740Z"
   },
   {
    "duration": 62,
    "start_time": "2025-02-17T15:08:59.892Z"
   },
   {
    "duration": 10,
    "start_time": "2025-02-17T15:09:05.284Z"
   },
   {
    "duration": 1546,
    "start_time": "2025-02-17T15:09:05.972Z"
   },
   {
    "duration": 541,
    "start_time": "2025-02-17T15:09:36.173Z"
   },
   {
    "duration": 8,
    "start_time": "2025-02-17T15:11:15.519Z"
   },
   {
    "duration": 733,
    "start_time": "2025-02-17T15:11:19.303Z"
   },
   {
    "duration": 1169,
    "start_time": "2025-02-17T15:11:23.757Z"
   },
   {
    "duration": 65,
    "start_time": "2025-02-17T15:11:24.928Z"
   },
   {
    "duration": 6,
    "start_time": "2025-02-17T15:11:24.995Z"
   },
   {
    "duration": 8,
    "start_time": "2025-02-17T15:11:25.003Z"
   },
   {
    "duration": 13,
    "start_time": "2025-02-17T15:11:25.013Z"
   },
   {
    "duration": 35,
    "start_time": "2025-02-17T15:11:25.027Z"
   },
   {
    "duration": 9,
    "start_time": "2025-02-17T15:11:25.063Z"
   },
   {
    "duration": 22,
    "start_time": "2025-02-17T15:11:25.074Z"
   },
   {
    "duration": 4,
    "start_time": "2025-02-17T15:11:25.098Z"
   },
   {
    "duration": 5,
    "start_time": "2025-02-17T15:11:25.104Z"
   },
   {
    "duration": 6,
    "start_time": "2025-02-17T15:11:25.110Z"
   },
   {
    "duration": 23,
    "start_time": "2025-02-17T15:11:25.118Z"
   },
   {
    "duration": 26,
    "start_time": "2025-02-17T15:11:25.142Z"
   },
   {
    "duration": 10,
    "start_time": "2025-02-17T15:11:25.171Z"
   },
   {
    "duration": 182,
    "start_time": "2025-02-17T15:11:25.182Z"
   },
   {
    "duration": 9,
    "start_time": "2025-02-17T15:11:25.366Z"
   },
   {
    "duration": 5,
    "start_time": "2025-02-17T15:11:25.376Z"
   },
   {
    "duration": 85,
    "start_time": "2025-02-17T15:11:25.382Z"
   },
   {
    "duration": 9,
    "start_time": "2025-02-17T15:11:25.469Z"
   },
   {
    "duration": 331,
    "start_time": "2025-02-17T15:11:25.480Z"
   },
   {
    "duration": 7,
    "start_time": "2025-02-17T15:11:25.813Z"
   },
   {
    "duration": 33,
    "start_time": "2025-02-17T15:11:25.822Z"
   },
   {
    "duration": 870,
    "start_time": "2025-02-17T15:11:25.856Z"
   },
   {
    "duration": 717,
    "start_time": "2025-02-17T15:11:43.415Z"
   },
   {
    "duration": 908,
    "start_time": "2025-02-17T15:11:51.584Z"
   },
   {
    "duration": 741,
    "start_time": "2025-02-17T15:12:03.664Z"
   },
   {
    "duration": 840,
    "start_time": "2025-02-17T15:12:11.040Z"
   },
   {
    "duration": 6,
    "start_time": "2025-02-17T15:19:48.048Z"
   },
   {
    "duration": 9,
    "start_time": "2025-02-17T15:19:58.633Z"
   },
   {
    "duration": 748,
    "start_time": "2025-02-17T15:20:09.841Z"
   },
   {
    "duration": 843,
    "start_time": "2025-02-17T15:22:47.517Z"
   },
   {
    "duration": 753,
    "start_time": "2025-02-17T15:22:54.004Z"
   },
   {
    "duration": 864,
    "start_time": "2025-02-17T15:23:01.868Z"
   },
   {
    "duration": 838,
    "start_time": "2025-02-17T15:23:35.461Z"
   },
   {
    "duration": 763,
    "start_time": "2025-02-17T15:23:42.046Z"
   },
   {
    "duration": 833,
    "start_time": "2025-02-17T15:23:47.917Z"
   },
   {
    "duration": 723,
    "start_time": "2025-02-17T15:23:52.613Z"
   },
   {
    "duration": 844,
    "start_time": "2025-02-17T15:24:59.503Z"
   },
   {
    "duration": 723,
    "start_time": "2025-02-17T15:25:04.407Z"
   },
   {
    "duration": 838,
    "start_time": "2025-02-17T15:25:10.831Z"
   },
   {
    "duration": 52,
    "start_time": "2025-02-18T12:06:45.188Z"
   },
   {
    "duration": 1436,
    "start_time": "2025-02-18T12:06:49.399Z"
   },
   {
    "duration": 72,
    "start_time": "2025-02-18T12:06:50.838Z"
   },
   {
    "duration": 9,
    "start_time": "2025-02-18T12:06:50.913Z"
   },
   {
    "duration": 49,
    "start_time": "2025-02-18T12:06:50.924Z"
   },
   {
    "duration": 20,
    "start_time": "2025-02-18T12:06:50.975Z"
   },
   {
    "duration": 28,
    "start_time": "2025-02-18T12:06:50.998Z"
   },
   {
    "duration": 20,
    "start_time": "2025-02-18T12:06:51.028Z"
   },
   {
    "duration": 20,
    "start_time": "2025-02-18T12:06:51.051Z"
   },
   {
    "duration": 5,
    "start_time": "2025-02-18T12:06:51.073Z"
   },
   {
    "duration": 21,
    "start_time": "2025-02-18T12:06:51.080Z"
   },
   {
    "duration": 71,
    "start_time": "2025-02-18T12:06:51.103Z"
   },
   {
    "duration": 18,
    "start_time": "2025-02-18T12:06:51.176Z"
   },
   {
    "duration": 24,
    "start_time": "2025-02-18T12:06:51.197Z"
   },
   {
    "duration": 29,
    "start_time": "2025-02-18T12:06:51.223Z"
   },
   {
    "duration": 229,
    "start_time": "2025-02-18T12:06:51.254Z"
   },
   {
    "duration": 11,
    "start_time": "2025-02-18T12:06:51.485Z"
   },
   {
    "duration": 205,
    "start_time": "2025-02-18T12:06:51.499Z"
   },
   {
    "duration": 82,
    "start_time": "2025-02-18T12:06:51.707Z"
   },
   {
    "duration": 12,
    "start_time": "2025-02-18T12:06:51.791Z"
   },
   {
    "duration": 378,
    "start_time": "2025-02-18T12:06:51.805Z"
   },
   {
    "duration": 9,
    "start_time": "2025-02-18T12:06:52.184Z"
   },
   {
    "duration": 21,
    "start_time": "2025-02-18T12:06:52.195Z"
   },
   {
    "duration": 918,
    "start_time": "2025-02-18T12:06:52.217Z"
   },
   {
    "duration": 19,
    "start_time": "2025-02-18T12:06:53.137Z"
   },
   {
    "duration": 831,
    "start_time": "2025-02-18T12:06:53.158Z"
   },
   {
    "duration": 116,
    "start_time": "2025-02-18T12:06:53.990Z"
   },
   {
    "duration": 18,
    "start_time": "2025-02-18T12:07:14.024Z"
   },
   {
    "duration": 7,
    "start_time": "2025-02-18T12:09:45.910Z"
   },
   {
    "duration": 13,
    "start_time": "2025-02-18T12:11:13.136Z"
   },
   {
    "duration": 13,
    "start_time": "2025-02-18T12:11:23.968Z"
   },
   {
    "duration": 14,
    "start_time": "2025-02-18T12:11:38.498Z"
   },
   {
    "duration": 18,
    "start_time": "2025-02-18T12:11:46.162Z"
   },
   {
    "duration": 8,
    "start_time": "2025-02-18T12:13:17.468Z"
   },
   {
    "duration": 6,
    "start_time": "2025-02-18T12:13:29.052Z"
   },
   {
    "duration": 13,
    "start_time": "2025-02-18T12:14:25.462Z"
   },
   {
    "duration": 6,
    "start_time": "2025-02-18T12:15:01.134Z"
   },
   {
    "duration": 1281,
    "start_time": "2025-02-18T12:15:04.733Z"
   },
   {
    "duration": 71,
    "start_time": "2025-02-18T12:15:06.016Z"
   },
   {
    "duration": 8,
    "start_time": "2025-02-18T12:15:06.089Z"
   },
   {
    "duration": 52,
    "start_time": "2025-02-18T12:15:06.099Z"
   },
   {
    "duration": 25,
    "start_time": "2025-02-18T12:15:06.153Z"
   },
   {
    "duration": 83,
    "start_time": "2025-02-18T12:15:06.179Z"
   },
   {
    "duration": 11,
    "start_time": "2025-02-18T12:15:06.264Z"
   },
   {
    "duration": 19,
    "start_time": "2025-02-18T12:15:06.277Z"
   },
   {
    "duration": 53,
    "start_time": "2025-02-18T12:15:06.298Z"
   },
   {
    "duration": 36,
    "start_time": "2025-02-18T12:15:06.352Z"
   },
   {
    "duration": 58,
    "start_time": "2025-02-18T12:15:06.389Z"
   },
   {
    "duration": 27,
    "start_time": "2025-02-18T12:15:06.449Z"
   },
   {
    "duration": 30,
    "start_time": "2025-02-18T12:15:06.478Z"
   },
   {
    "duration": 69,
    "start_time": "2025-02-18T12:15:06.512Z"
   },
   {
    "duration": 197,
    "start_time": "2025-02-18T12:15:06.583Z"
   },
   {
    "duration": 10,
    "start_time": "2025-02-18T12:15:06.781Z"
   },
   {
    "duration": 53,
    "start_time": "2025-02-18T12:15:06.793Z"
   },
   {
    "duration": 95,
    "start_time": "2025-02-18T12:15:06.848Z"
   },
   {
    "duration": 10,
    "start_time": "2025-02-18T12:15:06.945Z"
   },
   {
    "duration": 377,
    "start_time": "2025-02-18T12:15:06.956Z"
   },
   {
    "duration": 9,
    "start_time": "2025-02-18T12:15:07.334Z"
   },
   {
    "duration": 85,
    "start_time": "2025-02-18T12:15:07.345Z"
   },
   {
    "duration": 930,
    "start_time": "2025-02-18T12:15:07.432Z"
   },
   {
    "duration": 13,
    "start_time": "2025-02-18T12:15:08.364Z"
   },
   {
    "duration": 825,
    "start_time": "2025-02-18T12:15:08.379Z"
   },
   {
    "duration": 13,
    "start_time": "2025-02-18T12:15:09.206Z"
   },
   {
    "duration": 128,
    "start_time": "2025-02-18T12:15:09.221Z"
   },
   {
    "duration": 0,
    "start_time": "2025-02-18T12:15:09.351Z"
   },
   {
    "duration": 11,
    "start_time": "2025-02-18T12:15:44.931Z"
   },
   {
    "duration": 12,
    "start_time": "2025-02-18T12:15:49.752Z"
   },
   {
    "duration": 11,
    "start_time": "2025-02-18T12:16:24.489Z"
   },
   {
    "duration": 17,
    "start_time": "2025-02-18T12:16:34.057Z"
   },
   {
    "duration": 21,
    "start_time": "2025-02-18T12:16:42.793Z"
   },
   {
    "duration": 15,
    "start_time": "2025-02-18T12:16:51.002Z"
   },
   {
    "duration": 14,
    "start_time": "2025-02-18T12:17:30.627Z"
   },
   {
    "duration": 14,
    "start_time": "2025-02-18T12:20:36.672Z"
   },
   {
    "duration": 13,
    "start_time": "2025-02-18T12:21:04.864Z"
   },
   {
    "duration": 968,
    "start_time": "2025-02-18T12:22:41.314Z"
   },
   {
    "duration": 832,
    "start_time": "2025-02-18T12:22:42.284Z"
   },
   {
    "duration": 662,
    "start_time": "2025-02-18T12:24:32.509Z"
   },
   {
    "duration": 203,
    "start_time": "2025-02-18T12:25:16.350Z"
   },
   {
    "duration": 766,
    "start_time": "2025-02-18T12:25:27.630Z"
   },
   {
    "duration": 662,
    "start_time": "2025-02-18T12:26:02.351Z"
   },
   {
    "duration": 620,
    "start_time": "2025-02-18T12:26:38.176Z"
   },
   {
    "duration": 625,
    "start_time": "2025-02-18T12:27:19.033Z"
   },
   {
    "duration": 596,
    "start_time": "2025-02-18T12:27:58.578Z"
   },
   {
    "duration": 15,
    "start_time": "2025-02-18T12:42:18.123Z"
   },
   {
    "duration": 13,
    "start_time": "2025-02-18T12:42:22.060Z"
   },
   {
    "duration": 2376,
    "start_time": "2025-02-18T12:45:54.013Z"
   },
   {
    "duration": 0,
    "start_time": "2025-02-18T12:45:56.391Z"
   },
   {
    "duration": 4,
    "start_time": "2025-02-18T12:46:15.661Z"
   },
   {
    "duration": 4,
    "start_time": "2025-02-18T12:46:20.565Z"
   },
   {
    "duration": 148,
    "start_time": "2025-02-18T12:46:20.941Z"
   },
   {
    "duration": 13,
    "start_time": "2025-02-18T12:46:29.277Z"
   },
   {
    "duration": 133,
    "start_time": "2025-02-18T12:47:00.214Z"
   },
   {
    "duration": 98,
    "start_time": "2025-02-18T12:47:25.909Z"
   },
   {
    "duration": 134,
    "start_time": "2025-02-18T12:47:42.063Z"
   },
   {
    "duration": 126,
    "start_time": "2025-02-18T12:47:56.662Z"
   },
   {
    "duration": 134,
    "start_time": "2025-02-18T12:48:01.110Z"
   },
   {
    "duration": 143,
    "start_time": "2025-02-18T12:49:17.839Z"
   },
   {
    "duration": 10,
    "start_time": "2025-02-18T12:49:25.031Z"
   },
   {
    "duration": 7,
    "start_time": "2025-02-18T12:49:35.287Z"
   },
   {
    "duration": 18,
    "start_time": "2025-02-18T12:49:59.920Z"
   },
   {
    "duration": 9,
    "start_time": "2025-02-18T12:50:01.407Z"
   },
   {
    "duration": 15,
    "start_time": "2025-02-18T12:50:42.072Z"
   },
   {
    "duration": 12,
    "start_time": "2025-02-18T12:50:42.456Z"
   },
   {
    "duration": 15,
    "start_time": "2025-02-18T12:50:47.856Z"
   },
   {
    "duration": 15,
    "start_time": "2025-02-18T12:50:48.295Z"
   },
   {
    "duration": 1288,
    "start_time": "2025-02-18T12:50:52.323Z"
   },
   {
    "duration": 70,
    "start_time": "2025-02-18T12:50:53.613Z"
   },
   {
    "duration": 86,
    "start_time": "2025-02-18T12:50:53.684Z"
   },
   {
    "duration": 26,
    "start_time": "2025-02-18T12:50:53.772Z"
   },
   {
    "duration": 28,
    "start_time": "2025-02-18T12:50:53.800Z"
   },
   {
    "duration": 30,
    "start_time": "2025-02-18T12:50:53.831Z"
   },
   {
    "duration": 11,
    "start_time": "2025-02-18T12:50:53.864Z"
   },
   {
    "duration": 32,
    "start_time": "2025-02-18T12:50:53.877Z"
   },
   {
    "duration": 23,
    "start_time": "2025-02-18T12:50:53.911Z"
   },
   {
    "duration": 13,
    "start_time": "2025-02-18T12:50:53.936Z"
   },
   {
    "duration": 8,
    "start_time": "2025-02-18T12:50:53.951Z"
   },
   {
    "duration": 33,
    "start_time": "2025-02-18T12:50:53.961Z"
   },
   {
    "duration": 68,
    "start_time": "2025-02-18T12:50:53.996Z"
   },
   {
    "duration": 11,
    "start_time": "2025-02-18T12:50:54.068Z"
   },
   {
    "duration": 214,
    "start_time": "2025-02-18T12:50:54.081Z"
   },
   {
    "duration": 12,
    "start_time": "2025-02-18T12:50:54.297Z"
   },
   {
    "duration": 12,
    "start_time": "2025-02-18T12:50:54.311Z"
   },
   {
    "duration": 89,
    "start_time": "2025-02-18T12:50:54.325Z"
   },
   {
    "duration": 11,
    "start_time": "2025-02-18T12:50:54.416Z"
   },
   {
    "duration": 388,
    "start_time": "2025-02-18T12:50:54.428Z"
   },
   {
    "duration": 8,
    "start_time": "2025-02-18T12:50:54.818Z"
   },
   {
    "duration": 27,
    "start_time": "2025-02-18T12:50:54.828Z"
   },
   {
    "duration": 908,
    "start_time": "2025-02-18T12:50:54.857Z"
   },
   {
    "duration": 9,
    "start_time": "2025-02-18T12:50:55.767Z"
   },
   {
    "duration": 840,
    "start_time": "2025-02-18T12:50:55.778Z"
   },
   {
    "duration": 13,
    "start_time": "2025-02-18T12:50:56.620Z"
   },
   {
    "duration": 33,
    "start_time": "2025-02-18T12:50:56.635Z"
   },
   {
    "duration": 66,
    "start_time": "2025-02-18T12:50:56.670Z"
   },
   {
    "duration": 43,
    "start_time": "2025-02-18T12:50:56.738Z"
   },
   {
    "duration": 12,
    "start_time": "2025-02-18T12:50:56.782Z"
   },
   {
    "duration": 686,
    "start_time": "2025-02-18T12:50:56.795Z"
   },
   {
    "duration": 831,
    "start_time": "2025-02-18T12:50:57.483Z"
   },
   {
    "duration": 14,
    "start_time": "2025-02-18T12:50:58.316Z"
   },
   {
    "duration": 31,
    "start_time": "2025-02-18T12:50:58.332Z"
   },
   {
    "duration": 9,
    "start_time": "2025-02-18T12:50:58.365Z"
   },
   {
    "duration": 44,
    "start_time": "2025-02-18T12:52:39.204Z"
   },
   {
    "duration": 19,
    "start_time": "2025-02-18T12:52:58.171Z"
   },
   {
    "duration": 1302,
    "start_time": "2025-02-18T12:53:10.521Z"
   },
   {
    "duration": 72,
    "start_time": "2025-02-18T12:53:11.826Z"
   },
   {
    "duration": 9,
    "start_time": "2025-02-18T12:53:11.901Z"
   },
   {
    "duration": 45,
    "start_time": "2025-02-18T12:53:11.912Z"
   },
   {
    "duration": 74,
    "start_time": "2025-02-18T12:53:11.960Z"
   },
   {
    "duration": 24,
    "start_time": "2025-02-18T12:53:12.036Z"
   },
   {
    "duration": 41,
    "start_time": "2025-02-18T12:53:12.062Z"
   },
   {
    "duration": 34,
    "start_time": "2025-02-18T12:53:12.105Z"
   },
   {
    "duration": 41,
    "start_time": "2025-02-18T12:53:12.141Z"
   },
   {
    "duration": 40,
    "start_time": "2025-02-18T12:53:12.184Z"
   },
   {
    "duration": 35,
    "start_time": "2025-02-18T12:53:12.226Z"
   },
   {
    "duration": 41,
    "start_time": "2025-02-18T12:53:12.263Z"
   },
   {
    "duration": 50,
    "start_time": "2025-02-18T12:53:12.306Z"
   },
   {
    "duration": 12,
    "start_time": "2025-02-18T12:53:12.360Z"
   },
   {
    "duration": 210,
    "start_time": "2025-02-18T12:53:12.373Z"
   },
   {
    "duration": 10,
    "start_time": "2025-02-18T12:53:12.585Z"
   },
   {
    "duration": 5,
    "start_time": "2025-02-18T12:53:12.597Z"
   },
   {
    "duration": 95,
    "start_time": "2025-02-18T12:53:12.604Z"
   },
   {
    "duration": 10,
    "start_time": "2025-02-18T12:53:12.701Z"
   },
   {
    "duration": 390,
    "start_time": "2025-02-18T12:53:12.713Z"
   },
   {
    "duration": 9,
    "start_time": "2025-02-18T12:53:13.105Z"
   },
   {
    "duration": 18,
    "start_time": "2025-02-18T12:53:13.115Z"
   },
   {
    "duration": 908,
    "start_time": "2025-02-18T12:53:13.135Z"
   },
   {
    "duration": 14,
    "start_time": "2025-02-18T12:53:14.045Z"
   },
   {
    "duration": 868,
    "start_time": "2025-02-18T12:53:14.060Z"
   },
   {
    "duration": 25,
    "start_time": "2025-02-18T12:53:14.930Z"
   },
   {
    "duration": 32,
    "start_time": "2025-02-18T12:53:14.957Z"
   },
   {
    "duration": 14,
    "start_time": "2025-02-18T12:53:14.991Z"
   },
   {
    "duration": 129,
    "start_time": "2025-02-18T12:53:15.006Z"
   },
   {
    "duration": 27,
    "start_time": "2025-02-18T12:53:15.136Z"
   },
   {
    "duration": 671,
    "start_time": "2025-02-18T12:53:15.164Z"
   },
   {
    "duration": 793,
    "start_time": "2025-02-18T12:53:15.836Z"
   },
   {
    "duration": 14,
    "start_time": "2025-02-18T12:53:16.631Z"
   },
   {
    "duration": 13,
    "start_time": "2025-02-18T12:53:16.656Z"
   },
   {
    "duration": 8,
    "start_time": "2025-02-18T12:53:16.671Z"
   },
   {
    "duration": 47,
    "start_time": "2025-02-18T12:53:16.681Z"
   },
   {
    "duration": 35,
    "start_time": "2025-02-18T12:53:16.730Z"
   },
   {
    "duration": 18,
    "start_time": "2025-02-18T12:53:28.626Z"
   },
   {
    "duration": 4,
    "start_time": "2025-02-18T12:54:31.748Z"
   },
   {
    "duration": 13,
    "start_time": "2025-02-18T12:54:34.116Z"
   },
   {
    "duration": 10,
    "start_time": "2025-02-18T12:54:34.548Z"
   },
   {
    "duration": 1212,
    "start_time": "2025-02-18T12:54:40.384Z"
   },
   {
    "duration": 73,
    "start_time": "2025-02-18T12:54:41.598Z"
   },
   {
    "duration": 8,
    "start_time": "2025-02-18T12:54:41.674Z"
   },
   {
    "duration": 101,
    "start_time": "2025-02-18T12:54:41.684Z"
   },
   {
    "duration": 12,
    "start_time": "2025-02-18T12:54:41.788Z"
   },
   {
    "duration": 13,
    "start_time": "2025-02-18T12:54:41.802Z"
   },
   {
    "duration": 11,
    "start_time": "2025-02-18T12:54:41.817Z"
   },
   {
    "duration": 14,
    "start_time": "2025-02-18T12:54:41.829Z"
   },
   {
    "duration": 10,
    "start_time": "2025-02-18T12:54:41.845Z"
   },
   {
    "duration": 7,
    "start_time": "2025-02-18T12:54:41.857Z"
   },
   {
    "duration": 6,
    "start_time": "2025-02-18T12:54:41.866Z"
   },
   {
    "duration": 12,
    "start_time": "2025-02-18T12:54:41.874Z"
   },
   {
    "duration": 17,
    "start_time": "2025-02-18T12:54:41.887Z"
   },
   {
    "duration": 12,
    "start_time": "2025-02-18T12:54:41.907Z"
   },
   {
    "duration": 237,
    "start_time": "2025-02-18T12:54:41.920Z"
   },
   {
    "duration": 11,
    "start_time": "2025-02-18T12:54:42.159Z"
   },
   {
    "duration": 17,
    "start_time": "2025-02-18T12:54:42.172Z"
   },
   {
    "duration": 88,
    "start_time": "2025-02-18T12:54:42.190Z"
   },
   {
    "duration": 11,
    "start_time": "2025-02-18T12:54:42.280Z"
   },
   {
    "duration": 383,
    "start_time": "2025-02-18T12:54:42.293Z"
   },
   {
    "duration": 10,
    "start_time": "2025-02-18T12:54:42.678Z"
   },
   {
    "duration": 17,
    "start_time": "2025-02-18T12:54:42.690Z"
   },
   {
    "duration": 927,
    "start_time": "2025-02-18T12:54:42.708Z"
   },
   {
    "duration": 19,
    "start_time": "2025-02-18T12:54:43.637Z"
   },
   {
    "duration": 798,
    "start_time": "2025-02-18T12:54:43.657Z"
   },
   {
    "duration": 12,
    "start_time": "2025-02-18T12:54:44.457Z"
   },
   {
    "duration": 11,
    "start_time": "2025-02-18T12:54:44.471Z"
   },
   {
    "duration": 13,
    "start_time": "2025-02-18T12:54:44.483Z"
   },
   {
    "duration": 40,
    "start_time": "2025-02-18T12:54:44.498Z"
   },
   {
    "duration": 17,
    "start_time": "2025-02-18T12:54:44.539Z"
   },
   {
    "duration": 643,
    "start_time": "2025-02-18T12:54:44.557Z"
   },
   {
    "duration": 869,
    "start_time": "2025-02-18T12:54:45.202Z"
   },
   {
    "duration": 4,
    "start_time": "2025-02-18T12:54:46.074Z"
   },
   {
    "duration": 16,
    "start_time": "2025-02-18T12:54:46.080Z"
   },
   {
    "duration": 12,
    "start_time": "2025-02-18T12:54:46.097Z"
   },
   {
    "duration": 12,
    "start_time": "2025-02-18T12:55:00.710Z"
   },
   {
    "duration": 21,
    "start_time": "2025-02-18T12:55:41.423Z"
   },
   {
    "duration": 1329,
    "start_time": "2025-02-18T12:55:45.679Z"
   },
   {
    "duration": 78,
    "start_time": "2025-02-18T12:55:47.011Z"
   },
   {
    "duration": 28,
    "start_time": "2025-02-18T12:55:47.091Z"
   },
   {
    "duration": 6,
    "start_time": "2025-02-18T12:55:47.121Z"
   },
   {
    "duration": 12,
    "start_time": "2025-02-18T12:55:47.130Z"
   },
   {
    "duration": 13,
    "start_time": "2025-02-18T12:55:47.144Z"
   },
   {
    "duration": 11,
    "start_time": "2025-02-18T12:55:47.159Z"
   },
   {
    "duration": 18,
    "start_time": "2025-02-18T12:55:47.171Z"
   },
   {
    "duration": 16,
    "start_time": "2025-02-18T12:55:47.191Z"
   },
   {
    "duration": 7,
    "start_time": "2025-02-18T12:55:47.209Z"
   },
   {
    "duration": 20,
    "start_time": "2025-02-18T12:55:47.219Z"
   },
   {
    "duration": 21,
    "start_time": "2025-02-18T12:55:47.241Z"
   },
   {
    "duration": 18,
    "start_time": "2025-02-18T12:55:47.264Z"
   },
   {
    "duration": 11,
    "start_time": "2025-02-18T12:55:47.286Z"
   },
   {
    "duration": 261,
    "start_time": "2025-02-18T12:55:47.299Z"
   },
   {
    "duration": 11,
    "start_time": "2025-02-18T12:55:47.563Z"
   },
   {
    "duration": 11,
    "start_time": "2025-02-18T12:55:47.577Z"
   },
   {
    "duration": 103,
    "start_time": "2025-02-18T12:55:47.590Z"
   },
   {
    "duration": 10,
    "start_time": "2025-02-18T12:55:47.695Z"
   },
   {
    "duration": 450,
    "start_time": "2025-02-18T12:55:47.707Z"
   },
   {
    "duration": 9,
    "start_time": "2025-02-18T12:55:48.159Z"
   },
   {
    "duration": 126,
    "start_time": "2025-02-18T12:55:48.170Z"
   },
   {
    "duration": 910,
    "start_time": "2025-02-18T12:55:48.298Z"
   },
   {
    "duration": 10,
    "start_time": "2025-02-18T12:55:49.209Z"
   },
   {
    "duration": 817,
    "start_time": "2025-02-18T12:55:49.221Z"
   },
   {
    "duration": 24,
    "start_time": "2025-02-18T12:55:50.040Z"
   },
   {
    "duration": 202,
    "start_time": "2025-02-18T12:55:50.065Z"
   },
   {
    "duration": 47,
    "start_time": "2025-02-18T12:55:50.269Z"
   },
   {
    "duration": 34,
    "start_time": "2025-02-18T12:55:50.318Z"
   },
   {
    "duration": 22,
    "start_time": "2025-02-18T12:55:50.353Z"
   },
   {
    "duration": 658,
    "start_time": "2025-02-18T12:55:50.376Z"
   },
   {
    "duration": 858,
    "start_time": "2025-02-18T12:55:51.036Z"
   },
   {
    "duration": 16,
    "start_time": "2025-02-18T12:55:51.896Z"
   },
   {
    "duration": 200,
    "start_time": "2025-02-18T12:55:51.914Z"
   },
   {
    "duration": 13,
    "start_time": "2025-02-18T12:55:52.116Z"
   },
   {
    "duration": 16,
    "start_time": "2025-02-18T12:56:12.797Z"
   },
   {
    "duration": 12,
    "start_time": "2025-02-18T12:56:15.093Z"
   },
   {
    "duration": 19,
    "start_time": "2025-02-18T12:56:31.629Z"
   },
   {
    "duration": 12,
    "start_time": "2025-02-18T12:56:34.174Z"
   },
   {
    "duration": 17,
    "start_time": "2025-02-18T12:56:48.430Z"
   },
   {
    "duration": 16,
    "start_time": "2025-02-18T12:56:59.062Z"
   },
   {
    "duration": 15,
    "start_time": "2025-02-18T12:57:38.423Z"
   },
   {
    "duration": 15,
    "start_time": "2025-02-18T12:57:50.727Z"
   },
   {
    "duration": 20,
    "start_time": "2025-02-18T12:58:09.727Z"
   },
   {
    "duration": 17,
    "start_time": "2025-02-18T12:58:10.335Z"
   },
   {
    "duration": 21,
    "start_time": "2025-02-18T12:58:24.735Z"
   },
   {
    "duration": 19,
    "start_time": "2025-02-18T12:58:43.087Z"
   },
   {
    "duration": 18,
    "start_time": "2025-02-18T12:58:46.415Z"
   },
   {
    "duration": 22,
    "start_time": "2025-02-18T12:59:21.648Z"
   },
   {
    "duration": 17,
    "start_time": "2025-02-18T12:59:27.928Z"
   },
   {
    "duration": 20,
    "start_time": "2025-02-18T12:59:48.105Z"
   },
   {
    "duration": 17,
    "start_time": "2025-02-18T12:59:48.657Z"
   },
   {
    "duration": 22,
    "start_time": "2025-02-18T13:00:36.137Z"
   },
   {
    "duration": 18,
    "start_time": "2025-02-18T13:00:36.850Z"
   },
   {
    "duration": 16,
    "start_time": "2025-02-18T13:03:18.053Z"
   },
   {
    "duration": 14,
    "start_time": "2025-02-18T13:03:19.909Z"
   },
   {
    "duration": 17,
    "start_time": "2025-02-18T13:03:41.453Z"
   },
   {
    "duration": 6,
    "start_time": "2025-02-18T13:03:52.645Z"
   },
   {
    "duration": 12,
    "start_time": "2025-02-18T13:04:08.076Z"
   },
   {
    "duration": 4,
    "start_time": "2025-02-18T13:05:06.799Z"
   },
   {
    "duration": 11,
    "start_time": "2025-02-18T13:05:11.678Z"
   },
   {
    "duration": 113,
    "start_time": "2025-02-18T13:05:55.199Z"
   },
   {
    "duration": 13,
    "start_time": "2025-02-18T13:06:23.024Z"
   },
   {
    "duration": 6,
    "start_time": "2025-02-18T13:06:31.736Z"
   },
   {
    "duration": 1400,
    "start_time": "2025-02-18T13:06:37.119Z"
   },
   {
    "duration": 83,
    "start_time": "2025-02-18T13:06:38.521Z"
   },
   {
    "duration": 9,
    "start_time": "2025-02-18T13:06:38.605Z"
   },
   {
    "duration": 40,
    "start_time": "2025-02-18T13:06:38.616Z"
   },
   {
    "duration": 12,
    "start_time": "2025-02-18T13:06:38.659Z"
   },
   {
    "duration": 30,
    "start_time": "2025-02-18T13:06:38.672Z"
   },
   {
    "duration": 16,
    "start_time": "2025-02-18T13:06:38.704Z"
   },
   {
    "duration": 24,
    "start_time": "2025-02-18T13:06:38.721Z"
   },
   {
    "duration": 6,
    "start_time": "2025-02-18T13:06:38.746Z"
   },
   {
    "duration": 7,
    "start_time": "2025-02-18T13:06:38.753Z"
   },
   {
    "duration": 25,
    "start_time": "2025-02-18T13:06:38.761Z"
   },
   {
    "duration": 24,
    "start_time": "2025-02-18T13:06:38.788Z"
   },
   {
    "duration": 18,
    "start_time": "2025-02-18T13:06:38.814Z"
   },
   {
    "duration": 14,
    "start_time": "2025-02-18T13:06:38.836Z"
   },
   {
    "duration": 205,
    "start_time": "2025-02-18T13:06:38.852Z"
   },
   {
    "duration": 11,
    "start_time": "2025-02-18T13:06:39.059Z"
   },
   {
    "duration": 9,
    "start_time": "2025-02-18T13:06:39.072Z"
   },
   {
    "duration": 97,
    "start_time": "2025-02-18T13:06:39.083Z"
   },
   {
    "duration": 10,
    "start_time": "2025-02-18T13:06:39.181Z"
   },
   {
    "duration": 413,
    "start_time": "2025-02-18T13:06:39.193Z"
   },
   {
    "duration": 9,
    "start_time": "2025-02-18T13:06:39.608Z"
   },
   {
    "duration": 65,
    "start_time": "2025-02-18T13:06:39.618Z"
   },
   {
    "duration": 897,
    "start_time": "2025-02-18T13:06:39.685Z"
   },
   {
    "duration": 9,
    "start_time": "2025-02-18T13:06:40.583Z"
   },
   {
    "duration": 827,
    "start_time": "2025-02-18T13:06:40.594Z"
   },
   {
    "duration": 14,
    "start_time": "2025-02-18T13:06:41.424Z"
   },
   {
    "duration": 25,
    "start_time": "2025-02-18T13:06:41.440Z"
   },
   {
    "duration": 14,
    "start_time": "2025-02-18T13:06:41.467Z"
   },
   {
    "duration": 21,
    "start_time": "2025-02-18T13:06:41.483Z"
   },
   {
    "duration": 12,
    "start_time": "2025-02-18T13:06:41.507Z"
   },
   {
    "duration": 691,
    "start_time": "2025-02-18T13:06:41.521Z"
   },
   {
    "duration": 817,
    "start_time": "2025-02-18T13:06:42.214Z"
   },
   {
    "duration": 24,
    "start_time": "2025-02-18T13:06:43.032Z"
   },
   {
    "duration": 17,
    "start_time": "2025-02-18T13:06:43.057Z"
   },
   {
    "duration": 11,
    "start_time": "2025-02-18T13:06:43.076Z"
   },
   {
    "duration": 2472,
    "start_time": "2025-02-18T13:06:43.089Z"
   },
   {
    "duration": 0,
    "start_time": "2025-02-18T13:06:45.563Z"
   },
   {
    "duration": 140,
    "start_time": "2025-02-18T13:08:40.978Z"
   },
   {
    "duration": 11,
    "start_time": "2025-02-18T13:08:57.890Z"
   },
   {
    "duration": 7,
    "start_time": "2025-02-18T13:09:03.523Z"
   },
   {
    "duration": 7,
    "start_time": "2025-02-18T13:10:12.156Z"
   },
   {
    "duration": 13,
    "start_time": "2025-02-18T13:10:20.003Z"
   },
   {
    "duration": 10,
    "start_time": "2025-02-18T13:10:41.165Z"
   },
   {
    "duration": 11,
    "start_time": "2025-02-18T13:10:58.108Z"
   },
   {
    "duration": 18,
    "start_time": "2025-02-18T13:27:11.147Z"
   },
   {
    "duration": 10,
    "start_time": "2025-02-18T13:27:16.890Z"
   },
   {
    "duration": 1354,
    "start_time": "2025-02-18T13:27:21.573Z"
   },
   {
    "duration": 73,
    "start_time": "2025-02-18T13:27:22.930Z"
   },
   {
    "duration": 9,
    "start_time": "2025-02-18T13:27:23.005Z"
   },
   {
    "duration": 97,
    "start_time": "2025-02-18T13:27:23.016Z"
   },
   {
    "duration": 17,
    "start_time": "2025-02-18T13:27:23.116Z"
   },
   {
    "duration": 36,
    "start_time": "2025-02-18T13:27:23.135Z"
   },
   {
    "duration": 69,
    "start_time": "2025-02-18T13:27:23.173Z"
   },
   {
    "duration": 118,
    "start_time": "2025-02-18T13:27:23.244Z"
   },
   {
    "duration": 41,
    "start_time": "2025-02-18T13:27:23.363Z"
   },
   {
    "duration": 108,
    "start_time": "2025-02-18T13:27:23.406Z"
   },
   {
    "duration": 37,
    "start_time": "2025-02-18T13:27:23.516Z"
   },
   {
    "duration": 50,
    "start_time": "2025-02-18T13:27:23.555Z"
   },
   {
    "duration": 37,
    "start_time": "2025-02-18T13:27:23.606Z"
   },
   {
    "duration": 23,
    "start_time": "2025-02-18T13:27:23.647Z"
   },
   {
    "duration": 214,
    "start_time": "2025-02-18T13:27:23.672Z"
   },
   {
    "duration": 10,
    "start_time": "2025-02-18T13:27:23.888Z"
   },
   {
    "duration": 93,
    "start_time": "2025-02-18T13:27:23.900Z"
   },
   {
    "duration": 102,
    "start_time": "2025-02-18T13:27:23.995Z"
   },
   {
    "duration": 11,
    "start_time": "2025-02-18T13:27:24.099Z"
   },
   {
    "duration": 513,
    "start_time": "2025-02-18T13:27:24.112Z"
   },
   {
    "duration": 8,
    "start_time": "2025-02-18T13:27:24.627Z"
   },
   {
    "duration": 63,
    "start_time": "2025-02-18T13:27:24.637Z"
   },
   {
    "duration": 925,
    "start_time": "2025-02-18T13:27:24.702Z"
   },
   {
    "duration": 9,
    "start_time": "2025-02-18T13:27:25.629Z"
   },
   {
    "duration": 827,
    "start_time": "2025-02-18T13:27:25.640Z"
   },
   {
    "duration": 15,
    "start_time": "2025-02-18T13:27:26.469Z"
   },
   {
    "duration": 10,
    "start_time": "2025-02-18T13:27:26.486Z"
   },
   {
    "duration": 33,
    "start_time": "2025-02-18T13:27:26.498Z"
   },
   {
    "duration": 27,
    "start_time": "2025-02-18T13:27:26.533Z"
   },
   {
    "duration": 12,
    "start_time": "2025-02-18T13:27:26.562Z"
   },
   {
    "duration": 730,
    "start_time": "2025-02-18T13:27:26.576Z"
   },
   {
    "duration": 826,
    "start_time": "2025-02-18T13:27:27.308Z"
   },
   {
    "duration": 24,
    "start_time": "2025-02-18T13:27:28.136Z"
   },
   {
    "duration": 46,
    "start_time": "2025-02-18T13:27:28.161Z"
   },
   {
    "duration": 23,
    "start_time": "2025-02-18T13:27:28.210Z"
   },
   {
    "duration": 30,
    "start_time": "2025-02-18T13:27:28.236Z"
   },
   {
    "duration": 20,
    "start_time": "2025-02-18T13:27:28.268Z"
   },
   {
    "duration": 36,
    "start_time": "2025-02-18T13:27:28.291Z"
   },
   {
    "duration": 3112,
    "start_time": "2025-02-18T13:27:28.329Z"
   },
   {
    "duration": 13,
    "start_time": "2025-02-18T13:28:50.413Z"
   },
   {
    "duration": 11,
    "start_time": "2025-02-18T13:33:51.330Z"
   },
   {
    "duration": 4,
    "start_time": "2025-02-18T13:34:27.803Z"
   },
   {
    "duration": 11,
    "start_time": "2025-02-18T13:34:32.803Z"
   },
   {
    "duration": 7,
    "start_time": "2025-02-18T13:35:43.980Z"
   },
   {
    "duration": 12,
    "start_time": "2025-02-18T13:35:45.377Z"
   },
   {
    "duration": 5,
    "start_time": "2025-02-18T13:36:31.446Z"
   },
   {
    "duration": 11,
    "start_time": "2025-02-18T13:36:31.878Z"
   },
   {
    "duration": 6,
    "start_time": "2025-02-18T13:37:02.550Z"
   },
   {
    "duration": 12,
    "start_time": "2025-02-18T13:37:05.302Z"
   },
   {
    "duration": 18,
    "start_time": "2025-02-18T13:37:41.831Z"
   },
   {
    "duration": 10,
    "start_time": "2025-02-18T13:38:34.208Z"
   },
   {
    "duration": 4,
    "start_time": "2025-02-18T13:38:36.976Z"
   },
   {
    "duration": 5,
    "start_time": "2025-02-18T13:38:37.329Z"
   },
   {
    "duration": 1286,
    "start_time": "2025-02-18T13:41:48.920Z"
   },
   {
    "duration": 72,
    "start_time": "2025-02-18T13:41:50.208Z"
   },
   {
    "duration": 9,
    "start_time": "2025-02-18T13:41:50.282Z"
   },
   {
    "duration": 33,
    "start_time": "2025-02-18T13:41:50.292Z"
   },
   {
    "duration": 12,
    "start_time": "2025-02-18T13:41:50.327Z"
   },
   {
    "duration": 22,
    "start_time": "2025-02-18T13:41:50.341Z"
   },
   {
    "duration": 12,
    "start_time": "2025-02-18T13:41:50.365Z"
   },
   {
    "duration": 31,
    "start_time": "2025-02-18T13:41:50.379Z"
   },
   {
    "duration": 36,
    "start_time": "2025-02-18T13:41:50.412Z"
   },
   {
    "duration": 26,
    "start_time": "2025-02-18T13:41:50.450Z"
   },
   {
    "duration": 12,
    "start_time": "2025-02-18T13:41:50.478Z"
   },
   {
    "duration": 18,
    "start_time": "2025-02-18T13:41:50.492Z"
   },
   {
    "duration": 49,
    "start_time": "2025-02-18T13:41:50.512Z"
   },
   {
    "duration": 11,
    "start_time": "2025-02-18T13:41:50.564Z"
   },
   {
    "duration": 210,
    "start_time": "2025-02-18T13:41:50.577Z"
   },
   {
    "duration": 10,
    "start_time": "2025-02-18T13:41:50.789Z"
   },
   {
    "duration": 72,
    "start_time": "2025-02-18T13:41:50.800Z"
   },
   {
    "duration": 102,
    "start_time": "2025-02-18T13:41:50.874Z"
   },
   {
    "duration": 9,
    "start_time": "2025-02-18T13:41:50.978Z"
   },
   {
    "duration": 359,
    "start_time": "2025-02-18T13:41:50.989Z"
   },
   {
    "duration": 9,
    "start_time": "2025-02-18T13:41:51.354Z"
   },
   {
    "duration": 54,
    "start_time": "2025-02-18T13:41:51.364Z"
   },
   {
    "duration": 881,
    "start_time": "2025-02-18T13:41:51.420Z"
   },
   {
    "duration": 9,
    "start_time": "2025-02-18T13:41:52.303Z"
   },
   {
    "duration": 796,
    "start_time": "2025-02-18T13:41:52.314Z"
   },
   {
    "duration": 13,
    "start_time": "2025-02-18T13:41:53.113Z"
   },
   {
    "duration": 55,
    "start_time": "2025-02-18T13:41:53.128Z"
   },
   {
    "duration": 38,
    "start_time": "2025-02-18T13:41:53.185Z"
   },
   {
    "duration": 27,
    "start_time": "2025-02-18T13:41:53.225Z"
   },
   {
    "duration": 17,
    "start_time": "2025-02-18T13:41:53.254Z"
   },
   {
    "duration": 719,
    "start_time": "2025-02-18T13:41:53.273Z"
   },
   {
    "duration": 856,
    "start_time": "2025-02-18T13:41:53.994Z"
   },
   {
    "duration": 16,
    "start_time": "2025-02-18T13:41:54.851Z"
   },
   {
    "duration": 26,
    "start_time": "2025-02-18T13:41:54.869Z"
   },
   {
    "duration": 12,
    "start_time": "2025-02-18T13:41:54.897Z"
   },
   {
    "duration": 12,
    "start_time": "2025-02-18T13:41:54.910Z"
   },
   {
    "duration": 31,
    "start_time": "2025-02-18T13:41:54.924Z"
   },
   {
    "duration": 7,
    "start_time": "2025-02-18T13:41:54.957Z"
   },
   {
    "duration": 11,
    "start_time": "2025-02-18T13:41:54.966Z"
   },
   {
    "duration": 48,
    "start_time": "2025-02-18T13:41:54.979Z"
   },
   {
    "duration": 17,
    "start_time": "2025-02-18T13:43:13.405Z"
   },
   {
    "duration": 13,
    "start_time": "2025-02-18T13:43:14.294Z"
   },
   {
    "duration": 10,
    "start_time": "2025-02-18T13:43:24.838Z"
   },
   {
    "duration": 10,
    "start_time": "2025-02-18T13:43:33.726Z"
   },
   {
    "duration": 9,
    "start_time": "2025-02-18T13:43:40.862Z"
   },
   {
    "duration": 154,
    "start_time": "2025-02-18T13:44:16.943Z"
   },
   {
    "duration": 111,
    "start_time": "2025-02-18T13:44:28.095Z"
   },
   {
    "duration": 26,
    "start_time": "2025-02-18T13:44:34.535Z"
   },
   {
    "duration": 13,
    "start_time": "2025-02-18T13:44:36.447Z"
   },
   {
    "duration": 1223,
    "start_time": "2025-02-18T13:44:58.181Z"
   },
   {
    "duration": 71,
    "start_time": "2025-02-18T13:44:59.406Z"
   },
   {
    "duration": 8,
    "start_time": "2025-02-18T13:44:59.479Z"
   },
   {
    "duration": 61,
    "start_time": "2025-02-18T13:44:59.488Z"
   },
   {
    "duration": 12,
    "start_time": "2025-02-18T13:44:59.551Z"
   },
   {
    "duration": 12,
    "start_time": "2025-02-18T13:44:59.565Z"
   },
   {
    "duration": 17,
    "start_time": "2025-02-18T13:44:59.578Z"
   },
   {
    "duration": 15,
    "start_time": "2025-02-18T13:44:59.597Z"
   },
   {
    "duration": 6,
    "start_time": "2025-02-18T13:44:59.614Z"
   },
   {
    "duration": 7,
    "start_time": "2025-02-18T13:44:59.622Z"
   },
   {
    "duration": 26,
    "start_time": "2025-02-18T13:44:59.631Z"
   },
   {
    "duration": 34,
    "start_time": "2025-02-18T13:44:59.659Z"
   },
   {
    "duration": 33,
    "start_time": "2025-02-18T13:44:59.695Z"
   },
   {
    "duration": 26,
    "start_time": "2025-02-18T13:44:59.731Z"
   },
   {
    "duration": 191,
    "start_time": "2025-02-18T13:44:59.758Z"
   },
   {
    "duration": 10,
    "start_time": "2025-02-18T13:44:59.954Z"
   },
   {
    "duration": 45,
    "start_time": "2025-02-18T13:44:59.966Z"
   },
   {
    "duration": 276,
    "start_time": "2025-02-18T13:45:00.013Z"
   },
   {
    "duration": 31,
    "start_time": "2025-02-18T13:45:00.291Z"
   },
   {
    "duration": 377,
    "start_time": "2025-02-18T13:45:00.324Z"
   },
   {
    "duration": 9,
    "start_time": "2025-02-18T13:45:00.703Z"
   },
   {
    "duration": 53,
    "start_time": "2025-02-18T13:45:00.713Z"
   },
   {
    "duration": 975,
    "start_time": "2025-02-18T13:45:00.768Z"
   },
   {
    "duration": 14,
    "start_time": "2025-02-18T13:45:01.745Z"
   },
   {
    "duration": 1134,
    "start_time": "2025-02-18T13:45:01.761Z"
   },
   {
    "duration": 14,
    "start_time": "2025-02-18T13:45:02.898Z"
   },
   {
    "duration": 127,
    "start_time": "2025-02-18T13:45:02.914Z"
   },
   {
    "duration": 24,
    "start_time": "2025-02-18T13:45:03.043Z"
   },
   {
    "duration": 162,
    "start_time": "2025-02-18T13:45:03.069Z"
   },
   {
    "duration": 74,
    "start_time": "2025-02-18T13:45:03.233Z"
   },
   {
    "duration": 690,
    "start_time": "2025-02-18T13:45:03.309Z"
   },
   {
    "duration": 842,
    "start_time": "2025-02-18T13:45:04.001Z"
   },
   {
    "duration": 21,
    "start_time": "2025-02-18T13:45:04.845Z"
   },
   {
    "duration": 80,
    "start_time": "2025-02-18T13:45:04.868Z"
   },
   {
    "duration": 37,
    "start_time": "2025-02-18T13:45:04.950Z"
   },
   {
    "duration": 46,
    "start_time": "2025-02-18T13:45:04.988Z"
   },
   {
    "duration": 46,
    "start_time": "2025-02-18T13:45:05.036Z"
   },
   {
    "duration": 105,
    "start_time": "2025-02-18T13:45:05.084Z"
   },
   {
    "duration": 79,
    "start_time": "2025-02-18T13:45:05.192Z"
   },
   {
    "duration": 12,
    "start_time": "2025-02-18T13:45:31.083Z"
   },
   {
    "duration": 11,
    "start_time": "2025-02-18T13:45:43.932Z"
   },
   {
    "duration": 1375,
    "start_time": "2025-02-18T13:45:49.436Z"
   },
   {
    "duration": 73,
    "start_time": "2025-02-18T13:45:50.813Z"
   },
   {
    "duration": 8,
    "start_time": "2025-02-18T13:45:50.888Z"
   },
   {
    "duration": 45,
    "start_time": "2025-02-18T13:45:50.898Z"
   },
   {
    "duration": 54,
    "start_time": "2025-02-18T13:45:50.946Z"
   },
   {
    "duration": 63,
    "start_time": "2025-02-18T13:45:51.002Z"
   },
   {
    "duration": 104,
    "start_time": "2025-02-18T13:45:51.067Z"
   },
   {
    "duration": 74,
    "start_time": "2025-02-18T13:45:51.173Z"
   },
   {
    "duration": 60,
    "start_time": "2025-02-18T13:45:51.249Z"
   },
   {
    "duration": 60,
    "start_time": "2025-02-18T13:45:51.311Z"
   },
   {
    "duration": 25,
    "start_time": "2025-02-18T13:45:51.373Z"
   },
   {
    "duration": 67,
    "start_time": "2025-02-18T13:45:51.400Z"
   },
   {
    "duration": 95,
    "start_time": "2025-02-18T13:45:51.469Z"
   },
   {
    "duration": 66,
    "start_time": "2025-02-18T13:45:51.567Z"
   },
   {
    "duration": 202,
    "start_time": "2025-02-18T13:45:51.635Z"
   },
   {
    "duration": 16,
    "start_time": "2025-02-18T13:45:51.839Z"
   },
   {
    "duration": 87,
    "start_time": "2025-02-18T13:45:51.857Z"
   },
   {
    "duration": 161,
    "start_time": "2025-02-18T13:45:51.945Z"
   },
   {
    "duration": 11,
    "start_time": "2025-02-18T13:45:52.108Z"
   },
   {
    "duration": 377,
    "start_time": "2025-02-18T13:45:52.121Z"
   },
   {
    "duration": 8,
    "start_time": "2025-02-18T13:45:52.500Z"
   },
   {
    "duration": 212,
    "start_time": "2025-02-18T13:45:52.510Z"
   },
   {
    "duration": 1002,
    "start_time": "2025-02-18T13:45:52.724Z"
   },
   {
    "duration": 10,
    "start_time": "2025-02-18T13:45:53.727Z"
   },
   {
    "duration": 828,
    "start_time": "2025-02-18T13:45:53.739Z"
   },
   {
    "duration": 15,
    "start_time": "2025-02-18T13:45:54.569Z"
   },
   {
    "duration": 31,
    "start_time": "2025-02-18T13:45:54.585Z"
   },
   {
    "duration": 14,
    "start_time": "2025-02-18T13:45:54.617Z"
   },
   {
    "duration": 22,
    "start_time": "2025-02-18T13:45:54.633Z"
   },
   {
    "duration": 12,
    "start_time": "2025-02-18T13:45:54.657Z"
   },
   {
    "duration": 728,
    "start_time": "2025-02-18T13:45:54.671Z"
   },
   {
    "duration": 846,
    "start_time": "2025-02-18T13:45:55.401Z"
   },
   {
    "duration": 19,
    "start_time": "2025-02-18T13:45:56.249Z"
   },
   {
    "duration": 28,
    "start_time": "2025-02-18T13:45:56.270Z"
   },
   {
    "duration": 13,
    "start_time": "2025-02-18T13:45:56.300Z"
   },
   {
    "duration": 21,
    "start_time": "2025-02-18T13:45:56.315Z"
   },
   {
    "duration": 23,
    "start_time": "2025-02-18T13:45:56.338Z"
   },
   {
    "duration": 12,
    "start_time": "2025-02-18T13:45:56.363Z"
   },
   {
    "duration": 232,
    "start_time": "2025-02-18T13:45:56.377Z"
   },
   {
    "duration": 43,
    "start_time": "2025-02-18T13:48:21.627Z"
   },
   {
    "duration": 14,
    "start_time": "2025-02-18T13:48:22.932Z"
   },
   {
    "duration": 152,
    "start_time": "2025-02-18T13:50:50.694Z"
   },
   {
    "duration": 166,
    "start_time": "2025-02-18T13:50:59.830Z"
   },
   {
    "duration": 20,
    "start_time": "2025-02-18T13:51:27.183Z"
   },
   {
    "duration": 10,
    "start_time": "2025-02-18T13:51:27.878Z"
   },
   {
    "duration": 24,
    "start_time": "2025-02-18T13:52:13.191Z"
   },
   {
    "duration": 11,
    "start_time": "2025-02-18T13:52:14.032Z"
   },
   {
    "duration": 145,
    "start_time": "2025-02-18T13:52:37.151Z"
   },
   {
    "duration": 186,
    "start_time": "2025-02-18T13:52:41.935Z"
   },
   {
    "duration": 130,
    "start_time": "2025-02-18T13:52:47.103Z"
   },
   {
    "duration": 147,
    "start_time": "2025-02-18T13:52:50.655Z"
   },
   {
    "duration": 203,
    "start_time": "2025-02-18T13:54:29.945Z"
   },
   {
    "duration": 11,
    "start_time": "2025-02-18T13:54:30.680Z"
   },
   {
    "duration": 31,
    "start_time": "2025-02-18T13:56:29.218Z"
   },
   {
    "duration": 12,
    "start_time": "2025-02-18T13:56:30.274Z"
   },
   {
    "duration": 29,
    "start_time": "2025-02-18T13:56:38.571Z"
   },
   {
    "duration": 12,
    "start_time": "2025-02-18T13:56:39.409Z"
   },
   {
    "duration": 34,
    "start_time": "2025-02-18T13:56:58.372Z"
   },
   {
    "duration": 13,
    "start_time": "2025-02-18T13:56:58.883Z"
   },
   {
    "duration": 12,
    "start_time": "2025-02-18T13:57:59.853Z"
   },
   {
    "duration": 13,
    "start_time": "2025-02-18T13:58:07.124Z"
   },
   {
    "duration": 38,
    "start_time": "2025-02-18T13:58:19.429Z"
   },
   {
    "duration": 12,
    "start_time": "2025-02-18T13:58:19.932Z"
   },
   {
    "duration": 1195,
    "start_time": "2025-02-18T13:58:31.907Z"
   },
   {
    "duration": 83,
    "start_time": "2025-02-18T13:58:33.105Z"
   },
   {
    "duration": 9,
    "start_time": "2025-02-18T13:58:33.190Z"
   },
   {
    "duration": 51,
    "start_time": "2025-02-18T13:58:33.201Z"
   },
   {
    "duration": 45,
    "start_time": "2025-02-18T13:58:33.255Z"
   },
   {
    "duration": 41,
    "start_time": "2025-02-18T13:58:33.302Z"
   },
   {
    "duration": 19,
    "start_time": "2025-02-18T13:58:33.345Z"
   },
   {
    "duration": 24,
    "start_time": "2025-02-18T13:58:33.366Z"
   },
   {
    "duration": 26,
    "start_time": "2025-02-18T13:58:33.392Z"
   },
   {
    "duration": 12,
    "start_time": "2025-02-18T13:58:33.420Z"
   },
   {
    "duration": 12,
    "start_time": "2025-02-18T13:58:33.434Z"
   },
   {
    "duration": 14,
    "start_time": "2025-02-18T13:58:33.447Z"
   },
   {
    "duration": 33,
    "start_time": "2025-02-18T13:58:33.462Z"
   },
   {
    "duration": 117,
    "start_time": "2025-02-18T13:58:33.498Z"
   },
   {
    "duration": 200,
    "start_time": "2025-02-18T13:58:33.617Z"
   },
   {
    "duration": 10,
    "start_time": "2025-02-18T13:58:33.820Z"
   },
   {
    "duration": 23,
    "start_time": "2025-02-18T13:58:33.832Z"
   },
   {
    "duration": 300,
    "start_time": "2025-02-18T13:58:33.857Z"
   },
   {
    "duration": 11,
    "start_time": "2025-02-18T13:58:34.159Z"
   },
   {
    "duration": 355,
    "start_time": "2025-02-18T13:58:34.172Z"
   },
   {
    "duration": 9,
    "start_time": "2025-02-18T13:58:34.530Z"
   },
   {
    "duration": 29,
    "start_time": "2025-02-18T13:58:34.555Z"
   },
   {
    "duration": 959,
    "start_time": "2025-02-18T13:58:34.586Z"
   },
   {
    "duration": 16,
    "start_time": "2025-02-18T13:58:35.547Z"
   },
   {
    "duration": 891,
    "start_time": "2025-02-18T13:58:35.564Z"
   },
   {
    "duration": 14,
    "start_time": "2025-02-18T13:58:36.457Z"
   },
   {
    "duration": 54,
    "start_time": "2025-02-18T13:58:36.473Z"
   },
   {
    "duration": 38,
    "start_time": "2025-02-18T13:58:36.529Z"
   },
   {
    "duration": 52,
    "start_time": "2025-02-18T13:58:36.569Z"
   },
   {
    "duration": 34,
    "start_time": "2025-02-18T13:58:36.623Z"
   },
   {
    "duration": 655,
    "start_time": "2025-02-18T13:58:36.659Z"
   },
   {
    "duration": 827,
    "start_time": "2025-02-18T13:58:37.316Z"
   },
   {
    "duration": 17,
    "start_time": "2025-02-18T13:58:38.145Z"
   },
   {
    "duration": 38,
    "start_time": "2025-02-18T13:58:38.163Z"
   },
   {
    "duration": 13,
    "start_time": "2025-02-18T13:58:38.203Z"
   },
   {
    "duration": 176,
    "start_time": "2025-02-18T13:58:38.217Z"
   },
   {
    "duration": 0,
    "start_time": "2025-02-18T13:58:38.394Z"
   },
   {
    "duration": 110,
    "start_time": "2025-02-18T13:59:49.302Z"
   },
   {
    "duration": 9,
    "start_time": "2025-02-18T14:00:41.206Z"
   },
   {
    "duration": 4,
    "start_time": "2025-02-18T14:01:02.502Z"
   },
   {
    "duration": 11,
    "start_time": "2025-02-18T14:01:09.639Z"
   },
   {
    "duration": 17,
    "start_time": "2025-02-18T14:01:32.351Z"
   },
   {
    "duration": 6,
    "start_time": "2025-02-18T14:02:02.672Z"
   },
   {
    "duration": 18,
    "start_time": "2025-02-18T14:02:12.175Z"
   },
   {
    "duration": 13,
    "start_time": "2025-02-18T14:02:21.361Z"
   },
   {
    "duration": 13,
    "start_time": "2025-02-18T14:02:26.649Z"
   },
   {
    "duration": 10,
    "start_time": "2025-02-18T14:07:33.108Z"
   },
   {
    "duration": 10,
    "start_time": "2025-02-18T14:08:33.231Z"
   },
   {
    "duration": 2666,
    "start_time": "2025-02-18T14:11:22.689Z"
   },
   {
    "duration": 2391,
    "start_time": "2025-02-18T14:11:40.554Z"
   },
   {
    "duration": 13,
    "start_time": "2025-02-18T14:12:16.962Z"
   },
   {
    "duration": 1304,
    "start_time": "2025-02-18T14:13:11.509Z"
   },
   {
    "duration": 72,
    "start_time": "2025-02-18T14:13:12.815Z"
   },
   {
    "duration": 8,
    "start_time": "2025-02-18T14:13:12.889Z"
   },
   {
    "duration": 6,
    "start_time": "2025-02-18T14:13:12.899Z"
   },
   {
    "duration": 12,
    "start_time": "2025-02-18T14:13:12.908Z"
   },
   {
    "duration": 14,
    "start_time": "2025-02-18T14:13:12.922Z"
   },
   {
    "duration": 25,
    "start_time": "2025-02-18T14:13:12.938Z"
   },
   {
    "duration": 37,
    "start_time": "2025-02-18T14:13:12.964Z"
   },
   {
    "duration": 38,
    "start_time": "2025-02-18T14:13:13.002Z"
   },
   {
    "duration": 17,
    "start_time": "2025-02-18T14:13:13.042Z"
   },
   {
    "duration": 10,
    "start_time": "2025-02-18T14:13:13.061Z"
   },
   {
    "duration": 21,
    "start_time": "2025-02-18T14:13:13.072Z"
   },
   {
    "duration": 21,
    "start_time": "2025-02-18T14:13:13.095Z"
   },
   {
    "duration": 36,
    "start_time": "2025-02-18T14:13:13.120Z"
   },
   {
    "duration": 207,
    "start_time": "2025-02-18T14:13:13.158Z"
   },
   {
    "duration": 11,
    "start_time": "2025-02-18T14:13:13.367Z"
   },
   {
    "duration": 30,
    "start_time": "2025-02-18T14:13:13.380Z"
   },
   {
    "duration": 96,
    "start_time": "2025-02-18T14:13:13.412Z"
   },
   {
    "duration": 11,
    "start_time": "2025-02-18T14:13:13.510Z"
   },
   {
    "duration": 359,
    "start_time": "2025-02-18T14:13:13.523Z"
   },
   {
    "duration": 9,
    "start_time": "2025-02-18T14:13:13.884Z"
   },
   {
    "duration": 18,
    "start_time": "2025-02-18T14:13:13.895Z"
   },
   {
    "duration": 935,
    "start_time": "2025-02-18T14:13:13.914Z"
   },
   {
    "duration": 9,
    "start_time": "2025-02-18T14:13:14.855Z"
   },
   {
    "duration": 809,
    "start_time": "2025-02-18T14:13:14.866Z"
   },
   {
    "duration": 13,
    "start_time": "2025-02-18T14:13:15.677Z"
   },
   {
    "duration": 203,
    "start_time": "2025-02-18T14:13:15.692Z"
   },
   {
    "duration": 25,
    "start_time": "2025-02-18T14:13:15.897Z"
   },
   {
    "duration": 18,
    "start_time": "2025-02-18T14:13:15.924Z"
   },
   {
    "duration": 10,
    "start_time": "2025-02-18T14:13:15.944Z"
   },
   {
    "duration": 746,
    "start_time": "2025-02-18T14:13:15.956Z"
   },
   {
    "duration": 854,
    "start_time": "2025-02-18T14:13:16.704Z"
   },
   {
    "duration": 16,
    "start_time": "2025-02-18T14:13:17.559Z"
   },
   {
    "duration": 119,
    "start_time": "2025-02-18T14:13:17.576Z"
   },
   {
    "duration": 13,
    "start_time": "2025-02-18T14:13:17.697Z"
   },
   {
    "duration": 696,
    "start_time": "2025-02-18T14:13:17.712Z"
   },
   {
    "duration": 0,
    "start_time": "2025-02-18T14:13:18.410Z"
   },
   {
    "duration": 14,
    "start_time": "2025-02-18T14:13:38.431Z"
   },
   {
    "duration": 7,
    "start_time": "2025-02-18T14:13:41.791Z"
   },
   {
    "duration": 11,
    "start_time": "2025-02-18T14:13:52.295Z"
   },
   {
    "duration": 14,
    "start_time": "2025-02-18T14:13:56.903Z"
   },
   {
    "duration": 4,
    "start_time": "2025-02-18T14:14:44.504Z"
   },
   {
    "duration": 39,
    "start_time": "2025-02-18T14:14:46.159Z"
   },
   {
    "duration": 12,
    "start_time": "2025-02-18T14:14:46.688Z"
   },
   {
    "duration": 4,
    "start_time": "2025-02-18T14:14:59.392Z"
   },
   {
    "duration": 6,
    "start_time": "2025-02-18T14:15:01.176Z"
   },
   {
    "duration": 14,
    "start_time": "2025-02-18T14:15:02.024Z"
   },
   {
    "duration": 13,
    "start_time": "2025-02-18T14:28:10.154Z"
   },
   {
    "duration": 14,
    "start_time": "2025-02-18T14:28:20.098Z"
   },
   {
    "duration": 60,
    "start_time": "2025-02-20T10:15:43.483Z"
   },
   {
    "duration": 1482,
    "start_time": "2025-02-20T10:15:48.267Z"
   },
   {
    "duration": 288,
    "start_time": "2025-02-20T10:15:49.751Z"
   },
   {
    "duration": 9,
    "start_time": "2025-02-20T10:15:50.041Z"
   },
   {
    "duration": 64,
    "start_time": "2025-02-20T10:15:50.052Z"
   },
   {
    "duration": 29,
    "start_time": "2025-02-20T10:15:50.119Z"
   },
   {
    "duration": 117,
    "start_time": "2025-02-20T10:15:50.149Z"
   },
   {
    "duration": 31,
    "start_time": "2025-02-20T10:15:50.268Z"
   },
   {
    "duration": 30,
    "start_time": "2025-02-20T10:15:50.302Z"
   },
   {
    "duration": 30,
    "start_time": "2025-02-20T10:15:50.335Z"
   },
   {
    "duration": 53,
    "start_time": "2025-02-20T10:15:50.367Z"
   },
   {
    "duration": 13,
    "start_time": "2025-02-20T10:15:50.425Z"
   },
   {
    "duration": 20,
    "start_time": "2025-02-20T10:15:50.440Z"
   },
   {
    "duration": 29,
    "start_time": "2025-02-20T10:15:50.463Z"
   },
   {
    "duration": 24,
    "start_time": "2025-02-20T10:15:50.507Z"
   },
   {
    "duration": 227,
    "start_time": "2025-02-20T10:15:50.534Z"
   },
   {
    "duration": 14,
    "start_time": "2025-02-20T10:15:50.763Z"
   },
   {
    "duration": 36,
    "start_time": "2025-02-20T10:15:50.779Z"
   },
   {
    "duration": 101,
    "start_time": "2025-02-20T10:15:50.816Z"
   },
   {
    "duration": 11,
    "start_time": "2025-02-20T10:15:50.919Z"
   },
   {
    "duration": 384,
    "start_time": "2025-02-20T10:15:50.931Z"
   },
   {
    "duration": 9,
    "start_time": "2025-02-20T10:15:51.316Z"
   },
   {
    "duration": 20,
    "start_time": "2025-02-20T10:15:51.326Z"
   },
   {
    "duration": 963,
    "start_time": "2025-02-20T10:15:51.348Z"
   },
   {
    "duration": 9,
    "start_time": "2025-02-20T10:15:52.313Z"
   },
   {
    "duration": 857,
    "start_time": "2025-02-20T10:15:52.324Z"
   },
   {
    "duration": 28,
    "start_time": "2025-02-20T10:15:53.183Z"
   },
   {
    "duration": 11,
    "start_time": "2025-02-20T10:15:53.213Z"
   },
   {
    "duration": 17,
    "start_time": "2025-02-20T10:15:53.225Z"
   },
   {
    "duration": 59,
    "start_time": "2025-02-20T10:15:53.243Z"
   },
   {
    "duration": 19,
    "start_time": "2025-02-20T10:15:53.304Z"
   },
   {
    "duration": 757,
    "start_time": "2025-02-20T10:15:53.325Z"
   },
   {
    "duration": 790,
    "start_time": "2025-02-20T10:15:54.084Z"
   },
   {
    "duration": 4,
    "start_time": "2025-02-20T10:15:54.876Z"
   },
   {
    "duration": 54,
    "start_time": "2025-02-20T10:15:54.882Z"
   },
   {
    "duration": 2,
    "start_time": "2025-02-20T10:15:54.939Z"
   },
   {
    "duration": 13,
    "start_time": "2025-02-20T10:15:54.943Z"
   },
   {
    "duration": 22,
    "start_time": "2025-02-20T10:15:54.958Z"
   },
   {
    "duration": 32,
    "start_time": "2025-02-20T10:15:54.982Z"
   },
   {
    "duration": 119,
    "start_time": "2025-02-20T10:21:48.896Z"
   },
   {
    "duration": 11,
    "start_time": "2025-02-20T10:22:04.784Z"
   },
   {
    "duration": 69,
    "start_time": "2025-02-20T10:22:09.945Z"
   },
   {
    "duration": 676,
    "start_time": "2025-02-20T10:22:16.808Z"
   },
   {
    "duration": 2,
    "start_time": "2025-02-20T10:28:49.112Z"
   },
   {
    "duration": 7,
    "start_time": "2025-02-20T10:31:35.299Z"
   },
   {
    "duration": 9,
    "start_time": "2025-02-20T10:32:22.148Z"
   },
   {
    "duration": 6,
    "start_time": "2025-02-20T10:33:08.182Z"
   },
   {
    "duration": 7,
    "start_time": "2025-02-20T10:33:17.149Z"
   },
   {
    "duration": 15,
    "start_time": "2025-02-20T10:33:21.300Z"
   },
   {
    "duration": 66,
    "start_time": "2025-02-20T10:43:58.953Z"
   },
   {
    "duration": 8,
    "start_time": "2025-02-20T10:44:07.473Z"
   },
   {
    "duration": 11,
    "start_time": "2025-02-20T10:45:01.981Z"
   },
   {
    "duration": 12,
    "start_time": "2025-02-20T10:45:26.963Z"
   },
   {
    "duration": 16,
    "start_time": "2025-02-20T10:45:36.603Z"
   },
   {
    "duration": 14,
    "start_time": "2025-02-20T10:46:39.653Z"
   },
   {
    "duration": 22,
    "start_time": "2025-02-20T10:47:24.326Z"
   },
   {
    "duration": 11,
    "start_time": "2025-02-20T10:48:12.490Z"
   },
   {
    "duration": 12,
    "start_time": "2025-02-20T10:48:22.038Z"
   },
   {
    "duration": 9,
    "start_time": "2025-02-20T10:48:28.175Z"
   },
   {
    "duration": 10,
    "start_time": "2025-02-20T10:49:29.209Z"
   },
   {
    "duration": 3,
    "start_time": "2025-02-20T10:59:12.421Z"
   },
   {
    "duration": 60,
    "start_time": "2025-02-20T11:26:17.179Z"
   },
   {
    "duration": 13,
    "start_time": "2025-02-20T11:26:24.377Z"
   },
   {
    "duration": 1292,
    "start_time": "2025-02-20T11:27:28.363Z"
   },
   {
    "duration": 77,
    "start_time": "2025-02-20T11:27:29.657Z"
   },
   {
    "duration": 9,
    "start_time": "2025-02-20T11:27:29.736Z"
   },
   {
    "duration": 10,
    "start_time": "2025-02-20T11:27:29.747Z"
   },
   {
    "duration": 12,
    "start_time": "2025-02-20T11:27:29.760Z"
   },
   {
    "duration": 12,
    "start_time": "2025-02-20T11:27:29.774Z"
   },
   {
    "duration": 30,
    "start_time": "2025-02-20T11:27:29.788Z"
   },
   {
    "duration": 12,
    "start_time": "2025-02-20T11:27:29.820Z"
   },
   {
    "duration": 5,
    "start_time": "2025-02-20T11:27:29.834Z"
   },
   {
    "duration": 77,
    "start_time": "2025-02-20T11:27:29.841Z"
   },
   {
    "duration": 14,
    "start_time": "2025-02-20T11:27:29.920Z"
   },
   {
    "duration": 18,
    "start_time": "2025-02-20T11:27:29.936Z"
   },
   {
    "duration": 26,
    "start_time": "2025-02-20T11:27:29.956Z"
   },
   {
    "duration": 12,
    "start_time": "2025-02-20T11:27:29.985Z"
   },
   {
    "duration": 230,
    "start_time": "2025-02-20T11:27:29.999Z"
   },
   {
    "duration": 11,
    "start_time": "2025-02-20T11:27:30.231Z"
   },
   {
    "duration": 148,
    "start_time": "2025-02-20T11:27:30.244Z"
   },
   {
    "duration": 219,
    "start_time": "2025-02-20T11:27:30.394Z"
   },
   {
    "duration": 12,
    "start_time": "2025-02-20T11:27:30.615Z"
   },
   {
    "duration": 400,
    "start_time": "2025-02-20T11:27:30.630Z"
   },
   {
    "duration": 11,
    "start_time": "2025-02-20T11:27:31.032Z"
   },
   {
    "duration": 15,
    "start_time": "2025-02-20T11:27:31.045Z"
   },
   {
    "duration": 993,
    "start_time": "2025-02-20T11:27:31.063Z"
   },
   {
    "duration": 9,
    "start_time": "2025-02-20T11:27:32.058Z"
   },
   {
    "duration": 880,
    "start_time": "2025-02-20T11:27:32.069Z"
   },
   {
    "duration": 13,
    "start_time": "2025-02-20T11:27:32.951Z"
   },
   {
    "duration": 46,
    "start_time": "2025-02-20T11:27:32.965Z"
   },
   {
    "duration": 23,
    "start_time": "2025-02-20T11:27:33.013Z"
   },
   {
    "duration": 41,
    "start_time": "2025-02-20T11:27:33.038Z"
   },
   {
    "duration": 62,
    "start_time": "2025-02-20T11:27:33.081Z"
   },
   {
    "duration": 674,
    "start_time": "2025-02-20T11:27:33.145Z"
   },
   {
    "duration": 903,
    "start_time": "2025-02-20T11:27:33.821Z"
   },
   {
    "duration": 4,
    "start_time": "2025-02-20T11:27:34.726Z"
   },
   {
    "duration": 82,
    "start_time": "2025-02-20T11:27:34.732Z"
   },
   {
    "duration": 4,
    "start_time": "2025-02-20T11:27:34.816Z"
   },
   {
    "duration": 36,
    "start_time": "2025-02-20T11:27:34.821Z"
   },
   {
    "duration": 32,
    "start_time": "2025-02-20T11:27:34.859Z"
   },
   {
    "duration": 15,
    "start_time": "2025-02-20T11:27:34.893Z"
   },
   {
    "duration": 30,
    "start_time": "2025-02-20T11:27:34.909Z"
   },
   {
    "duration": 27,
    "start_time": "2025-02-20T11:27:34.941Z"
   },
   {
    "duration": 135,
    "start_time": "2025-02-20T11:27:34.971Z"
   },
   {
    "duration": 1540,
    "start_time": "2025-02-20T11:28:18.822Z"
   },
   {
    "duration": 0,
    "start_time": "2025-02-20T11:28:20.367Z"
   },
   {
    "duration": 0,
    "start_time": "2025-02-20T11:28:20.369Z"
   },
   {
    "duration": 0,
    "start_time": "2025-02-20T11:28:20.371Z"
   },
   {
    "duration": 0,
    "start_time": "2025-02-20T11:28:20.372Z"
   },
   {
    "duration": 0,
    "start_time": "2025-02-20T11:28:20.373Z"
   },
   {
    "duration": 0,
    "start_time": "2025-02-20T11:28:20.376Z"
   },
   {
    "duration": 1,
    "start_time": "2025-02-20T11:28:20.377Z"
   },
   {
    "duration": 0,
    "start_time": "2025-02-20T11:28:20.380Z"
   },
   {
    "duration": 0,
    "start_time": "2025-02-20T11:28:20.381Z"
   },
   {
    "duration": 0,
    "start_time": "2025-02-20T11:28:20.382Z"
   },
   {
    "duration": 0,
    "start_time": "2025-02-20T11:28:20.406Z"
   },
   {
    "duration": 0,
    "start_time": "2025-02-20T11:28:20.407Z"
   },
   {
    "duration": 0,
    "start_time": "2025-02-20T11:28:20.409Z"
   },
   {
    "duration": 1,
    "start_time": "2025-02-20T11:28:20.410Z"
   },
   {
    "duration": 0,
    "start_time": "2025-02-20T11:28:20.412Z"
   },
   {
    "duration": 0,
    "start_time": "2025-02-20T11:28:20.413Z"
   },
   {
    "duration": 0,
    "start_time": "2025-02-20T11:28:20.415Z"
   },
   {
    "duration": 0,
    "start_time": "2025-02-20T11:28:20.417Z"
   },
   {
    "duration": 0,
    "start_time": "2025-02-20T11:28:20.419Z"
   },
   {
    "duration": 0,
    "start_time": "2025-02-20T11:28:20.421Z"
   },
   {
    "duration": 0,
    "start_time": "2025-02-20T11:28:20.423Z"
   },
   {
    "duration": 0,
    "start_time": "2025-02-20T11:28:20.425Z"
   },
   {
    "duration": 0,
    "start_time": "2025-02-20T11:28:20.428Z"
   },
   {
    "duration": 0,
    "start_time": "2025-02-20T11:28:20.430Z"
   },
   {
    "duration": 0,
    "start_time": "2025-02-20T11:28:20.432Z"
   },
   {
    "duration": 0,
    "start_time": "2025-02-20T11:28:20.436Z"
   },
   {
    "duration": 0,
    "start_time": "2025-02-20T11:28:20.437Z"
   },
   {
    "duration": 0,
    "start_time": "2025-02-20T11:28:20.439Z"
   },
   {
    "duration": 0,
    "start_time": "2025-02-20T11:28:20.442Z"
   },
   {
    "duration": 0,
    "start_time": "2025-02-20T11:28:20.443Z"
   },
   {
    "duration": 0,
    "start_time": "2025-02-20T11:28:20.444Z"
   },
   {
    "duration": 0,
    "start_time": "2025-02-20T11:28:20.445Z"
   },
   {
    "duration": 0,
    "start_time": "2025-02-20T11:28:20.446Z"
   },
   {
    "duration": 0,
    "start_time": "2025-02-20T11:28:20.451Z"
   },
   {
    "duration": 0,
    "start_time": "2025-02-20T11:28:20.504Z"
   },
   {
    "duration": 0,
    "start_time": "2025-02-20T11:28:20.510Z"
   },
   {
    "duration": 0,
    "start_time": "2025-02-20T11:28:20.511Z"
   },
   {
    "duration": 0,
    "start_time": "2025-02-20T11:28:20.512Z"
   },
   {
    "duration": 0,
    "start_time": "2025-02-20T11:28:20.513Z"
   },
   {
    "duration": 1,
    "start_time": "2025-02-20T11:28:20.516Z"
   },
   {
    "duration": 1452,
    "start_time": "2025-02-20T11:28:32.030Z"
   },
   {
    "duration": 0,
    "start_time": "2025-02-20T11:28:33.485Z"
   },
   {
    "duration": 0,
    "start_time": "2025-02-20T11:28:33.486Z"
   },
   {
    "duration": 0,
    "start_time": "2025-02-20T11:28:33.487Z"
   },
   {
    "duration": 0,
    "start_time": "2025-02-20T11:28:33.488Z"
   },
   {
    "duration": 0,
    "start_time": "2025-02-20T11:28:33.490Z"
   },
   {
    "duration": 0,
    "start_time": "2025-02-20T11:28:33.500Z"
   },
   {
    "duration": 0,
    "start_time": "2025-02-20T11:28:33.501Z"
   },
   {
    "duration": 0,
    "start_time": "2025-02-20T11:28:33.503Z"
   },
   {
    "duration": 0,
    "start_time": "2025-02-20T11:28:33.505Z"
   },
   {
    "duration": 0,
    "start_time": "2025-02-20T11:28:33.507Z"
   },
   {
    "duration": 0,
    "start_time": "2025-02-20T11:28:33.509Z"
   },
   {
    "duration": 0,
    "start_time": "2025-02-20T11:28:33.511Z"
   },
   {
    "duration": 0,
    "start_time": "2025-02-20T11:28:33.512Z"
   },
   {
    "duration": 0,
    "start_time": "2025-02-20T11:28:33.514Z"
   },
   {
    "duration": 0,
    "start_time": "2025-02-20T11:28:33.516Z"
   },
   {
    "duration": 0,
    "start_time": "2025-02-20T11:28:33.518Z"
   },
   {
    "duration": 0,
    "start_time": "2025-02-20T11:28:33.519Z"
   },
   {
    "duration": 0,
    "start_time": "2025-02-20T11:28:33.521Z"
   },
   {
    "duration": 0,
    "start_time": "2025-02-20T11:28:33.522Z"
   },
   {
    "duration": 0,
    "start_time": "2025-02-20T11:28:33.524Z"
   },
   {
    "duration": 0,
    "start_time": "2025-02-20T11:28:33.526Z"
   },
   {
    "duration": 0,
    "start_time": "2025-02-20T11:28:33.527Z"
   },
   {
    "duration": 0,
    "start_time": "2025-02-20T11:28:33.529Z"
   },
   {
    "duration": 0,
    "start_time": "2025-02-20T11:28:33.530Z"
   },
   {
    "duration": 0,
    "start_time": "2025-02-20T11:28:33.533Z"
   },
   {
    "duration": 0,
    "start_time": "2025-02-20T11:28:33.534Z"
   },
   {
    "duration": 0,
    "start_time": "2025-02-20T11:28:33.536Z"
   },
   {
    "duration": 0,
    "start_time": "2025-02-20T11:28:33.537Z"
   },
   {
    "duration": 0,
    "start_time": "2025-02-20T11:28:33.538Z"
   },
   {
    "duration": 0,
    "start_time": "2025-02-20T11:28:33.539Z"
   },
   {
    "duration": 0,
    "start_time": "2025-02-20T11:28:33.540Z"
   },
   {
    "duration": 0,
    "start_time": "2025-02-20T11:28:33.542Z"
   },
   {
    "duration": 0,
    "start_time": "2025-02-20T11:28:33.543Z"
   },
   {
    "duration": 0,
    "start_time": "2025-02-20T11:28:33.544Z"
   },
   {
    "duration": 0,
    "start_time": "2025-02-20T11:28:33.545Z"
   },
   {
    "duration": 0,
    "start_time": "2025-02-20T11:28:33.547Z"
   },
   {
    "duration": 0,
    "start_time": "2025-02-20T11:28:33.605Z"
   },
   {
    "duration": 0,
    "start_time": "2025-02-20T11:28:33.606Z"
   },
   {
    "duration": 0,
    "start_time": "2025-02-20T11:28:33.610Z"
   },
   {
    "duration": 0,
    "start_time": "2025-02-20T11:28:33.611Z"
   },
   {
    "duration": 1285,
    "start_time": "2025-02-20T11:29:08.778Z"
   },
   {
    "duration": 84,
    "start_time": "2025-02-20T11:29:10.065Z"
   },
   {
    "duration": 8,
    "start_time": "2025-02-20T11:29:10.151Z"
   },
   {
    "duration": 41,
    "start_time": "2025-02-20T11:29:10.161Z"
   },
   {
    "duration": 25,
    "start_time": "2025-02-20T11:29:10.205Z"
   },
   {
    "duration": 94,
    "start_time": "2025-02-20T11:29:10.232Z"
   },
   {
    "duration": 56,
    "start_time": "2025-02-20T11:29:10.329Z"
   },
   {
    "duration": 20,
    "start_time": "2025-02-20T11:29:10.388Z"
   },
   {
    "duration": 6,
    "start_time": "2025-02-20T11:29:10.410Z"
   },
   {
    "duration": 59,
    "start_time": "2025-02-20T11:29:10.418Z"
   },
   {
    "duration": 59,
    "start_time": "2025-02-20T11:29:10.481Z"
   },
   {
    "duration": 13,
    "start_time": "2025-02-20T11:29:10.542Z"
   },
   {
    "duration": 25,
    "start_time": "2025-02-20T11:29:10.556Z"
   },
   {
    "duration": 13,
    "start_time": "2025-02-20T11:29:10.586Z"
   },
   {
    "duration": 254,
    "start_time": "2025-02-20T11:29:10.610Z"
   },
   {
    "duration": 11,
    "start_time": "2025-02-20T11:29:10.866Z"
   },
   {
    "duration": 10,
    "start_time": "2025-02-20T11:29:10.879Z"
   },
   {
    "duration": 93,
    "start_time": "2025-02-20T11:29:10.900Z"
   },
   {
    "duration": 21,
    "start_time": "2025-02-20T11:29:10.994Z"
   },
   {
    "duration": 417,
    "start_time": "2025-02-20T11:29:11.018Z"
   },
   {
    "duration": 11,
    "start_time": "2025-02-20T11:29:11.437Z"
   },
   {
    "duration": 42,
    "start_time": "2025-02-20T11:29:11.450Z"
   },
   {
    "duration": 975,
    "start_time": "2025-02-20T11:29:11.494Z"
   },
   {
    "duration": 13,
    "start_time": "2025-02-20T11:29:12.471Z"
   },
   {
    "duration": 877,
    "start_time": "2025-02-20T11:29:12.502Z"
   },
   {
    "duration": 35,
    "start_time": "2025-02-20T11:29:13.381Z"
   },
   {
    "duration": 12,
    "start_time": "2025-02-20T11:29:13.419Z"
   },
   {
    "duration": 15,
    "start_time": "2025-02-20T11:29:13.433Z"
   },
   {
    "duration": 34,
    "start_time": "2025-02-20T11:29:13.450Z"
   },
   {
    "duration": 32,
    "start_time": "2025-02-20T11:29:13.486Z"
   },
   {
    "duration": 841,
    "start_time": "2025-02-20T11:29:13.521Z"
   },
   {
    "duration": 871,
    "start_time": "2025-02-20T11:29:14.364Z"
   },
   {
    "duration": 4,
    "start_time": "2025-02-20T11:29:15.237Z"
   },
   {
    "duration": 61,
    "start_time": "2025-02-20T11:29:15.243Z"
   },
   {
    "duration": 3,
    "start_time": "2025-02-20T11:29:15.311Z"
   },
   {
    "duration": 30,
    "start_time": "2025-02-20T11:29:15.316Z"
   },
   {
    "duration": 50,
    "start_time": "2025-02-20T11:29:15.348Z"
   },
   {
    "duration": 14,
    "start_time": "2025-02-20T11:29:15.400Z"
   },
   {
    "duration": 8,
    "start_time": "2025-02-20T11:29:15.418Z"
   },
   {
    "duration": 13,
    "start_time": "2025-02-20T11:29:15.428Z"
   },
   {
    "duration": 1174,
    "start_time": "2025-02-20T11:29:15.445Z"
   },
   {
    "duration": 14,
    "start_time": "2025-02-20T11:30:51.612Z"
   },
   {
    "duration": 1337,
    "start_time": "2025-02-20T11:31:57.978Z"
   },
   {
    "duration": 1260,
    "start_time": "2025-02-20T11:32:10.161Z"
   },
   {
    "duration": 1153,
    "start_time": "2025-02-20T11:32:24.241Z"
   },
   {
    "duration": 13,
    "start_time": "2025-02-20T11:33:14.218Z"
   },
   {
    "duration": 143,
    "start_time": "2025-02-20T11:33:28.738Z"
   },
   {
    "duration": 154,
    "start_time": "2025-02-20T11:34:25.660Z"
   },
   {
    "duration": 140,
    "start_time": "2025-02-20T11:36:29.418Z"
   },
   {
    "duration": 1145,
    "start_time": "2025-02-20T11:36:42.478Z"
   },
   {
    "duration": 1112,
    "start_time": "2025-02-20T11:37:20.742Z"
   },
   {
    "duration": 95,
    "start_time": "2025-02-20T11:39:12.593Z"
   },
   {
    "duration": 1036,
    "start_time": "2025-02-20T11:39:17.744Z"
   },
   {
    "duration": 13,
    "start_time": "2025-02-20T11:39:34.907Z"
   },
   {
    "duration": 5,
    "start_time": "2025-02-20T11:39:44.689Z"
   },
   {
    "duration": 8,
    "start_time": "2025-02-20T11:39:52.403Z"
   },
   {
    "duration": 6,
    "start_time": "2025-02-20T11:39:57.937Z"
   },
   {
    "duration": 10,
    "start_time": "2025-02-20T11:40:54.362Z"
   },
   {
    "duration": 14,
    "start_time": "2025-02-20T11:40:59.299Z"
   },
   {
    "duration": 34,
    "start_time": "2025-02-20T11:42:01.704Z"
   },
   {
    "duration": 96,
    "start_time": "2025-02-20T11:43:40.015Z"
   },
   {
    "duration": 78,
    "start_time": "2025-02-20T11:43:47.091Z"
   },
   {
    "duration": 6,
    "start_time": "2025-02-20T11:43:58.814Z"
   },
   {
    "duration": 6,
    "start_time": "2025-02-20T11:44:11.711Z"
   },
   {
    "duration": 4,
    "start_time": "2025-02-20T11:44:26.430Z"
   },
   {
    "duration": 4,
    "start_time": "2025-02-20T11:44:33.614Z"
   },
   {
    "duration": 3,
    "start_time": "2025-02-20T11:44:36.912Z"
   },
   {
    "duration": 4,
    "start_time": "2025-02-20T11:44:44.726Z"
   },
   {
    "duration": 4,
    "start_time": "2025-02-20T11:44:50.942Z"
   },
   {
    "duration": 3,
    "start_time": "2025-02-20T11:45:11.391Z"
   },
   {
    "duration": 5,
    "start_time": "2025-02-20T11:45:17.543Z"
   },
   {
    "duration": 5,
    "start_time": "2025-02-20T11:45:39.112Z"
   },
   {
    "duration": 5,
    "start_time": "2025-02-20T11:45:46.176Z"
   },
   {
    "duration": 6,
    "start_time": "2025-02-20T11:46:07.287Z"
   },
   {
    "duration": 14,
    "start_time": "2025-02-20T11:46:59.833Z"
   },
   {
    "duration": 14,
    "start_time": "2025-02-20T11:47:09.250Z"
   },
   {
    "duration": 94,
    "start_time": "2025-02-20T11:47:18.249Z"
   },
   {
    "duration": 67,
    "start_time": "2025-02-20T11:47:21.977Z"
   },
   {
    "duration": 62,
    "start_time": "2025-02-20T11:47:26.065Z"
   },
   {
    "duration": 66,
    "start_time": "2025-02-20T11:47:38.521Z"
   },
   {
    "duration": 564,
    "start_time": "2025-02-20T11:47:45.274Z"
   },
   {
    "duration": 12,
    "start_time": "2025-02-20T11:47:57.754Z"
   },
   {
    "duration": 385,
    "start_time": "2025-02-20T11:48:09.042Z"
   },
   {
    "duration": 273,
    "start_time": "2025-02-20T11:48:18.546Z"
   },
   {
    "duration": 501,
    "start_time": "2025-02-20T11:48:30.098Z"
   },
   {
    "duration": 417,
    "start_time": "2025-02-20T11:48:35.515Z"
   },
   {
    "duration": 425,
    "start_time": "2025-02-20T11:48:39.107Z"
   },
   {
    "duration": 735,
    "start_time": "2025-02-20T11:48:45.764Z"
   },
   {
    "duration": 66,
    "start_time": "2025-02-20T11:49:07.571Z"
   },
   {
    "duration": 1042,
    "start_time": "2025-02-20T11:49:12.795Z"
   },
   {
    "duration": 757,
    "start_time": "2025-02-20T11:49:24.092Z"
   },
   {
    "duration": 587,
    "start_time": "2025-02-20T11:49:32.976Z"
   },
   {
    "duration": 336,
    "start_time": "2025-02-20T11:49:48.396Z"
   },
   {
    "duration": 537,
    "start_time": "2025-02-20T11:49:56.004Z"
   },
   {
    "duration": 604,
    "start_time": "2025-02-20T11:50:05.436Z"
   },
   {
    "duration": 55,
    "start_time": "2025-02-20T11:50:19.437Z"
   },
   {
    "duration": 65,
    "start_time": "2025-02-20T11:50:24.837Z"
   },
   {
    "duration": 540,
    "start_time": "2025-02-20T11:50:29.181Z"
   },
   {
    "duration": 733,
    "start_time": "2025-02-20T11:51:05.118Z"
   },
   {
    "duration": 12,
    "start_time": "2025-02-20T11:51:34.615Z"
   },
   {
    "duration": 8,
    "start_time": "2025-02-20T11:51:50.080Z"
   },
   {
    "duration": 21,
    "start_time": "2025-02-20T11:51:53.535Z"
   },
   {
    "duration": 241,
    "start_time": "2025-02-20T11:52:00.272Z"
   },
   {
    "duration": 40,
    "start_time": "2025-02-20T11:52:10.560Z"
   },
   {
    "duration": 28,
    "start_time": "2025-02-20T11:52:17.817Z"
   },
   {
    "duration": 28,
    "start_time": "2025-02-20T11:52:28.793Z"
   },
   {
    "duration": 29,
    "start_time": "2025-02-20T11:52:33.241Z"
   },
   {
    "duration": 28,
    "start_time": "2025-02-20T11:53:35.475Z"
   },
   {
    "duration": 28,
    "start_time": "2025-02-20T11:53:48.172Z"
   },
   {
    "duration": 561,
    "start_time": "2025-02-20T11:54:04.484Z"
   },
   {
    "duration": 137,
    "start_time": "2025-02-20T11:54:17.172Z"
   },
   {
    "duration": 131,
    "start_time": "2025-02-20T11:54:21.220Z"
   },
   {
    "duration": 180,
    "start_time": "2025-02-20T11:54:50.358Z"
   },
   {
    "duration": 1243,
    "start_time": "2025-02-20T11:56:14.326Z"
   },
   {
    "duration": 86,
    "start_time": "2025-02-20T11:56:15.571Z"
   },
   {
    "duration": 8,
    "start_time": "2025-02-20T11:56:15.660Z"
   },
   {
    "duration": 16,
    "start_time": "2025-02-20T11:56:15.670Z"
   },
   {
    "duration": 25,
    "start_time": "2025-02-20T11:56:15.688Z"
   },
   {
    "duration": 13,
    "start_time": "2025-02-20T11:56:15.715Z"
   },
   {
    "duration": 11,
    "start_time": "2025-02-20T11:56:15.730Z"
   },
   {
    "duration": 26,
    "start_time": "2025-02-20T11:56:15.742Z"
   },
   {
    "duration": 5,
    "start_time": "2025-02-20T11:56:15.770Z"
   },
   {
    "duration": 7,
    "start_time": "2025-02-20T11:56:15.776Z"
   },
   {
    "duration": 27,
    "start_time": "2025-02-20T11:56:15.784Z"
   },
   {
    "duration": 13,
    "start_time": "2025-02-20T11:56:15.813Z"
   },
   {
    "duration": 16,
    "start_time": "2025-02-20T11:56:15.828Z"
   },
   {
    "duration": 12,
    "start_time": "2025-02-20T11:56:15.847Z"
   },
   {
    "duration": 225,
    "start_time": "2025-02-20T11:56:15.861Z"
   },
   {
    "duration": 27,
    "start_time": "2025-02-20T11:56:16.088Z"
   },
   {
    "duration": 19,
    "start_time": "2025-02-20T11:56:16.117Z"
   },
   {
    "duration": 81,
    "start_time": "2025-02-20T11:56:16.138Z"
   },
   {
    "duration": 10,
    "start_time": "2025-02-20T11:56:16.221Z"
   },
   {
    "duration": 381,
    "start_time": "2025-02-20T11:56:16.233Z"
   },
   {
    "duration": 9,
    "start_time": "2025-02-20T11:56:16.616Z"
   },
   {
    "duration": 9,
    "start_time": "2025-02-20T11:56:16.627Z"
   },
   {
    "duration": 973,
    "start_time": "2025-02-20T11:56:16.638Z"
   },
   {
    "duration": 9,
    "start_time": "2025-02-20T11:56:17.614Z"
   },
   {
    "duration": 844,
    "start_time": "2025-02-20T11:56:17.625Z"
   },
   {
    "duration": 13,
    "start_time": "2025-02-20T11:56:18.471Z"
   },
   {
    "duration": 26,
    "start_time": "2025-02-20T11:56:18.486Z"
   },
   {
    "duration": 116,
    "start_time": "2025-02-20T11:56:18.513Z"
   },
   {
    "duration": 13,
    "start_time": "2025-02-20T11:56:18.631Z"
   },
   {
    "duration": 11,
    "start_time": "2025-02-20T11:56:18.645Z"
   },
   {
    "duration": 701,
    "start_time": "2025-02-20T11:56:18.658Z"
   },
   {
    "duration": 803,
    "start_time": "2025-02-20T11:56:19.361Z"
   },
   {
    "duration": 5,
    "start_time": "2025-02-20T11:56:20.166Z"
   },
   {
    "duration": 58,
    "start_time": "2025-02-20T11:56:20.173Z"
   },
   {
    "duration": 5,
    "start_time": "2025-02-20T11:56:20.233Z"
   },
   {
    "duration": 102,
    "start_time": "2025-02-20T11:56:20.240Z"
   },
   {
    "duration": 14,
    "start_time": "2025-02-20T11:56:20.344Z"
   },
   {
    "duration": 7,
    "start_time": "2025-02-20T11:56:20.361Z"
   },
   {
    "duration": 12,
    "start_time": "2025-02-20T11:56:20.370Z"
   },
   {
    "duration": 80,
    "start_time": "2025-02-20T11:56:20.385Z"
   },
   {
    "duration": 155,
    "start_time": "2025-02-20T11:56:20.470Z"
   },
   {
    "duration": 57,
    "start_time": "2025-02-20T12:01:49.727Z"
   },
   {
    "duration": 5,
    "start_time": "2025-02-20T12:01:54.311Z"
   },
   {
    "duration": 7,
    "start_time": "2025-02-20T12:02:04.897Z"
   },
   {
    "duration": 6,
    "start_time": "2025-02-20T12:02:14.511Z"
   },
   {
    "duration": 57,
    "start_time": "2025-02-20T12:19:18.064Z"
   },
   {
    "duration": 282,
    "start_time": "2025-02-20T12:19:28.184Z"
   },
   {
    "duration": 147,
    "start_time": "2025-02-20T12:19:58.376Z"
   },
   {
    "duration": 170,
    "start_time": "2025-02-20T12:20:56.020Z"
   },
   {
    "duration": 162,
    "start_time": "2025-02-20T12:24:03.469Z"
   },
   {
    "duration": 1306,
    "start_time": "2025-02-20T12:24:10.059Z"
   },
   {
    "duration": 81,
    "start_time": "2025-02-20T12:24:11.367Z"
   },
   {
    "duration": 10,
    "start_time": "2025-02-20T12:24:11.450Z"
   },
   {
    "duration": 14,
    "start_time": "2025-02-20T12:24:11.462Z"
   },
   {
    "duration": 13,
    "start_time": "2025-02-20T12:24:11.478Z"
   },
   {
    "duration": 37,
    "start_time": "2025-02-20T12:24:11.493Z"
   },
   {
    "duration": 11,
    "start_time": "2025-02-20T12:24:11.532Z"
   },
   {
    "duration": 26,
    "start_time": "2025-02-20T12:24:11.545Z"
   },
   {
    "duration": 5,
    "start_time": "2025-02-20T12:24:11.573Z"
   },
   {
    "duration": 34,
    "start_time": "2025-02-20T12:24:11.580Z"
   },
   {
    "duration": 6,
    "start_time": "2025-02-20T12:24:11.616Z"
   },
   {
    "duration": 10,
    "start_time": "2025-02-20T12:24:11.624Z"
   },
   {
    "duration": 15,
    "start_time": "2025-02-20T12:24:11.636Z"
   },
   {
    "duration": 24,
    "start_time": "2025-02-20T12:24:11.654Z"
   },
   {
    "duration": 204,
    "start_time": "2025-02-20T12:24:11.680Z"
   },
   {
    "duration": 19,
    "start_time": "2025-02-20T12:24:11.885Z"
   },
   {
    "duration": 22,
    "start_time": "2025-02-20T12:24:11.906Z"
   },
   {
    "duration": 87,
    "start_time": "2025-02-20T12:24:11.930Z"
   },
   {
    "duration": 10,
    "start_time": "2025-02-20T12:24:12.019Z"
   },
   {
    "duration": 405,
    "start_time": "2025-02-20T12:24:12.031Z"
   },
   {
    "duration": 8,
    "start_time": "2025-02-20T12:24:12.438Z"
   },
   {
    "duration": 150,
    "start_time": "2025-02-20T12:24:12.448Z"
   },
   {
    "duration": 1034,
    "start_time": "2025-02-20T12:24:12.600Z"
   },
   {
    "duration": 9,
    "start_time": "2025-02-20T12:24:13.636Z"
   },
   {
    "duration": 866,
    "start_time": "2025-02-20T12:24:13.647Z"
   },
   {
    "duration": 12,
    "start_time": "2025-02-20T12:24:14.515Z"
   },
   {
    "duration": 167,
    "start_time": "2025-02-20T12:24:14.529Z"
   },
   {
    "duration": 55,
    "start_time": "2025-02-20T12:24:14.698Z"
   },
   {
    "duration": 13,
    "start_time": "2025-02-20T12:24:14.755Z"
   },
   {
    "duration": 18,
    "start_time": "2025-02-20T12:24:14.769Z"
   },
   {
    "duration": 678,
    "start_time": "2025-02-20T12:24:14.788Z"
   },
   {
    "duration": 802,
    "start_time": "2025-02-20T12:24:15.467Z"
   },
   {
    "duration": 4,
    "start_time": "2025-02-20T12:24:16.271Z"
   },
   {
    "duration": 54,
    "start_time": "2025-02-20T12:24:16.277Z"
   },
   {
    "duration": 3,
    "start_time": "2025-02-20T12:24:16.333Z"
   },
   {
    "duration": 6,
    "start_time": "2025-02-20T12:24:16.338Z"
   },
   {
    "duration": 23,
    "start_time": "2025-02-20T12:24:16.346Z"
   },
   {
    "duration": 6,
    "start_time": "2025-02-20T12:24:16.371Z"
   },
   {
    "duration": 24,
    "start_time": "2025-02-20T12:24:16.379Z"
   },
   {
    "duration": 9,
    "start_time": "2025-02-20T12:24:16.404Z"
   },
   {
    "duration": 275,
    "start_time": "2025-02-20T12:24:16.417Z"
   },
   {
    "duration": 0,
    "start_time": "2025-02-20T12:24:16.694Z"
   },
   {
    "duration": 1359,
    "start_time": "2025-02-20T12:25:50.981Z"
   },
   {
    "duration": 1755,
    "start_time": "2025-02-20T12:26:34.970Z"
   },
   {
    "duration": 1373,
    "start_time": "2025-02-20T12:26:42.730Z"
   },
   {
    "duration": 1629,
    "start_time": "2025-02-20T12:27:34.243Z"
   },
   {
    "duration": 1504,
    "start_time": "2025-02-20T12:29:03.716Z"
   },
   {
    "duration": 1216,
    "start_time": "2025-02-20T12:29:11.707Z"
   },
   {
    "duration": 1093,
    "start_time": "2025-02-20T12:29:21.171Z"
   },
   {
    "duration": 1225,
    "start_time": "2025-02-20T12:29:30.636Z"
   },
   {
    "duration": 134,
    "start_time": "2025-02-20T12:30:29.973Z"
   },
   {
    "duration": 989,
    "start_time": "2025-02-20T12:30:38.453Z"
   },
   {
    "duration": 1013,
    "start_time": "2025-02-20T12:32:15.584Z"
   },
   {
    "duration": 1095,
    "start_time": "2025-02-20T12:32:31.118Z"
   },
   {
    "duration": 1279,
    "start_time": "2025-02-20T12:32:42.262Z"
   },
   {
    "duration": 70,
    "start_time": "2025-02-20T12:32:43.543Z"
   },
   {
    "duration": 9,
    "start_time": "2025-02-20T12:32:43.615Z"
   },
   {
    "duration": 6,
    "start_time": "2025-02-20T12:32:43.626Z"
   },
   {
    "duration": 13,
    "start_time": "2025-02-20T12:32:43.635Z"
   },
   {
    "duration": 13,
    "start_time": "2025-02-20T12:32:43.649Z"
   },
   {
    "duration": 37,
    "start_time": "2025-02-20T12:32:43.664Z"
   },
   {
    "duration": 12,
    "start_time": "2025-02-20T12:32:43.704Z"
   },
   {
    "duration": 7,
    "start_time": "2025-02-20T12:32:43.717Z"
   },
   {
    "duration": 7,
    "start_time": "2025-02-20T12:32:43.725Z"
   },
   {
    "duration": 18,
    "start_time": "2025-02-20T12:32:43.734Z"
   },
   {
    "duration": 13,
    "start_time": "2025-02-20T12:32:43.754Z"
   },
   {
    "duration": 41,
    "start_time": "2025-02-20T12:32:43.769Z"
   },
   {
    "duration": 12,
    "start_time": "2025-02-20T12:32:43.813Z"
   },
   {
    "duration": 253,
    "start_time": "2025-02-20T12:32:43.826Z"
   },
   {
    "duration": 21,
    "start_time": "2025-02-20T12:32:44.081Z"
   },
   {
    "duration": 43,
    "start_time": "2025-02-20T12:32:44.104Z"
   },
   {
    "duration": 79,
    "start_time": "2025-02-20T12:32:44.149Z"
   },
   {
    "duration": 11,
    "start_time": "2025-02-20T12:32:44.230Z"
   },
   {
    "duration": 371,
    "start_time": "2025-02-20T12:32:44.243Z"
   },
   {
    "duration": 10,
    "start_time": "2025-02-20T12:32:44.616Z"
   },
   {
    "duration": 111,
    "start_time": "2025-02-20T12:32:44.628Z"
   },
   {
    "duration": 943,
    "start_time": "2025-02-20T12:32:44.741Z"
   },
   {
    "duration": 20,
    "start_time": "2025-02-20T12:32:45.687Z"
   },
   {
    "duration": 886,
    "start_time": "2025-02-20T12:32:45.709Z"
   },
   {
    "duration": 15,
    "start_time": "2025-02-20T12:32:46.598Z"
   },
   {
    "duration": 131,
    "start_time": "2025-02-20T12:32:46.616Z"
   },
   {
    "duration": 16,
    "start_time": "2025-02-20T12:32:46.749Z"
   },
   {
    "duration": 22,
    "start_time": "2025-02-20T12:32:46.767Z"
   },
   {
    "duration": 16,
    "start_time": "2025-02-20T12:32:46.791Z"
   },
   {
    "duration": 651,
    "start_time": "2025-02-20T12:32:46.809Z"
   },
   {
    "duration": 815,
    "start_time": "2025-02-20T12:32:47.462Z"
   },
   {
    "duration": 4,
    "start_time": "2025-02-20T12:32:48.279Z"
   },
   {
    "duration": 54,
    "start_time": "2025-02-20T12:32:48.284Z"
   },
   {
    "duration": 4,
    "start_time": "2025-02-20T12:32:48.340Z"
   },
   {
    "duration": 14,
    "start_time": "2025-02-20T12:32:48.346Z"
   },
   {
    "duration": 16,
    "start_time": "2025-02-20T12:32:48.362Z"
   },
   {
    "duration": 22,
    "start_time": "2025-02-20T12:32:48.380Z"
   },
   {
    "duration": 9,
    "start_time": "2025-02-20T12:32:48.404Z"
   },
   {
    "duration": 10,
    "start_time": "2025-02-20T12:32:48.417Z"
   },
   {
    "duration": 170,
    "start_time": "2025-02-20T12:32:48.431Z"
   },
   {
    "duration": 2063,
    "start_time": "2025-02-20T12:32:48.604Z"
   },
   {
    "duration": 0,
    "start_time": "2025-02-20T12:32:50.669Z"
   },
   {
    "duration": 12,
    "start_time": "2025-02-20T12:33:19.286Z"
   },
   {
    "duration": 1017,
    "start_time": "2025-02-20T12:33:31.835Z"
   },
   {
    "duration": 1145,
    "start_time": "2025-02-20T12:33:59.708Z"
   },
   {
    "duration": 978,
    "start_time": "2025-02-20T12:34:08.636Z"
   },
   {
    "duration": 244,
    "start_time": "2025-02-20T12:34:19.267Z"
   },
   {
    "duration": 336,
    "start_time": "2025-02-20T12:34:29.300Z"
   },
   {
    "duration": 1148,
    "start_time": "2025-02-20T12:34:37.820Z"
   },
   {
    "duration": 1869,
    "start_time": "2025-02-20T12:37:27.927Z"
   },
   {
    "duration": 1047,
    "start_time": "2025-02-20T12:37:57.576Z"
   },
   {
    "duration": 214,
    "start_time": "2025-02-20T12:40:23.980Z"
   },
   {
    "duration": 148,
    "start_time": "2025-02-20T12:41:17.435Z"
   },
   {
    "duration": 18,
    "start_time": "2025-02-20T12:41:33.283Z"
   },
   {
    "duration": 188,
    "start_time": "2025-02-20T12:42:00.339Z"
   },
   {
    "duration": 438,
    "start_time": "2025-02-20T12:44:41.038Z"
   },
   {
    "duration": 339,
    "start_time": "2025-02-20T12:44:54.993Z"
   },
   {
    "duration": 2122,
    "start_time": "2025-02-20T12:47:19.249Z"
   },
   {
    "duration": 2051,
    "start_time": "2025-02-20T12:47:41.018Z"
   },
   {
    "duration": 1123,
    "start_time": "2025-02-20T12:49:21.643Z"
   },
   {
    "duration": 40,
    "start_time": "2025-02-20T12:50:38.548Z"
   },
   {
    "duration": 353,
    "start_time": "2025-02-20T12:52:42.599Z"
   },
   {
    "duration": 2139,
    "start_time": "2025-02-20T12:52:56.800Z"
   },
   {
    "duration": 1911,
    "start_time": "2025-02-20T12:54:20.432Z"
   },
   {
    "duration": 1918,
    "start_time": "2025-02-20T12:56:55.491Z"
   },
   {
    "duration": 308,
    "start_time": "2025-02-20T12:57:50.044Z"
   },
   {
    "duration": 11,
    "start_time": "2025-02-20T13:02:30.501Z"
   },
   {
    "duration": 1601,
    "start_time": "2025-02-20T13:02:45.111Z"
   },
   {
    "duration": 2176,
    "start_time": "2025-02-20T13:03:00.207Z"
   },
   {
    "duration": 4,
    "start_time": "2025-02-20T13:03:15.071Z"
   },
   {
    "duration": 136,
    "start_time": "2025-02-20T13:03:18.783Z"
   },
   {
    "duration": 3,
    "start_time": "2025-02-20T13:03:19.743Z"
   },
   {
    "duration": 2441,
    "start_time": "2025-02-20T13:03:22.679Z"
   },
   {
    "duration": 638,
    "start_time": "2025-02-20T13:03:41.392Z"
   },
   {
    "duration": 2081,
    "start_time": "2025-02-20T13:03:50.280Z"
   },
   {
    "duration": 475,
    "start_time": "2025-02-20T13:04:47.930Z"
   },
   {
    "duration": 444,
    "start_time": "2025-02-20T13:05:32.572Z"
   },
   {
    "duration": 453,
    "start_time": "2025-02-20T13:05:53.732Z"
   },
   {
    "duration": 552,
    "start_time": "2025-02-20T13:06:32.909Z"
   },
   {
    "duration": 439,
    "start_time": "2025-02-20T13:06:44.333Z"
   },
   {
    "duration": 164,
    "start_time": "2025-02-20T13:07:40.807Z"
   },
   {
    "duration": 147,
    "start_time": "2025-02-20T13:07:52.118Z"
   },
   {
    "duration": 472,
    "start_time": "2025-02-20T13:08:13.192Z"
   },
   {
    "duration": 11,
    "start_time": "2025-02-20T13:09:16.425Z"
   },
   {
    "duration": 5,
    "start_time": "2025-02-20T13:09:24.650Z"
   },
   {
    "duration": 5,
    "start_time": "2025-02-20T13:11:15.093Z"
   },
   {
    "duration": 120525,
    "start_time": "2025-02-20T13:13:11.003Z"
   },
   {
    "duration": 0,
    "start_time": "2025-02-20T13:15:11.530Z"
   },
   {
    "duration": 335,
    "start_time": "2025-02-20T13:15:16.874Z"
   },
   {
    "duration": 1298,
    "start_time": "2025-02-20T13:29:05.661Z"
   },
   {
    "duration": 73,
    "start_time": "2025-02-20T13:29:06.961Z"
   },
   {
    "duration": 8,
    "start_time": "2025-02-20T13:29:07.036Z"
   },
   {
    "duration": 19,
    "start_time": "2025-02-20T13:29:07.045Z"
   },
   {
    "duration": 14,
    "start_time": "2025-02-20T13:29:07.066Z"
   },
   {
    "duration": 13,
    "start_time": "2025-02-20T13:29:07.082Z"
   },
   {
    "duration": 30,
    "start_time": "2025-02-20T13:29:07.100Z"
   },
   {
    "duration": 12,
    "start_time": "2025-02-20T13:29:07.132Z"
   },
   {
    "duration": 6,
    "start_time": "2025-02-20T13:29:07.146Z"
   },
   {
    "duration": 20,
    "start_time": "2025-02-20T13:29:07.153Z"
   },
   {
    "duration": 28,
    "start_time": "2025-02-20T13:29:07.174Z"
   },
   {
    "duration": 47,
    "start_time": "2025-02-20T13:29:07.203Z"
   },
   {
    "duration": 26,
    "start_time": "2025-02-20T13:29:07.252Z"
   },
   {
    "duration": 22,
    "start_time": "2025-02-20T13:29:07.282Z"
   },
   {
    "duration": 239,
    "start_time": "2025-02-20T13:29:07.306Z"
   },
   {
    "duration": 11,
    "start_time": "2025-02-20T13:29:07.547Z"
   },
   {
    "duration": 11,
    "start_time": "2025-02-20T13:29:07.560Z"
   },
   {
    "duration": 93,
    "start_time": "2025-02-20T13:29:07.573Z"
   },
   {
    "duration": 10,
    "start_time": "2025-02-20T13:29:07.668Z"
   },
   {
    "duration": 380,
    "start_time": "2025-02-20T13:29:07.680Z"
   },
   {
    "duration": 10,
    "start_time": "2025-02-20T13:29:08.062Z"
   },
   {
    "duration": 64,
    "start_time": "2025-02-20T13:29:08.073Z"
   },
   {
    "duration": 925,
    "start_time": "2025-02-20T13:29:08.139Z"
   },
   {
    "duration": 9,
    "start_time": "2025-02-20T13:29:09.066Z"
   },
   {
    "duration": 830,
    "start_time": "2025-02-20T13:29:09.077Z"
   },
   {
    "duration": 15,
    "start_time": "2025-02-20T13:29:09.908Z"
   },
   {
    "duration": 95,
    "start_time": "2025-02-20T13:29:09.925Z"
   },
   {
    "duration": 38,
    "start_time": "2025-02-20T13:29:10.021Z"
   },
   {
    "duration": 25,
    "start_time": "2025-02-20T13:29:10.060Z"
   },
   {
    "duration": 26,
    "start_time": "2025-02-20T13:29:10.087Z"
   },
   {
    "duration": 676,
    "start_time": "2025-02-20T13:29:10.114Z"
   },
   {
    "duration": 886,
    "start_time": "2025-02-20T13:29:10.791Z"
   },
   {
    "duration": 5,
    "start_time": "2025-02-20T13:29:11.679Z"
   },
   {
    "duration": 53,
    "start_time": "2025-02-20T13:29:11.685Z"
   },
   {
    "duration": 4,
    "start_time": "2025-02-20T13:29:11.740Z"
   },
   {
    "duration": 17,
    "start_time": "2025-02-20T13:29:11.746Z"
   },
   {
    "duration": 44,
    "start_time": "2025-02-20T13:29:11.766Z"
   },
   {
    "duration": 10,
    "start_time": "2025-02-20T13:29:11.812Z"
   },
   {
    "duration": 7,
    "start_time": "2025-02-20T13:29:11.824Z"
   },
   {
    "duration": 9,
    "start_time": "2025-02-20T13:29:11.833Z"
   },
   {
    "duration": 131,
    "start_time": "2025-02-20T13:29:11.846Z"
   },
   {
    "duration": 0,
    "start_time": "2025-02-20T13:29:11.979Z"
   },
   {
    "duration": 0,
    "start_time": "2025-02-20T13:29:11.980Z"
   },
   {
    "duration": 603,
    "start_time": "2025-02-20T13:29:19.639Z"
   },
   {
    "duration": 329,
    "start_time": "2025-02-20T13:30:08.448Z"
   },
   {
    "duration": 485,
    "start_time": "2025-02-20T13:30:29.320Z"
   },
   {
    "duration": 490,
    "start_time": "2025-02-20T13:37:28.922Z"
   },
   {
    "duration": 724,
    "start_time": "2025-02-20T13:37:34.785Z"
   },
   {
    "duration": 308,
    "start_time": "2025-02-20T13:38:01.226Z"
   },
   {
    "duration": 347,
    "start_time": "2025-02-20T13:38:29.793Z"
   },
   {
    "duration": 287,
    "start_time": "2025-02-20T13:38:41.529Z"
   },
   {
    "duration": 312,
    "start_time": "2025-02-20T13:39:08.818Z"
   },
   {
    "duration": 301,
    "start_time": "2025-02-20T13:39:47.353Z"
   },
   {
    "duration": 299,
    "start_time": "2025-02-20T13:41:00.081Z"
   },
   {
    "duration": 6,
    "start_time": "2025-02-20T13:41:13.401Z"
   },
   {
    "duration": 292,
    "start_time": "2025-02-20T13:41:49.649Z"
   },
   {
    "duration": 275,
    "start_time": "2025-02-20T13:42:28.201Z"
   },
   {
    "duration": 283,
    "start_time": "2025-02-20T13:43:07.465Z"
   },
   {
    "duration": 60,
    "start_time": "2025-02-20T13:43:22.505Z"
   },
   {
    "duration": 270,
    "start_time": "2025-02-20T13:43:29.961Z"
   },
   {
    "duration": 305,
    "start_time": "2025-02-20T13:44:50.202Z"
   },
   {
    "duration": 143,
    "start_time": "2025-02-20T13:45:12.234Z"
   },
   {
    "duration": 149,
    "start_time": "2025-02-20T13:45:22.243Z"
   },
   {
    "duration": 303,
    "start_time": "2025-02-20T13:46:21.243Z"
   },
   {
    "duration": 299,
    "start_time": "2025-02-20T13:46:28.154Z"
   },
   {
    "duration": 10,
    "start_time": "2025-02-20T13:46:35.755Z"
   },
   {
    "duration": 1119,
    "start_time": "2025-02-20T13:48:24.652Z"
   },
   {
    "duration": 144,
    "start_time": "2025-02-20T13:48:44.372Z"
   },
   {
    "duration": 144,
    "start_time": "2025-02-20T13:48:54.484Z"
   },
   {
    "duration": 263,
    "start_time": "2025-02-20T13:48:59.956Z"
   },
   {
    "duration": 143,
    "start_time": "2025-02-20T13:49:17.021Z"
   },
   {
    "duration": 3,
    "start_time": "2025-02-20T13:49:38.604Z"
   },
   {
    "duration": 11,
    "start_time": "2025-02-20T13:51:23.109Z"
   },
   {
    "duration": 12,
    "start_time": "2025-02-20T13:51:30.862Z"
   },
   {
    "duration": 1235,
    "start_time": "2025-02-20T13:51:36.494Z"
   },
   {
    "duration": 10,
    "start_time": "2025-02-20T13:52:12.470Z"
   },
   {
    "duration": 149,
    "start_time": "2025-02-20T13:52:21.686Z"
   },
   {
    "duration": 144,
    "start_time": "2025-02-20T13:55:12.345Z"
   },
   {
    "duration": 137,
    "start_time": "2025-02-20T13:55:35.513Z"
   },
   {
    "duration": 146,
    "start_time": "2025-02-20T13:55:49.297Z"
   },
   {
    "duration": 56,
    "start_time": "2025-02-20T13:57:13.586Z"
   },
   {
    "duration": 1799,
    "start_time": "2025-02-20T13:57:23.026Z"
   },
   {
    "duration": 152,
    "start_time": "2025-02-20T13:57:52.763Z"
   },
   {
    "duration": 433,
    "start_time": "2025-02-20T14:01:50.638Z"
   },
   {
    "duration": 2074,
    "start_time": "2025-02-20T14:04:13.537Z"
   },
   {
    "duration": 2124,
    "start_time": "2025-02-20T14:04:59.497Z"
   },
   {
    "duration": 2171,
    "start_time": "2025-02-20T14:06:24.354Z"
   },
   {
    "duration": 2213,
    "start_time": "2025-02-20T14:06:39.818Z"
   },
   {
    "duration": 2077,
    "start_time": "2025-02-20T14:06:47.130Z"
   },
   {
    "duration": 289,
    "start_time": "2025-02-20T14:08:36.967Z"
   },
   {
    "duration": 139,
    "start_time": "2025-02-20T14:08:43.703Z"
   },
   {
    "duration": 233,
    "start_time": "2025-02-20T14:08:44.847Z"
   },
   {
    "duration": 1337,
    "start_time": "2025-02-20T14:09:21.517Z"
   },
   {
    "duration": 72,
    "start_time": "2025-02-20T14:09:22.856Z"
   },
   {
    "duration": 8,
    "start_time": "2025-02-20T14:09:22.930Z"
   },
   {
    "duration": 7,
    "start_time": "2025-02-20T14:09:22.940Z"
   },
   {
    "duration": 13,
    "start_time": "2025-02-20T14:09:22.949Z"
   },
   {
    "duration": 12,
    "start_time": "2025-02-20T14:09:22.964Z"
   },
   {
    "duration": 23,
    "start_time": "2025-02-20T14:09:22.977Z"
   },
   {
    "duration": 12,
    "start_time": "2025-02-20T14:09:23.002Z"
   },
   {
    "duration": 6,
    "start_time": "2025-02-20T14:09:23.015Z"
   },
   {
    "duration": 7,
    "start_time": "2025-02-20T14:09:23.022Z"
   },
   {
    "duration": 11,
    "start_time": "2025-02-20T14:09:23.030Z"
   },
   {
    "duration": 60,
    "start_time": "2025-02-20T14:09:23.042Z"
   },
   {
    "duration": 16,
    "start_time": "2025-02-20T14:09:23.104Z"
   },
   {
    "duration": 11,
    "start_time": "2025-02-20T14:09:23.123Z"
   },
   {
    "duration": 223,
    "start_time": "2025-02-20T14:09:23.136Z"
   },
   {
    "duration": 10,
    "start_time": "2025-02-20T14:09:23.361Z"
   },
   {
    "duration": 12,
    "start_time": "2025-02-20T14:09:23.373Z"
   },
   {
    "duration": 90,
    "start_time": "2025-02-20T14:09:23.387Z"
   },
   {
    "duration": 10,
    "start_time": "2025-02-20T14:09:23.478Z"
   },
   {
    "duration": 361,
    "start_time": "2025-02-20T14:09:23.490Z"
   },
   {
    "duration": 9,
    "start_time": "2025-02-20T14:09:23.854Z"
   },
   {
    "duration": 12,
    "start_time": "2025-02-20T14:09:23.865Z"
   },
   {
    "duration": 944,
    "start_time": "2025-02-20T14:09:23.900Z"
   },
   {
    "duration": 10,
    "start_time": "2025-02-20T14:09:24.846Z"
   },
   {
    "duration": 871,
    "start_time": "2025-02-20T14:09:24.857Z"
   },
   {
    "duration": 15,
    "start_time": "2025-02-20T14:09:25.730Z"
   },
   {
    "duration": 11,
    "start_time": "2025-02-20T14:09:25.746Z"
   },
   {
    "duration": 15,
    "start_time": "2025-02-20T14:09:25.759Z"
   },
   {
    "duration": 12,
    "start_time": "2025-02-20T14:09:25.800Z"
   },
   {
    "duration": 11,
    "start_time": "2025-02-20T14:09:25.814Z"
   },
   {
    "duration": 709,
    "start_time": "2025-02-20T14:09:25.827Z"
   },
   {
    "duration": 811,
    "start_time": "2025-02-20T14:09:26.538Z"
   },
   {
    "duration": 3,
    "start_time": "2025-02-20T14:09:27.351Z"
   },
   {
    "duration": 56,
    "start_time": "2025-02-20T14:09:27.357Z"
   },
   {
    "duration": 3,
    "start_time": "2025-02-20T14:09:27.415Z"
   },
   {
    "duration": 22,
    "start_time": "2025-02-20T14:09:27.421Z"
   },
   {
    "duration": 36,
    "start_time": "2025-02-20T14:09:27.445Z"
   },
   {
    "duration": 7,
    "start_time": "2025-02-20T14:09:27.483Z"
   },
   {
    "duration": 7,
    "start_time": "2025-02-20T14:09:27.492Z"
   },
   {
    "duration": 10,
    "start_time": "2025-02-20T14:09:27.500Z"
   },
   {
    "duration": 151,
    "start_time": "2025-02-20T14:09:27.514Z"
   },
   {
    "duration": 303,
    "start_time": "2025-02-20T14:09:27.667Z"
   },
   {
    "duration": 5,
    "start_time": "2025-02-20T14:09:27.972Z"
   },
   {
    "duration": 323,
    "start_time": "2025-02-20T14:09:27.979Z"
   },
   {
    "duration": 280,
    "start_time": "2025-02-20T14:13:38.138Z"
   },
   {
    "duration": 1307,
    "start_time": "2025-02-20T14:14:27.754Z"
   },
   {
    "duration": 73,
    "start_time": "2025-02-20T14:14:29.063Z"
   },
   {
    "duration": 8,
    "start_time": "2025-02-20T14:14:29.138Z"
   },
   {
    "duration": 7,
    "start_time": "2025-02-20T14:14:29.148Z"
   },
   {
    "duration": 12,
    "start_time": "2025-02-20T14:14:29.158Z"
   },
   {
    "duration": 62,
    "start_time": "2025-02-20T14:14:29.172Z"
   },
   {
    "duration": 11,
    "start_time": "2025-02-20T14:14:29.237Z"
   },
   {
    "duration": 21,
    "start_time": "2025-02-20T14:14:29.251Z"
   },
   {
    "duration": 6,
    "start_time": "2025-02-20T14:14:29.274Z"
   },
   {
    "duration": 11,
    "start_time": "2025-02-20T14:14:29.281Z"
   },
   {
    "duration": 18,
    "start_time": "2025-02-20T14:14:29.293Z"
   },
   {
    "duration": 26,
    "start_time": "2025-02-20T14:14:29.313Z"
   },
   {
    "duration": 14,
    "start_time": "2025-02-20T14:14:29.341Z"
   },
   {
    "duration": 11,
    "start_time": "2025-02-20T14:14:29.359Z"
   },
   {
    "duration": 206,
    "start_time": "2025-02-20T14:14:29.371Z"
   },
   {
    "duration": 24,
    "start_time": "2025-02-20T14:14:29.579Z"
   },
   {
    "duration": 8,
    "start_time": "2025-02-20T14:14:29.607Z"
   },
   {
    "duration": 84,
    "start_time": "2025-02-20T14:14:29.617Z"
   },
   {
    "duration": 12,
    "start_time": "2025-02-20T14:14:29.706Z"
   },
   {
    "duration": 381,
    "start_time": "2025-02-20T14:14:29.719Z"
   },
   {
    "duration": 15,
    "start_time": "2025-02-20T14:14:30.102Z"
   },
   {
    "duration": 48,
    "start_time": "2025-02-20T14:14:30.118Z"
   },
   {
    "duration": 991,
    "start_time": "2025-02-20T14:14:30.168Z"
   },
   {
    "duration": 10,
    "start_time": "2025-02-20T14:14:31.160Z"
   },
   {
    "duration": 868,
    "start_time": "2025-02-20T14:14:31.172Z"
   },
   {
    "duration": 14,
    "start_time": "2025-02-20T14:14:32.041Z"
   },
   {
    "duration": 38,
    "start_time": "2025-02-20T14:14:32.057Z"
   },
   {
    "duration": 47,
    "start_time": "2025-02-20T14:14:32.096Z"
   },
   {
    "duration": 25,
    "start_time": "2025-02-20T14:14:32.144Z"
   },
   {
    "duration": 13,
    "start_time": "2025-02-20T14:14:32.171Z"
   },
   {
    "duration": 681,
    "start_time": "2025-02-20T14:14:32.186Z"
   },
   {
    "duration": 811,
    "start_time": "2025-02-20T14:14:32.868Z"
   },
   {
    "duration": 4,
    "start_time": "2025-02-20T14:14:33.681Z"
   },
   {
    "duration": 106,
    "start_time": "2025-02-20T14:14:33.687Z"
   },
   {
    "duration": 3,
    "start_time": "2025-02-20T14:14:33.795Z"
   },
   {
    "duration": 21,
    "start_time": "2025-02-20T14:14:33.812Z"
   },
   {
    "duration": 35,
    "start_time": "2025-02-20T14:14:33.834Z"
   },
   {
    "duration": 27,
    "start_time": "2025-02-20T14:14:33.871Z"
   },
   {
    "duration": 40,
    "start_time": "2025-02-20T14:14:33.912Z"
   },
   {
    "duration": 35,
    "start_time": "2025-02-20T14:14:33.955Z"
   },
   {
    "duration": 157,
    "start_time": "2025-02-20T14:14:33.995Z"
   },
   {
    "duration": 286,
    "start_time": "2025-02-20T14:14:34.153Z"
   },
   {
    "duration": 5,
    "start_time": "2025-02-20T14:14:34.440Z"
   },
   {
    "duration": 376,
    "start_time": "2025-02-20T14:14:34.447Z"
   },
   {
    "duration": 1409,
    "start_time": "2025-02-20T14:32:22.679Z"
   },
   {
    "duration": 80,
    "start_time": "2025-02-20T14:32:24.090Z"
   },
   {
    "duration": 8,
    "start_time": "2025-02-20T14:32:24.172Z"
   },
   {
    "duration": 23,
    "start_time": "2025-02-20T14:32:24.182Z"
   },
   {
    "duration": 11,
    "start_time": "2025-02-20T14:32:24.207Z"
   },
   {
    "duration": 16,
    "start_time": "2025-02-20T14:32:24.220Z"
   },
   {
    "duration": 12,
    "start_time": "2025-02-20T14:32:24.238Z"
   },
   {
    "duration": 14,
    "start_time": "2025-02-20T14:32:24.252Z"
   },
   {
    "duration": 14,
    "start_time": "2025-02-20T14:32:24.267Z"
   },
   {
    "duration": 12,
    "start_time": "2025-02-20T14:32:24.284Z"
   },
   {
    "duration": 8,
    "start_time": "2025-02-20T14:32:24.298Z"
   },
   {
    "duration": 25,
    "start_time": "2025-02-20T14:32:24.308Z"
   },
   {
    "duration": 16,
    "start_time": "2025-02-20T14:32:24.335Z"
   },
   {
    "duration": 40,
    "start_time": "2025-02-20T14:32:24.353Z"
   },
   {
    "duration": 207,
    "start_time": "2025-02-20T14:32:24.394Z"
   },
   {
    "duration": 10,
    "start_time": "2025-02-20T14:32:24.603Z"
   },
   {
    "duration": 20,
    "start_time": "2025-02-20T14:32:24.615Z"
   },
   {
    "duration": 76,
    "start_time": "2025-02-20T14:32:24.636Z"
   },
   {
    "duration": 19,
    "start_time": "2025-02-20T14:32:24.714Z"
   },
   {
    "duration": 343,
    "start_time": "2025-02-20T14:32:24.735Z"
   },
   {
    "duration": 8,
    "start_time": "2025-02-20T14:32:25.080Z"
   },
   {
    "duration": 11,
    "start_time": "2025-02-20T14:32:25.090Z"
   },
   {
    "duration": 892,
    "start_time": "2025-02-20T14:32:25.103Z"
   },
   {
    "duration": 9,
    "start_time": "2025-02-20T14:32:25.996Z"
   },
   {
    "duration": 800,
    "start_time": "2025-02-20T14:32:26.007Z"
   },
   {
    "duration": 26,
    "start_time": "2025-02-20T14:32:26.809Z"
   },
   {
    "duration": 10,
    "start_time": "2025-02-20T14:32:26.837Z"
   },
   {
    "duration": 19,
    "start_time": "2025-02-20T14:32:26.850Z"
   },
   {
    "duration": 21,
    "start_time": "2025-02-20T14:32:26.871Z"
   },
   {
    "duration": 22,
    "start_time": "2025-02-20T14:32:26.894Z"
   },
   {
    "duration": 665,
    "start_time": "2025-02-20T14:32:26.917Z"
   },
   {
    "duration": 787,
    "start_time": "2025-02-20T14:32:27.584Z"
   },
   {
    "duration": 3,
    "start_time": "2025-02-20T14:32:28.373Z"
   },
   {
    "duration": 39,
    "start_time": "2025-02-20T14:32:28.378Z"
   },
   {
    "duration": 14,
    "start_time": "2025-02-20T14:32:28.419Z"
   },
   {
    "duration": 11,
    "start_time": "2025-02-20T14:32:28.435Z"
   },
   {
    "duration": 12,
    "start_time": "2025-02-20T14:32:28.447Z"
   },
   {
    "duration": 11,
    "start_time": "2025-02-20T14:32:28.461Z"
   },
   {
    "duration": 11,
    "start_time": "2025-02-20T14:32:28.473Z"
   },
   {
    "duration": 9,
    "start_time": "2025-02-20T14:32:28.485Z"
   },
   {
    "duration": 159,
    "start_time": "2025-02-20T14:32:28.495Z"
   },
   {
    "duration": 259,
    "start_time": "2025-02-20T14:32:28.656Z"
   },
   {
    "duration": 16,
    "start_time": "2025-02-20T14:32:28.916Z"
   },
   {
    "duration": 299,
    "start_time": "2025-02-20T14:32:28.934Z"
   },
   {
    "duration": 1242,
    "start_time": "2025-02-20T18:29:51.457Z"
   },
   {
    "duration": 84,
    "start_time": "2025-02-20T18:29:52.701Z"
   },
   {
    "duration": 9,
    "start_time": "2025-02-20T18:29:52.787Z"
   },
   {
    "duration": 39,
    "start_time": "2025-02-20T18:29:52.799Z"
   },
   {
    "duration": 47,
    "start_time": "2025-02-20T18:29:52.839Z"
   },
   {
    "duration": 57,
    "start_time": "2025-02-20T18:29:52.887Z"
   },
   {
    "duration": 37,
    "start_time": "2025-02-20T18:29:52.945Z"
   },
   {
    "duration": 37,
    "start_time": "2025-02-20T18:29:52.983Z"
   },
   {
    "duration": 29,
    "start_time": "2025-02-20T18:29:53.022Z"
   },
   {
    "duration": 33,
    "start_time": "2025-02-20T18:29:53.054Z"
   },
   {
    "duration": 44,
    "start_time": "2025-02-20T18:29:53.089Z"
   },
   {
    "duration": 42,
    "start_time": "2025-02-20T18:29:53.135Z"
   },
   {
    "duration": 33,
    "start_time": "2025-02-20T18:29:53.179Z"
   },
   {
    "duration": 34,
    "start_time": "2025-02-20T18:29:53.214Z"
   },
   {
    "duration": 209,
    "start_time": "2025-02-20T18:29:53.250Z"
   },
   {
    "duration": 11,
    "start_time": "2025-02-20T18:29:53.461Z"
   },
   {
    "duration": 32,
    "start_time": "2025-02-20T18:29:53.473Z"
   },
   {
    "duration": 97,
    "start_time": "2025-02-20T18:29:53.507Z"
   },
   {
    "duration": 10,
    "start_time": "2025-02-20T18:29:53.606Z"
   },
   {
    "duration": 382,
    "start_time": "2025-02-20T18:29:53.618Z"
   },
   {
    "duration": 8,
    "start_time": "2025-02-20T18:29:54.002Z"
   },
   {
    "duration": 29,
    "start_time": "2025-02-20T18:29:54.012Z"
   },
   {
    "duration": 897,
    "start_time": "2025-02-20T18:29:54.042Z"
   },
   {
    "duration": 9,
    "start_time": "2025-02-20T18:29:54.941Z"
   },
   {
    "duration": 813,
    "start_time": "2025-02-20T18:29:54.952Z"
   },
   {
    "duration": 14,
    "start_time": "2025-02-20T18:29:55.767Z"
   },
   {
    "duration": 22,
    "start_time": "2025-02-20T18:29:55.783Z"
   },
   {
    "duration": 23,
    "start_time": "2025-02-20T18:29:55.808Z"
   },
   {
    "duration": 36,
    "start_time": "2025-02-20T18:29:55.833Z"
   },
   {
    "duration": 21,
    "start_time": "2025-02-20T18:29:55.871Z"
   },
   {
    "duration": 686,
    "start_time": "2025-02-20T18:29:55.894Z"
   },
   {
    "duration": 804,
    "start_time": "2025-02-20T18:29:56.582Z"
   },
   {
    "duration": 3,
    "start_time": "2025-02-20T18:29:57.388Z"
   },
   {
    "duration": 52,
    "start_time": "2025-02-20T18:29:57.393Z"
   },
   {
    "duration": 3,
    "start_time": "2025-02-20T18:29:57.447Z"
   },
   {
    "duration": 33,
    "start_time": "2025-02-20T18:29:57.452Z"
   },
   {
    "duration": 20,
    "start_time": "2025-02-20T18:29:57.487Z"
   },
   {
    "duration": 17,
    "start_time": "2025-02-20T18:29:57.509Z"
   },
   {
    "duration": 28,
    "start_time": "2025-02-20T18:29:57.528Z"
   },
   {
    "duration": 44,
    "start_time": "2025-02-20T18:29:57.558Z"
   },
   {
    "duration": 181,
    "start_time": "2025-02-20T18:29:57.604Z"
   },
   {
    "duration": 333,
    "start_time": "2025-02-20T18:29:57.788Z"
   },
   {
    "duration": 13,
    "start_time": "2025-02-20T18:29:58.122Z"
   },
   {
    "duration": 303,
    "start_time": "2025-02-20T18:29:58.137Z"
   },
   {
    "duration": 1435,
    "start_time": "2025-02-24T07:23:05.007Z"
   },
   {
    "duration": 72,
    "start_time": "2025-02-24T07:23:06.445Z"
   },
   {
    "duration": 8,
    "start_time": "2025-02-24T07:23:06.519Z"
   },
   {
    "duration": 6,
    "start_time": "2025-02-24T07:23:06.529Z"
   },
   {
    "duration": 12,
    "start_time": "2025-02-24T07:23:06.537Z"
   },
   {
    "duration": 29,
    "start_time": "2025-02-24T07:23:06.551Z"
   },
   {
    "duration": 15,
    "start_time": "2025-02-24T07:23:06.581Z"
   },
   {
    "duration": 18,
    "start_time": "2025-02-24T07:23:06.597Z"
   },
   {
    "duration": 5,
    "start_time": "2025-02-24T07:23:06.617Z"
   },
   {
    "duration": 6,
    "start_time": "2025-02-24T07:23:06.624Z"
   },
   {
    "duration": 6,
    "start_time": "2025-02-24T07:23:06.631Z"
   },
   {
    "duration": 39,
    "start_time": "2025-02-24T07:23:06.639Z"
   },
   {
    "duration": 25,
    "start_time": "2025-02-24T07:23:06.679Z"
   },
   {
    "duration": 11,
    "start_time": "2025-02-24T07:23:06.709Z"
   },
   {
    "duration": 216,
    "start_time": "2025-02-24T07:23:06.722Z"
   },
   {
    "duration": 10,
    "start_time": "2025-02-24T07:23:06.940Z"
   },
   {
    "duration": 21,
    "start_time": "2025-02-24T07:23:06.952Z"
   },
   {
    "duration": 74,
    "start_time": "2025-02-24T07:23:06.975Z"
   },
   {
    "duration": 25,
    "start_time": "2025-02-24T07:23:07.051Z"
   },
   {
    "duration": 366,
    "start_time": "2025-02-24T07:23:07.077Z"
   },
   {
    "duration": 12,
    "start_time": "2025-02-24T07:23:07.445Z"
   },
   {
    "duration": 11,
    "start_time": "2025-02-24T07:23:07.471Z"
   },
   {
    "duration": 904,
    "start_time": "2025-02-24T07:23:07.484Z"
   },
   {
    "duration": 10,
    "start_time": "2025-02-24T07:23:08.389Z"
   },
   {
    "duration": 847,
    "start_time": "2025-02-24T07:23:08.401Z"
   },
   {
    "duration": 22,
    "start_time": "2025-02-24T07:23:09.250Z"
   },
   {
    "duration": 10,
    "start_time": "2025-02-24T07:23:09.274Z"
   },
   {
    "duration": 21,
    "start_time": "2025-02-24T07:23:09.286Z"
   },
   {
    "duration": 12,
    "start_time": "2025-02-24T07:23:09.309Z"
   },
   {
    "duration": 11,
    "start_time": "2025-02-24T07:23:09.323Z"
   },
   {
    "duration": 686,
    "start_time": "2025-02-24T07:23:09.336Z"
   },
   {
    "duration": 829,
    "start_time": "2025-02-24T07:23:10.023Z"
   },
   {
    "duration": 4,
    "start_time": "2025-02-24T07:23:10.853Z"
   },
   {
    "duration": 50,
    "start_time": "2025-02-24T07:23:10.859Z"
   },
   {
    "duration": 3,
    "start_time": "2025-02-24T07:23:10.910Z"
   },
   {
    "duration": 6,
    "start_time": "2025-02-24T07:23:10.915Z"
   },
   {
    "duration": 14,
    "start_time": "2025-02-24T07:23:10.923Z"
   },
   {
    "duration": 33,
    "start_time": "2025-02-24T07:23:10.939Z"
   },
   {
    "duration": 7,
    "start_time": "2025-02-24T07:23:10.975Z"
   },
   {
    "duration": 10,
    "start_time": "2025-02-24T07:23:10.984Z"
   },
   {
    "duration": 193,
    "start_time": "2025-02-24T07:23:10.998Z"
   },
   {
    "duration": 285,
    "start_time": "2025-02-24T07:23:11.193Z"
   },
   {
    "duration": 6,
    "start_time": "2025-02-24T07:23:11.481Z"
   },
   {
    "duration": 314,
    "start_time": "2025-02-24T07:23:11.489Z"
   },
   {
    "duration": 73,
    "start_time": "2025-02-24T07:24:22.468Z"
   },
   {
    "duration": 1247,
    "start_time": "2025-02-24T07:24:37.173Z"
   },
   {
    "duration": 82,
    "start_time": "2025-02-24T07:24:38.423Z"
   },
   {
    "duration": 9,
    "start_time": "2025-02-24T07:24:38.507Z"
   },
   {
    "duration": 14,
    "start_time": "2025-02-24T07:24:38.518Z"
   },
   {
    "duration": 11,
    "start_time": "2025-02-24T07:24:38.535Z"
   },
   {
    "duration": 12,
    "start_time": "2025-02-24T07:24:38.548Z"
   },
   {
    "duration": 16,
    "start_time": "2025-02-24T07:24:38.562Z"
   },
   {
    "duration": 12,
    "start_time": "2025-02-24T07:24:38.579Z"
   },
   {
    "duration": 5,
    "start_time": "2025-02-24T07:24:38.593Z"
   },
   {
    "duration": 6,
    "start_time": "2025-02-24T07:24:38.600Z"
   },
   {
    "duration": 10,
    "start_time": "2025-02-24T07:24:38.608Z"
   },
   {
    "duration": 9,
    "start_time": "2025-02-24T07:24:38.620Z"
   },
   {
    "duration": 50,
    "start_time": "2025-02-24T07:24:38.631Z"
   },
   {
    "duration": 11,
    "start_time": "2025-02-24T07:24:38.684Z"
   },
   {
    "duration": 221,
    "start_time": "2025-02-24T07:24:38.697Z"
   },
   {
    "duration": 10,
    "start_time": "2025-02-24T07:24:38.920Z"
   },
   {
    "duration": 35,
    "start_time": "2025-02-24T07:24:38.932Z"
   },
   {
    "duration": 75,
    "start_time": "2025-02-24T07:24:38.969Z"
   },
   {
    "duration": 10,
    "start_time": "2025-02-24T07:24:39.045Z"
   },
   {
    "duration": 373,
    "start_time": "2025-02-24T07:24:39.057Z"
   },
   {
    "duration": 10,
    "start_time": "2025-02-24T07:24:39.432Z"
   },
   {
    "duration": 28,
    "start_time": "2025-02-24T07:24:39.444Z"
   },
   {
    "duration": 893,
    "start_time": "2025-02-24T07:24:39.474Z"
   },
   {
    "duration": 9,
    "start_time": "2025-02-24T07:24:40.372Z"
   },
   {
    "duration": 817,
    "start_time": "2025-02-24T07:24:40.383Z"
   },
   {
    "duration": 17,
    "start_time": "2025-02-24T07:24:41.202Z"
   },
   {
    "duration": 13,
    "start_time": "2025-02-24T07:24:41.221Z"
   },
   {
    "duration": 37,
    "start_time": "2025-02-24T07:24:41.237Z"
   },
   {
    "duration": 13,
    "start_time": "2025-02-24T07:24:41.276Z"
   },
   {
    "duration": 12,
    "start_time": "2025-02-24T07:24:41.290Z"
   },
   {
    "duration": 707,
    "start_time": "2025-02-24T07:24:41.304Z"
   },
   {
    "duration": 834,
    "start_time": "2025-02-24T07:24:42.013Z"
   },
   {
    "duration": 5,
    "start_time": "2025-02-24T07:24:42.849Z"
   },
   {
    "duration": 54,
    "start_time": "2025-02-24T07:24:42.856Z"
   },
   {
    "duration": 4,
    "start_time": "2025-02-24T07:24:42.912Z"
   },
   {
    "duration": 6,
    "start_time": "2025-02-24T07:24:42.918Z"
   },
   {
    "duration": 14,
    "start_time": "2025-02-24T07:24:42.926Z"
   },
   {
    "duration": 34,
    "start_time": "2025-02-24T07:24:42.942Z"
   },
   {
    "duration": 7,
    "start_time": "2025-02-24T07:24:42.978Z"
   },
   {
    "duration": 10,
    "start_time": "2025-02-24T07:24:42.987Z"
   },
   {
    "duration": 173,
    "start_time": "2025-02-24T07:24:43.002Z"
   },
   {
    "duration": 278,
    "start_time": "2025-02-24T07:24:43.177Z"
   },
   {
    "duration": 16,
    "start_time": "2025-02-24T07:24:43.456Z"
   },
   {
    "duration": 302,
    "start_time": "2025-02-24T07:24:43.474Z"
   },
   {
    "duration": 93,
    "start_time": "2025-02-24T07:27:50.730Z"
   },
   {
    "duration": 83,
    "start_time": "2025-02-24T07:28:08.418Z"
   },
   {
    "duration": 96,
    "start_time": "2025-02-24T07:28:16.130Z"
   },
   {
    "duration": 179,
    "start_time": "2025-02-24T07:29:49.557Z"
   },
   {
    "duration": 61,
    "start_time": "2025-02-24T07:30:09.197Z"
   },
   {
    "duration": 91,
    "start_time": "2025-02-24T07:30:40.302Z"
   },
   {
    "duration": 91,
    "start_time": "2025-02-24T07:30:57.174Z"
   },
   {
    "duration": 66,
    "start_time": "2025-02-24T07:31:26.343Z"
   },
   {
    "duration": 280,
    "start_time": "2025-02-24T07:37:08.677Z"
   },
   {
    "duration": 55,
    "start_time": "2025-02-24T07:37:13.141Z"
   },
   {
    "duration": 4,
    "start_time": "2025-02-24T07:38:09.246Z"
   },
   {
    "duration": 80,
    "start_time": "2025-02-24T07:41:11.187Z"
   },
   {
    "duration": 1297,
    "start_time": "2025-02-24T07:41:24.732Z"
   },
   {
    "duration": 82,
    "start_time": "2025-02-24T07:41:26.032Z"
   },
   {
    "duration": 4,
    "start_time": "2025-02-24T07:41:26.116Z"
   },
   {
    "duration": 8,
    "start_time": "2025-02-24T07:41:26.122Z"
   },
   {
    "duration": 16,
    "start_time": "2025-02-24T07:41:26.133Z"
   },
   {
    "duration": 21,
    "start_time": "2025-02-24T07:41:26.151Z"
   },
   {
    "duration": 11,
    "start_time": "2025-02-24T07:41:26.174Z"
   },
   {
    "duration": 13,
    "start_time": "2025-02-24T07:41:26.187Z"
   },
   {
    "duration": 5,
    "start_time": "2025-02-24T07:41:26.202Z"
   },
   {
    "duration": 7,
    "start_time": "2025-02-24T07:41:26.209Z"
   },
   {
    "duration": 6,
    "start_time": "2025-02-24T07:41:26.218Z"
   },
   {
    "duration": 46,
    "start_time": "2025-02-24T07:41:26.226Z"
   },
   {
    "duration": 15,
    "start_time": "2025-02-24T07:41:26.274Z"
   },
   {
    "duration": 13,
    "start_time": "2025-02-24T07:41:26.293Z"
   },
   {
    "duration": 226,
    "start_time": "2025-02-24T07:41:26.309Z"
   },
   {
    "duration": 10,
    "start_time": "2025-02-24T07:41:26.537Z"
   },
   {
    "duration": 6,
    "start_time": "2025-02-24T07:41:26.549Z"
   },
   {
    "duration": 76,
    "start_time": "2025-02-24T07:41:26.572Z"
   },
   {
    "duration": 25,
    "start_time": "2025-02-24T07:41:26.651Z"
   },
   {
    "duration": 376,
    "start_time": "2025-02-24T07:41:26.679Z"
   },
   {
    "duration": 16,
    "start_time": "2025-02-24T07:41:27.057Z"
   },
   {
    "duration": 9,
    "start_time": "2025-02-24T07:41:27.075Z"
   },
   {
    "duration": 948,
    "start_time": "2025-02-24T07:41:27.086Z"
   },
   {
    "duration": 10,
    "start_time": "2025-02-24T07:41:28.037Z"
   },
   {
    "duration": 894,
    "start_time": "2025-02-24T07:41:28.049Z"
   },
   {
    "duration": 27,
    "start_time": "2025-02-24T07:41:28.945Z"
   },
   {
    "duration": 14,
    "start_time": "2025-02-24T07:41:28.974Z"
   },
   {
    "duration": 26,
    "start_time": "2025-02-24T07:41:28.991Z"
   },
   {
    "duration": 19,
    "start_time": "2025-02-24T07:41:29.019Z"
   },
   {
    "duration": 36,
    "start_time": "2025-02-24T07:41:29.041Z"
   },
   {
    "duration": 668,
    "start_time": "2025-02-24T07:41:29.079Z"
   },
   {
    "duration": 868,
    "start_time": "2025-02-24T07:41:29.749Z"
   },
   {
    "duration": 6,
    "start_time": "2025-02-24T07:41:30.620Z"
   },
   {
    "duration": 101,
    "start_time": "2025-02-24T07:41:30.628Z"
   },
   {
    "duration": 3,
    "start_time": "2025-02-24T07:41:30.731Z"
   },
   {
    "duration": 11,
    "start_time": "2025-02-24T07:41:30.735Z"
   },
   {
    "duration": 48,
    "start_time": "2025-02-24T07:41:30.747Z"
   },
   {
    "duration": 28,
    "start_time": "2025-02-24T07:41:30.797Z"
   },
   {
    "duration": 33,
    "start_time": "2025-02-24T07:41:30.827Z"
   },
   {
    "duration": 30,
    "start_time": "2025-02-24T07:41:30.862Z"
   },
   {
    "duration": 165,
    "start_time": "2025-02-24T07:41:30.896Z"
   },
   {
    "duration": 324,
    "start_time": "2025-02-24T07:41:31.063Z"
   },
   {
    "duration": 6,
    "start_time": "2025-02-24T07:41:31.390Z"
   },
   {
    "duration": 324,
    "start_time": "2025-02-24T07:41:31.398Z"
   },
   {
    "duration": 1304,
    "start_time": "2025-02-24T07:57:01.247Z"
   },
   {
    "duration": 86,
    "start_time": "2025-02-24T07:57:02.554Z"
   },
   {
    "duration": 3,
    "start_time": "2025-02-24T07:57:02.646Z"
   },
   {
    "duration": 34,
    "start_time": "2025-02-24T07:57:02.653Z"
   },
   {
    "duration": 27,
    "start_time": "2025-02-24T07:57:02.690Z"
   },
   {
    "duration": 19,
    "start_time": "2025-02-24T07:57:02.719Z"
   },
   {
    "duration": 12,
    "start_time": "2025-02-24T07:57:02.741Z"
   },
   {
    "duration": 41,
    "start_time": "2025-02-24T07:57:02.755Z"
   },
   {
    "duration": 10,
    "start_time": "2025-02-24T07:57:02.798Z"
   },
   {
    "duration": 9,
    "start_time": "2025-02-24T07:57:02.810Z"
   },
   {
    "duration": 13,
    "start_time": "2025-02-24T07:57:02.821Z"
   },
   {
    "duration": 21,
    "start_time": "2025-02-24T07:57:02.836Z"
   },
   {
    "duration": 62,
    "start_time": "2025-02-24T07:57:02.861Z"
   },
   {
    "duration": 14,
    "start_time": "2025-02-24T07:57:02.925Z"
   },
   {
    "duration": 216,
    "start_time": "2025-02-24T07:57:02.941Z"
   },
   {
    "duration": 21,
    "start_time": "2025-02-24T07:57:03.160Z"
   },
   {
    "duration": 30,
    "start_time": "2025-02-24T07:57:03.184Z"
   },
   {
    "duration": 99,
    "start_time": "2025-02-24T07:57:03.216Z"
   },
   {
    "duration": 12,
    "start_time": "2025-02-24T07:57:03.317Z"
   },
   {
    "duration": 407,
    "start_time": "2025-02-24T07:57:03.331Z"
   },
   {
    "duration": 9,
    "start_time": "2025-02-24T07:57:03.741Z"
   },
   {
    "duration": 29,
    "start_time": "2025-02-24T07:57:03.752Z"
   },
   {
    "duration": 942,
    "start_time": "2025-02-24T07:57:03.783Z"
   },
   {
    "duration": 10,
    "start_time": "2025-02-24T07:57:04.728Z"
   },
   {
    "duration": 868,
    "start_time": "2025-02-24T07:57:04.739Z"
   },
   {
    "duration": 19,
    "start_time": "2025-02-24T07:57:05.610Z"
   },
   {
    "duration": 10,
    "start_time": "2025-02-24T07:57:05.632Z"
   },
   {
    "duration": 42,
    "start_time": "2025-02-24T07:57:05.644Z"
   },
   {
    "duration": 31,
    "start_time": "2025-02-24T07:57:05.688Z"
   },
   {
    "duration": 18,
    "start_time": "2025-02-24T07:57:05.721Z"
   },
   {
    "duration": 680,
    "start_time": "2025-02-24T07:57:05.741Z"
   },
   {
    "duration": 830,
    "start_time": "2025-02-24T07:57:06.423Z"
   },
   {
    "duration": 4,
    "start_time": "2025-02-24T07:57:07.255Z"
   },
   {
    "duration": 63,
    "start_time": "2025-02-24T07:57:07.261Z"
   },
   {
    "duration": 4,
    "start_time": "2025-02-24T07:57:07.326Z"
   },
   {
    "duration": 7,
    "start_time": "2025-02-24T07:57:07.332Z"
   },
   {
    "duration": 33,
    "start_time": "2025-02-24T07:57:07.340Z"
   },
   {
    "duration": 10,
    "start_time": "2025-02-24T07:57:07.375Z"
   },
   {
    "duration": 12,
    "start_time": "2025-02-24T07:57:07.387Z"
   },
   {
    "duration": 10,
    "start_time": "2025-02-24T07:57:07.403Z"
   },
   {
    "duration": 199,
    "start_time": "2025-02-24T07:57:07.415Z"
   },
   {
    "duration": 326,
    "start_time": "2025-02-24T07:57:07.616Z"
   },
   {
    "duration": 6,
    "start_time": "2025-02-24T07:57:07.943Z"
   },
   {
    "duration": 330,
    "start_time": "2025-02-24T07:57:07.951Z"
   },
   {
    "duration": 1207,
    "start_time": "2025-02-24T17:22:44.794Z"
   },
   {
    "duration": 74,
    "start_time": "2025-02-24T17:22:46.003Z"
   },
   {
    "duration": 3,
    "start_time": "2025-02-24T17:22:46.079Z"
   },
   {
    "duration": 12,
    "start_time": "2025-02-24T17:22:46.084Z"
   },
   {
    "duration": 15,
    "start_time": "2025-02-24T17:22:46.097Z"
   },
   {
    "duration": 10,
    "start_time": "2025-02-24T17:22:46.114Z"
   },
   {
    "duration": 9,
    "start_time": "2025-02-24T17:22:46.126Z"
   },
   {
    "duration": 35,
    "start_time": "2025-02-24T17:22:46.137Z"
   },
   {
    "duration": 6,
    "start_time": "2025-02-24T17:22:46.174Z"
   },
   {
    "duration": 7,
    "start_time": "2025-02-24T17:22:46.182Z"
   },
   {
    "duration": 8,
    "start_time": "2025-02-24T17:22:46.190Z"
   },
   {
    "duration": 19,
    "start_time": "2025-02-24T17:22:46.200Z"
   },
   {
    "duration": 16,
    "start_time": "2025-02-24T17:22:46.221Z"
   },
   {
    "duration": 32,
    "start_time": "2025-02-24T17:22:46.238Z"
   },
   {
    "duration": 208,
    "start_time": "2025-02-24T17:22:46.272Z"
   },
   {
    "duration": 11,
    "start_time": "2025-02-24T17:22:46.481Z"
   },
   {
    "duration": 31,
    "start_time": "2025-02-24T17:22:46.494Z"
   },
   {
    "duration": 72,
    "start_time": "2025-02-24T17:22:46.527Z"
   },
   {
    "duration": 10,
    "start_time": "2025-02-24T17:22:46.601Z"
   },
   {
    "duration": 363,
    "start_time": "2025-02-24T17:22:46.613Z"
   },
   {
    "duration": 10,
    "start_time": "2025-02-24T17:22:46.977Z"
   },
   {
    "duration": 14,
    "start_time": "2025-02-24T17:22:46.989Z"
   },
   {
    "duration": 897,
    "start_time": "2025-02-24T17:22:47.004Z"
   },
   {
    "duration": 9,
    "start_time": "2025-02-24T17:22:47.902Z"
   },
   {
    "duration": 798,
    "start_time": "2025-02-24T17:22:47.913Z"
   },
   {
    "duration": 13,
    "start_time": "2025-02-24T17:22:48.714Z"
   },
   {
    "duration": 14,
    "start_time": "2025-02-24T17:22:48.728Z"
   },
   {
    "duration": 32,
    "start_time": "2025-02-24T17:22:48.745Z"
   },
   {
    "duration": 14,
    "start_time": "2025-02-24T17:22:48.780Z"
   },
   {
    "duration": 11,
    "start_time": "2025-02-24T17:22:48.796Z"
   },
   {
    "duration": 694,
    "start_time": "2025-02-24T17:22:48.809Z"
   },
   {
    "duration": 818,
    "start_time": "2025-02-24T17:22:49.505Z"
   },
   {
    "duration": 4,
    "start_time": "2025-02-24T17:22:50.325Z"
   },
   {
    "duration": 67,
    "start_time": "2025-02-24T17:22:50.331Z"
   },
   {
    "duration": 3,
    "start_time": "2025-02-24T17:22:50.400Z"
   },
   {
    "duration": 27,
    "start_time": "2025-02-24T17:22:50.405Z"
   },
   {
    "duration": 101,
    "start_time": "2025-02-24T17:22:50.433Z"
   },
   {
    "duration": 5,
    "start_time": "2025-02-24T17:22:50.536Z"
   },
   {
    "duration": 6,
    "start_time": "2025-02-24T17:22:50.542Z"
   },
   {
    "duration": 8,
    "start_time": "2025-02-24T17:22:50.550Z"
   },
   {
    "duration": 154,
    "start_time": "2025-02-24T17:22:50.560Z"
   },
   {
    "duration": 257,
    "start_time": "2025-02-24T17:22:50.716Z"
   },
   {
    "duration": 6,
    "start_time": "2025-02-24T17:22:50.974Z"
   },
   {
    "duration": 299,
    "start_time": "2025-02-24T17:22:50.981Z"
   }
  ],
  "kernelspec": {
   "display_name": "Python 3 (ipykernel)",
   "language": "python",
   "name": "python3"
  },
  "language_info": {
   "codemirror_mode": {
    "name": "ipython",
    "version": 3
   },
   "file_extension": ".py",
   "mimetype": "text/x-python",
   "name": "python",
   "nbconvert_exporter": "python",
   "pygments_lexer": "ipython3",
   "version": "3.9.5"
  },
  "toc": {
   "base_numbering": 1,
   "nav_menu": {},
   "number_sections": true,
   "sideBar": true,
   "skip_h1_title": true,
   "title_cell": "Table of Contents",
   "title_sidebar": "Contents",
   "toc_cell": false,
   "toc_position": {},
   "toc_section_display": true,
   "toc_window_display": false
  }
 },
 "nbformat": 4,
 "nbformat_minor": 5
}
